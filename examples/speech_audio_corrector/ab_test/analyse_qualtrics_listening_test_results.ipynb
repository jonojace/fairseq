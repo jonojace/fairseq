{
 "cells": [
  {
   "cell_type": "code",
   "execution_count": 80,
   "id": "dbb39c45-26ef-45b3-bba6-3f90b5193f22",
   "metadata": {},
   "outputs": [],
   "source": [
    "from collections import defaultdict, Counter\n",
    "import numpy as np\n",
    "import pandas as pd"
   ]
  },
  {
   "cell_type": "code",
   "execution_count": 81,
   "id": "44c1923f-76c7-4d82-b9f0-491512f5af04",
   "metadata": {},
   "outputs": [],
   "source": [
    "NUM_ANS = 78\n",
    "POSSIBLE_ANSWERS = [1,2,3]\n",
    "participants_to_exclude = [\n",
    "    \"jason fong\",\n",
    "    \"Dan test\",\n",
    "    \"not applicable\",\n",
    "]\n",
    "NUM_PARTICIPANTS_PER_TEST = 15\n",
    "\n",
    "def get_aggregated_answers(csv_path):\n",
    "    # load data from each test from csvs\n",
    "    with open(csv_path) as f:\n",
    "        all_lines = f.readlines()\n",
    "\n",
    "    # only get the lines referring to specific participants\n",
    "    lines = [l for l in all_lines if \"anonymous,EN\" in l]\n",
    "    \n",
    "    # exclude some participants\n",
    "    new_lines = []\n",
    "    for l in lines:\n",
    "        exclude_participant = False\n",
    "        for participant in participants_to_exclude:\n",
    "            if participant in l:\n",
    "                exclude_participant = True\n",
    "                print(\"excluding\", participant)\n",
    "        if exclude_participant:\n",
    "            pass\n",
    "        else:\n",
    "            new_lines.append(l)\n",
    "            \n",
    "    lines = new_lines\n",
    "\n",
    "    aggregated_answers = defaultdict(Counter) # aggregated over all participants, key is question num, value is dict of answers to answer counts\n",
    "    \"\"\"\n",
    "    aggregated_answers = {\n",
    "        question1: {\n",
    "            ans1: count_of_ans1,\n",
    "            ans2: count_of_ans2,\n",
    "            ans3: count_of_ans3,\n",
    "        }, \n",
    "        question2: {\n",
    "            ans1: count_of_ans1,\n",
    "            ans2: count_of_ans2,\n",
    "            ans3: count_of_ans3,\n",
    "        }, \n",
    "        ...\n",
    "    }\n",
    "    \"\"\"\n",
    "    \n",
    "    print(f\"after filtering found {len(lines)} participants in {csv_path} which != {NUM_PARTICIPANTS_PER_TEST}\")\n",
    "    # assert len(lines) == NUM_PARTICIPANTS_PER_TEST\n",
    "    \n",
    "    lines = lines[:NUM_PARTICIPANTS_PER_TEST] # exclude latest participants (they shouldnt have been recruited!!!!)\n",
    "\n",
    "    for line in lines:\n",
    "        # get the answers for each participant\n",
    "        answers = line.split(\"anonymous,EN\")[-1].split(',')[3:-1] # upto but excluding last element as last question in survey is confirmation of working audio\n",
    "        answers = [int(ans) for ans in answers]\n",
    "\n",
    "        # assert that we have the correct number of answers and that they have the correct values\n",
    "        assert len(answers) == NUM_ANS, len(answers)\n",
    "        for ans in answers:\n",
    "            assert ans in POSSIBLE_ANSWERS\n",
    "\n",
    "        # aggregate the answer for this participant\n",
    "        for question_num, ans in enumerate(answers, 1):\n",
    "            aggregated_answers[question_num][ans] += 1\n",
    "            \n",
    "    return aggregated_answers"
   ]
  },
  {
   "cell_type": "code",
   "execution_count": 82,
   "id": "ae904975-1406-41e2-80d8-29f39f90e6f2",
   "metadata": {
    "tags": []
   },
   "outputs": [],
   "source": [
    "# create testnum + uttnum -> pair of conditions -> conditions mapping \n",
    "ranges = [ # range of questions related to each condition pair\n",
    "    (0,13), # for first condition pair\n",
    "    (13,26), # for second condition pair\n",
    "    (26,39), # etc.\n",
    "    (39,52),\n",
    "    (52,65),\n",
    "    (65,78),\n",
    "]\n",
    "\n",
    "testnum2conditionpairs = { \n",
    "    1: ('A','B','F','C','E','D'), # test num to condition pairs \n",
    "    2: ('B','C','A','D','F','E'), \n",
    "    3: ('C','D','B','E','A','F'),\n",
    "    4: ('D','E','C','F','B','A'),\n",
    "    5: ('E','F','D','A','C','B'),\n",
    "    6: ('F','A','E','B','D','C'),\n",
    "}\n",
    "\n",
    "letter2conditionpair = {\n",
    "    'A': (\"sac_grapheme\", \"vanillatts_grapheme\"), # condition pair to system on left and system on right\n",
    "    'B': (\"sac_speechcode_us\", \"vanillatts_grapheme\"),\n",
    "    'C': (\"sac_speechcode_us\", \"sac_grapheme\"),\n",
    "    'D': (\"sac_speechcode_scot\", \"vanillatts_grapheme\"),\n",
    "    'E': (\"sac_speechcode_scot\", \"sac_grapheme\"),\n",
    "    'F': (\"sac_speechcode_scot\", \"sac_speechcode_us\"),\n",
    "}\n",
    "    \n",
    "def get_conditions(test_num, utt_num):\n",
    "    assert 1 <= test_num <= 6\n",
    "    assert 1 <= utt_num <= NUM_ANS\n",
    "\n",
    "    # get the condition pair\n",
    "    for condition_pair_idx, r in enumerate(ranges):\n",
    "        if r[0] < utt_num <= r[1]:\n",
    "            condition_pair = testnum2conditionpairs[test_num][condition_pair_idx]\n",
    "            break\n",
    "\n",
    "    # get the conditions from the condition pair\n",
    "    cond1, cond2 = letter2conditionpair[condition_pair]\n",
    "    # print(\"test_num\", test_num, \"utt_num\", utt_num, \"condition_pair\", condition_pair,\"cond1\", cond1, \"cond2\", cond2)\n",
    "    \n",
    "    return cond1, cond2"
   ]
  },
  {
   "cell_type": "code",
   "execution_count": 83,
   "id": "651c99f7-aaff-414a-940a-2f3a275bb746",
   "metadata": {},
   "outputs": [],
   "source": [
    "def get_conditionpair2wincounts(aggregated_answers, test_num):\n",
    "\n",
    "    conditionpair2wincounts = Counter()\n",
    "    \"\"\"\n",
    "    conditionpair2wincounts = {\n",
    "        (cond1,cond2): 5, # cond1 beats cond2 5 times\n",
    "        (cond2,cond1): 50 # cond2 beats cond1 50 times\n",
    "    }\n",
    "\n",
    "    NB ties/draws give 0.5 of a win to both conditions\n",
    "    \"\"\"\n",
    "    \n",
    "    conditionpair2numwins_and_numdraws = defaultdict(Counter)\n",
    "    \"\"\"\n",
    "    conditionpair2numwins_and_numdraws = {\n",
    "        (cond1,cond2): {\n",
    "            wins: 20\n",
    "            draws: 12\n",
    "        },\n",
    "        (cond2,cond1): {\n",
    "            wins: 5\n",
    "            draws: 4\n",
    "        } \n",
    "        ...\n",
    "    }\n",
    "    \"\"\"\n",
    "    \n",
    "\n",
    "    # add wins to systems based on aggregated_answers and the pair of conditions\n",
    "    for utt_num, answer2counts in aggregated_answers.items():\n",
    "        # print(utt_num, answer2counts)\n",
    "        cond1, cond2 = get_conditions(test_num, utt_num)\n",
    "        if 1 in answer2counts: # cond1 won\n",
    "            conditionpair2wincounts[(cond1, cond2)] += answer2counts[1]\n",
    "            conditionpair2numwins_and_numdraws[(cond1, cond2)]['wins'] += answer2counts[1]\n",
    "        if 2 in answer2counts: # cond2 won\n",
    "            conditionpair2wincounts[(cond2, cond1)] += answer2counts[2]\n",
    "            conditionpair2numwins_and_numdraws[(cond2, cond1)]['wins'] += answer2counts[2]\n",
    "        if 3 in answer2counts: # cond1 and 2 drew\n",
    "            conditionpair2wincounts[(cond1, cond2)] += 0.5 * answer2counts[3]\n",
    "            # print(\"conditionpair2wincounts[(cond1, cond2)]\", conditionpair2wincounts[(cond1, cond2)])\n",
    "            conditionpair2wincounts[(cond2, cond1)] += 0.5 * answer2counts[3]\n",
    "            conditionpair2numwins_and_numdraws[(cond1, cond2)]['draws'] += answer2counts[3]\n",
    "            conditionpair2numwins_and_numdraws[(cond2, cond1)]['draws'] += answer2counts[3]\n",
    "\n",
    "    return conditionpair2wincounts, conditionpair2numwins_and_numdraws"
   ]
  },
  {
   "cell_type": "code",
   "execution_count": 84,
   "id": "9d4bfc58-6ff2-4261-bb40-1abd6d21155b",
   "metadata": {
    "tags": []
   },
   "outputs": [
    {
     "name": "stdout",
     "output_type": "stream",
     "text": [
      "excluding jason fong\n",
      "excluding Dan test\n",
      "excluding not applicable\n",
      "after filtering found 17 participants in listening_test_data/IS2022 - Test 1 - Final_March 21, 2022_15.36.csv which != 15\n",
      "after filtering found 15 participants in listening_test_data/IS2022 - Test 2 - Final_March 21, 2022_15.37.csv which != 15\n",
      "after filtering found 15 participants in listening_test_data/IS2022 - Test 3 - Final_March 21, 2022_15.37.csv which != 15\n",
      "after filtering found 16 participants in listening_test_data/IS2022 - Test 4 - Final_March 21, 2022_15.38.csv which != 15\n",
      "after filtering found 15 participants in listening_test_data/IS2022 - Test 5 - Final_March 21, 2022_15.41.csv which != 15\n",
      "after filtering found 15 participants in listening_test_data/IS2022 - Test 6 - Final_March 21, 2022_15.41.csv which != 15\n"
     ]
    }
   ],
   "source": [
    "# use testnum + uttnum -> pair of conditions -> conditions mapping \n",
    "# to assemble counts of how many times one condition beats another condition\n",
    "paths = [\n",
    "    # \"listening_test_data/IS2022 - Test 1 - Final_March 21, 2022_05.18.csv\",\n",
    "    # \"listening_test_data/IS2022 - Test 2 - Final_March 21, 2022_05.19.csv\",\n",
    "    # \"listening_test_data/IS2022 - Test 3 - Final_March 21, 2022_05.19.csv\",\n",
    "    # \"listening_test_data/IS2022 - Test 4 - Final_March 21, 2022_05.19.csv\",\n",
    "    # \"listening_test_data/IS2022 - Test 5 - Final_March 21, 2022_05.20.csv\",\n",
    "    # \"listening_test_data/IS2022 - Test 6 - Final_March 21, 2022_05.20.csv\",\n",
    "\"listening_test_data/IS2022 - Test 1 - Final_March 21, 2022_15.36.csv\",\n",
    "\"listening_test_data/IS2022 - Test 2 - Final_March 21, 2022_15.37.csv\",\n",
    "\"listening_test_data/IS2022 - Test 3 - Final_March 21, 2022_15.37.csv\",\n",
    "\"listening_test_data/IS2022 - Test 4 - Final_March 21, 2022_15.38.csv\",\n",
    "\"listening_test_data/IS2022 - Test 5 - Final_March 21, 2022_15.41.csv\",\n",
    "\"listening_test_data/IS2022 - Test 6 - Final_March 21, 2022_15.41.csv\",\n",
    "]\n",
    "\n",
    "alltests_conditionpair2wincounts = Counter()\n",
    "alltests_conditionpair2numwins_and_numdraws = defaultdict(Counter)\n",
    "\n",
    "# aggregate the wins across all the 6 tests\n",
    "for test_num, csv_path in enumerate(paths, 1):\n",
    "    conditionpair2wincounts, conditionpair2numwins_and_numdraws = get_conditionpair2wincounts(get_aggregated_answers(csv_path), test_num)\n",
    "    for conditionpair, wincount in conditionpair2wincounts.items():\n",
    "        # print(\"DEBUG\", test_num, csv_path, conditionpair, wincount)\n",
    "        alltests_conditionpair2wincounts[conditionpair] += wincount\n",
    "        \n",
    "    for conditionpair,numwins_and_numdraws in conditionpair2numwins_and_numdraws.items():\n",
    "        # print(alltests_conditionpair2wincounts)\n",
    "        # print(numwins_and_numdraws)\n",
    "        alltests_conditionpair2numwins_and_numdraws[conditionpair]['wins'] += numwins_and_numdraws['wins']\n",
    "        alltests_conditionpair2numwins_and_numdraws[conditionpair]['draws'] += numwins_and_numdraws['draws']"
   ]
  },
  {
   "cell_type": "code",
   "execution_count": 85,
   "id": "e7e4ecdf-9556-45d9-a2ce-548837168734",
   "metadata": {},
   "outputs": [
    {
     "data": {
      "text/plain": [
       "defaultdict(collections.Counter,\n",
       "            {('sac_grapheme',\n",
       "              'vanillatts_grapheme'): Counter({'wins': 175, 'draws': 781}),\n",
       "             ('vanillatts_grapheme',\n",
       "              'sac_grapheme'): Counter({'wins': 214, 'draws': 781}),\n",
       "             ('sac_speechcode_us',\n",
       "              'vanillatts_grapheme'): Counter({'wins': 800, 'draws': 214}),\n",
       "             ('vanillatts_grapheme',\n",
       "              'sac_speechcode_us'): Counter({'wins': 156, 'draws': 214}),\n",
       "             ('sac_speechcode_scot',\n",
       "              'sac_speechcode_us'): Counter({'wins': 314, 'draws': 363}),\n",
       "             ('sac_speechcode_us',\n",
       "              'sac_speechcode_scot'): Counter({'wins': 493, 'draws': 363}),\n",
       "             ('sac_speechcode_us',\n",
       "              'sac_grapheme'): Counter({'wins': 848, 'draws': 214}),\n",
       "             ('sac_grapheme',\n",
       "              'sac_speechcode_us'): Counter({'wins': 108, 'draws': 214}),\n",
       "             ('sac_speechcode_scot',\n",
       "              'sac_grapheme'): Counter({'wins': 716, 'draws': 277}),\n",
       "             ('sac_grapheme',\n",
       "              'sac_speechcode_scot'): Counter({'wins': 177, 'draws': 277}),\n",
       "             ('sac_speechcode_scot',\n",
       "              'vanillatts_grapheme'): Counter({'wins': 697, 'draws': 254}),\n",
       "             ('vanillatts_grapheme',\n",
       "              'sac_speechcode_scot'): Counter({'wins': 219, 'draws': 254})})"
      ]
     },
     "execution_count": 85,
     "metadata": {},
     "output_type": "execute_result"
    }
   ],
   "source": [
    "alltests_conditionpair2numwins_and_numdraws"
   ]
  },
  {
   "cell_type": "code",
   "execution_count": 86,
   "id": "1d6c4fc3-606e-440c-b114-0d71ab316dd8",
   "metadata": {},
   "outputs": [
    {
     "data": {
      "text/plain": [
       "Counter({('sac_grapheme', 'vanillatts_grapheme'): 565.5,\n",
       "         ('vanillatts_grapheme', 'sac_grapheme'): 604.5,\n",
       "         ('sac_speechcode_us', 'vanillatts_grapheme'): 907.0,\n",
       "         ('vanillatts_grapheme', 'sac_speechcode_us'): 263.0,\n",
       "         ('sac_speechcode_scot', 'sac_speechcode_us'): 495.5,\n",
       "         ('sac_speechcode_us', 'sac_speechcode_scot'): 674.5,\n",
       "         ('sac_speechcode_us', 'sac_grapheme'): 955.0,\n",
       "         ('sac_grapheme', 'sac_speechcode_us'): 215.0,\n",
       "         ('sac_speechcode_scot', 'sac_grapheme'): 854.5,\n",
       "         ('sac_grapheme', 'sac_speechcode_scot'): 315.5,\n",
       "         ('sac_speechcode_scot', 'vanillatts_grapheme'): 824.0,\n",
       "         ('vanillatts_grapheme', 'sac_speechcode_scot'): 346.0})"
      ]
     },
     "execution_count": 86,
     "metadata": {},
     "output_type": "execute_result"
    }
   ],
   "source": [
    "# visualise this counts matrix\n",
    "alltests_conditionpair2wincounts"
   ]
  },
  {
   "cell_type": "code",
   "execution_count": 87,
   "id": "63d2be13-7081-4fc3-a0e7-f5110bcb7148",
   "metadata": {},
   "outputs": [],
   "source": [
    "# save counts matrix in format ready for R and bradley terry analysis (perfmod version of BTL)\n",
    "c = np.zeros((4,4), dtype=float)\n",
    "\n",
    "# description from https://github.com/EllaKaye/BradleyTerryScalable\n",
    "# A matrix (either a base matrix or a class from the Matrix package), dimension K by K, \n",
    "# where K is the number of items. The i, j-th element is wi**j, the number of times item i has beaten item j. \n",
    "# Ties can be accounted for by assigning half a win (i.e. 0.5) to each item."
   ]
  },
  {
   "cell_type": "code",
   "execution_count": 88,
   "id": "2980e7fa-2521-4b00-b720-aea614c1f4f7",
   "metadata": {},
   "outputs": [
    {
     "data": {
      "text/plain": [
       "array([[0., 0., 0., 0.],\n",
       "       [0., 0., 0., 0.],\n",
       "       [0., 0., 0., 0.],\n",
       "       [0., 0., 0., 0.]])"
      ]
     },
     "execution_count": 88,
     "metadata": {},
     "output_type": "execute_result"
    }
   ],
   "source": [
    "c "
   ]
  },
  {
   "cell_type": "code",
   "execution_count": 89,
   "id": "cfcc000c-29da-47d1-a18e-c725a6c51bcd",
   "metadata": {},
   "outputs": [],
   "source": [
    "cond2matrix_idx = {\n",
    "    \"vanillatts_grapheme\": 0,\n",
    "    \"sac_grapheme\": 1,\n",
    "    \"sac_speechcode_us\": 2,\n",
    "    \"sac_speechcode_scot\": 3,\n",
    "}"
   ]
  },
  {
   "cell_type": "code",
   "execution_count": 90,
   "id": "ff41fe5c-d9d5-4407-b1e2-fa8cc9d8ed8d",
   "metadata": {},
   "outputs": [],
   "source": [
    "for (cond1, cond2), count in alltests_conditionpair2wincounts.items():\n",
    "    i, j = cond2matrix_idx[cond1], cond2matrix_idx[cond2]\n",
    "    c[i][j] = count"
   ]
  },
  {
   "cell_type": "code",
   "execution_count": 91,
   "id": "6e2b391b-53be-4c64-9be9-cd11ff710076",
   "metadata": {},
   "outputs": [
    {
     "data": {
      "text/plain": [
       "array([[  0. , 604.5, 263. , 346. ],\n",
       "       [565.5,   0. , 215. , 315.5],\n",
       "       [907. , 955. ,   0. , 674.5],\n",
       "       [824. , 854.5, 495.5,   0. ]])"
      ]
     },
     "execution_count": 91,
     "metadata": {},
     "output_type": "execute_result"
    }
   ],
   "source": [
    "c"
   ]
  },
  {
   "cell_type": "code",
   "execution_count": 92,
   "id": "40510666-a081-46f7-9c3f-78d185556741",
   "metadata": {},
   "outputs": [],
   "source": [
    "# create a pandas dataframe so we can label rows and columns\n",
    "column_names = [\"TTS-g\", \"SAC-g\", \"SAC-us\", \"SAC-scot\"]\n",
    "row_names = column_names.copy()\n",
    "df = pd.DataFrame(c, columns=column_names, index=row_names)"
   ]
  },
  {
   "cell_type": "code",
   "execution_count": 93,
   "id": "83f1c4fe-96b4-4821-bb61-8330ed489291",
   "metadata": {},
   "outputs": [
    {
     "data": {
      "text/html": [
       "<div>\n",
       "<style scoped>\n",
       "    .dataframe tbody tr th:only-of-type {\n",
       "        vertical-align: middle;\n",
       "    }\n",
       "\n",
       "    .dataframe tbody tr th {\n",
       "        vertical-align: top;\n",
       "    }\n",
       "\n",
       "    .dataframe thead th {\n",
       "        text-align: right;\n",
       "    }\n",
       "</style>\n",
       "<table border=\"1\" class=\"dataframe\">\n",
       "  <thead>\n",
       "    <tr style=\"text-align: right;\">\n",
       "      <th></th>\n",
       "      <th>TTS-g</th>\n",
       "      <th>SAC-g</th>\n",
       "      <th>SAC-us</th>\n",
       "      <th>SAC-scot</th>\n",
       "    </tr>\n",
       "  </thead>\n",
       "  <tbody>\n",
       "    <tr>\n",
       "      <th>TTS-g</th>\n",
       "      <td>0.0</td>\n",
       "      <td>604.5</td>\n",
       "      <td>263.0</td>\n",
       "      <td>346.0</td>\n",
       "    </tr>\n",
       "    <tr>\n",
       "      <th>SAC-g</th>\n",
       "      <td>565.5</td>\n",
       "      <td>0.0</td>\n",
       "      <td>215.0</td>\n",
       "      <td>315.5</td>\n",
       "    </tr>\n",
       "    <tr>\n",
       "      <th>SAC-us</th>\n",
       "      <td>907.0</td>\n",
       "      <td>955.0</td>\n",
       "      <td>0.0</td>\n",
       "      <td>674.5</td>\n",
       "    </tr>\n",
       "    <tr>\n",
       "      <th>SAC-scot</th>\n",
       "      <td>824.0</td>\n",
       "      <td>854.5</td>\n",
       "      <td>495.5</td>\n",
       "      <td>0.0</td>\n",
       "    </tr>\n",
       "  </tbody>\n",
       "</table>\n",
       "</div>"
      ],
      "text/plain": [
       "          TTS-g  SAC-g  SAC-us  SAC-scot\n",
       "TTS-g       0.0  604.5   263.0     346.0\n",
       "SAC-g     565.5    0.0   215.0     315.5\n",
       "SAC-us    907.0  955.0     0.0     674.5\n",
       "SAC-scot  824.0  854.5   495.5       0.0"
      ]
     },
     "execution_count": 93,
     "metadata": {},
     "output_type": "execute_result"
    }
   ],
   "source": [
    "df"
   ]
  },
  {
   "cell_type": "code",
   "execution_count": 94,
   "id": "a504c078-a98b-4fab-b844-07fa6ea24319",
   "metadata": {},
   "outputs": [
    {
     "data": {
      "text/plain": [
       "TTS-g       1213.5\n",
       "SAC-g       1096.0\n",
       "SAC-us      2536.5\n",
       "SAC-scot    2174.0\n",
       "dtype: float64"
      ]
     },
     "execution_count": 94,
     "metadata": {},
     "output_type": "execute_result"
    }
   ],
   "source": [
    "# total wins for each condition \n",
    "# add col that sums the wins for each condition / row \n",
    "df.sum(axis=1)"
   ]
  },
  {
   "cell_type": "code",
   "execution_count": 95,
   "id": "73a95e1d-016f-47a9-a95c-52a3b949eddf",
   "metadata": {},
   "outputs": [
    {
     "data": {
      "text/plain": [
       "TTS-g       2296.5\n",
       "SAC-g       2414.0\n",
       "SAC-us       973.5\n",
       "SAC-scot    1336.0\n",
       "dtype: float64"
      ]
     },
     "execution_count": 95,
     "metadata": {},
     "output_type": "execute_result"
    }
   ],
   "source": [
    "# total losses for each condition\n",
    "df.sum(axis=0)"
   ]
  },
  {
   "cell_type": "code",
   "execution_count": 96,
   "id": "f737f7f6-86b6-41a5-8b9a-6221c7b3100e",
   "metadata": {},
   "outputs": [],
   "source": [
    "np.savetxt(\"listening_test_data/counts_matrix.txt\", c.astype(int), fmt='%i', delimiter=\",\")"
   ]
  },
  {
   "cell_type": "markdown",
   "id": "ad29b998-ff46-42cb-bfc1-992d240f68d0",
   "metadata": {},
   "source": [
    "# Use python package choix to get bradley terry estimates of quality for our conditions"
   ]
  },
  {
   "cell_type": "code",
   "execution_count": 97,
   "id": "31250c2e-1506-4cd0-a6b5-b9f136e9bb01",
   "metadata": {},
   "outputs": [],
   "source": [
    "from choix import lsr_pairwise_dense, ilsr_pairwise_dense #non iterative and iterative versions"
   ]
  },
  {
   "cell_type": "code",
   "execution_count": 98,
   "id": "dcf06807-de7e-465d-8a76-671e9e3f4837",
   "metadata": {},
   "outputs": [
    {
     "data": {
      "text/plain": [
       "[-0.5028900755589794,\n",
       " -0.6448050368186652,\n",
       " 0.7476190413559148,\n",
       " 0.40007607102172965]"
      ]
     },
     "execution_count": 98,
     "metadata": {},
     "output_type": "execute_result"
    }
   ],
   "source": [
    "lsr_pairwise_dense(c).tolist()"
   ]
  },
  {
   "cell_type": "code",
   "execution_count": 99,
   "id": "75336d67-b50e-42dd-8e96-7486fbc173fb",
   "metadata": {},
   "outputs": [
    {
     "data": {
      "text/plain": [
       "[-0.5134012904168868,\n",
       " -0.6294376322513222,\n",
       " 0.7513273565006657,\n",
       " 0.391511566167543]"
      ]
     },
     "execution_count": 99,
     "metadata": {},
     "output_type": "execute_result"
    }
   ],
   "source": [
    "islr_res = ilsr_pairwise_dense(c).tolist()\n",
    "islr_res"
   ]
  },
  {
   "cell_type": "code",
   "execution_count": 100,
   "id": "613f4371-b9fb-4a13-8264-997d1a7da153",
   "metadata": {},
   "outputs": [
    {
     "data": {
      "text/plain": [
       "[(-0.5134012904168868, 'TTS-g'),\n",
       " (-0.6294376322513222, 'SAC-g'),\n",
       " (0.7513273565006657, 'SAC-us'),\n",
       " (0.391511566167543, 'SAC-scot')]"
      ]
     },
     "execution_count": 100,
     "metadata": {},
     "output_type": "execute_result"
    }
   ],
   "source": [
    "list(zip(islr_res, column_names)) # unsorted"
   ]
  },
  {
   "cell_type": "code",
   "execution_count": 101,
   "id": "289b7d3a-3a97-4b86-86b5-c96e1bbd4d74",
   "metadata": {},
   "outputs": [
    {
     "data": {
      "text/plain": [
       "[(0.7513273565006657, 'SAC-us'),\n",
       " (0.391511566167543, 'SAC-scot'),\n",
       " (-0.5134012904168868, 'TTS-g'),\n",
       " (-0.6294376322513222, 'SAC-g')]"
      ]
     },
     "execution_count": 101,
     "metadata": {},
     "output_type": "execute_result"
    }
   ],
   "source": [
    "# sort cols by result value to make legend easier to read\n",
    "sorted(zip(islr_res, column_names), reverse=True)"
   ]
  },
  {
   "cell_type": "code",
   "execution_count": 102,
   "id": "c22ca77b-a519-4f30-b083-6267ef6632c5",
   "metadata": {},
   "outputs": [],
   "source": [
    "import matplotlib.pyplot as plt"
   ]
  },
  {
   "cell_type": "code",
   "execution_count": 103,
   "id": "7254b283-17af-4c66-958d-f8046b39397b",
   "metadata": {},
   "outputs": [
    {
     "data": {
      "image/png": "[encoded data removed]",
      "text/plain": [
       "<Figure size 432x288 with 1 Axes>"
      ]
     },
     "metadata": {
      "needs_background": "light"
     },
     "output_type": "display_data"
    }
   ],
   "source": [
    "fig, ax = plt.subplots()\n",
    "# ax.scatter(x=islr_res, y=np.array([0,0,0,0]))\n",
    "markers = ['^', 'o','X', 's',]\n",
    "colours = ['#6dda9d', '#e96860', '#7ea9e5', '#e46af0']\n",
    "for (x_val, label), marker, colour in zip(zip(islr_res, column_names), markers, colours):\n",
    "# for (x_val, label), marker, colour in zip(sorted(zip(islr_res, column_names), reverse=False), markers, colours):\n",
    "    ax.scatter(x=x_val, y=[0.125], marker=marker, label=label, s=125, c=colour)\n",
    "    \n",
    "ax.set_aspect(2)\n",
    "ax.grid(True, which='both', axis=\"x\")\n",
    "\n",
    "#############################################\n",
    "# set the x-spine (see below for more info on `set_position`)\n",
    "# ax.spines['left'].set_position('zero')\n",
    "# turn off the right spine/ticks\n",
    "\n",
    "ax.spines['left'].set_color('none')\n",
    "ax.spines['right'].set_color('none')\n",
    "# ax.yaxis.tick_left()\n",
    "\n",
    "#############################################\n",
    "# set the y-spine\n",
    "ax.spines['bottom'].set_position('zero')\n",
    "\n",
    "#############################################\n",
    "# turn off the top spine/ticks\n",
    "ax.spines['top'].set_color('none')\n",
    "ax.xaxis.tick_bottom()\n",
    "\n",
    "ax.set_yticks([])\n",
    "\n",
    "#############################################\n",
    "# limits\n",
    "plt.xlim([-1, 1.01])\n",
    "plt.ylim([0, 0.25])\n",
    "\n",
    "ax.axvline(x=0.0035, color='k')\n",
    "ax.axhline(y=-0, color='k')\n",
    "\n",
    "legend = ax.legend(\n",
    "    # loc=\"upper left\", \n",
    "    bbox_to_anchor =(-0.03, 1.05),\n",
    ")\n",
    "\n",
    "legend.set_title(\"Conditions:\")\n",
    "# legend.set_title(r\"$\\bf{Conditions}$\")\n",
    "                 # prop = {'size':15})\n",
    "legend._legend_box.align = \"left\"\n",
    "\n",
    "ax.set_xlabel(\"Condition Score\")\n",
    "plt.savefig('plots/results.pdf', bbox_inches='tight')"
   ]
  },
  {
   "cell_type": "markdown",
   "id": "197d5c5b-ea44-4b89-b509-d6f5b7b61473",
   "metadata": {},
   "source": [
    "# analyse the speakers that are occur in each speech codes conditions SAC-us and SAC-scot"
   ]
  },
  {
   "cell_type": "code",
   "execution_count": 104,
   "id": "f998ce96-729d-42b2-b5f7-e7b60eafe7b0",
   "metadata": {},
   "outputs": [
    {
     "data": {
      "text/plain": [
       "18"
      ]
     },
     "execution_count": 104,
     "metadata": {},
     "output_type": "execute_result"
    }
   ],
   "source": [
    "# load url lists\n",
    "with open('url_lists/SAC-speechcode-input-us-fem.txt') as f:\n",
    "    urls = f.readlines()\n",
    "\n",
    "speakers = [url.split('-')[-1].split('_')[0] for url in urls]\n",
    "\n",
    "len(set(speakers))"
   ]
  },
  {
   "cell_type": "code",
   "execution_count": 105,
   "id": "55a8285c-4abd-4f20-b656-bd5b50cdf130",
   "metadata": {},
   "outputs": [
    {
     "data": {
      "text/plain": [
       "Counter({'p330': 4,\n",
       "         'p362': 4,\n",
       "         'p303': 9,\n",
       "         'p308': 6,\n",
       "         'p329': 7,\n",
       "         'p361': 2,\n",
       "         'p341': 9,\n",
       "         'p294': 2,\n",
       "         'p305': 4,\n",
       "         'p312': 3,\n",
       "         'p297': 3,\n",
       "         'p318': 4,\n",
       "         'p306': 2,\n",
       "         'p317': 7,\n",
       "         'p300': 5,\n",
       "         'p301': 3,\n",
       "         'p343': 1,\n",
       "         'p307': 3})"
      ]
     },
     "execution_count": 105,
     "metadata": {},
     "output_type": "execute_result"
    }
   ],
   "source": [
    "Counter(speakers)"
   ]
  },
  {
   "cell_type": "code",
   "execution_count": 106,
   "id": "9d53f5b4-bf24-435e-b71e-2c68258070a6",
   "metadata": {},
   "outputs": [
    {
     "data": {
      "text/plain": [
       "4.333333333333333"
      ]
     },
     "execution_count": 106,
     "metadata": {},
     "output_type": "execute_result"
    }
   ],
   "source": [
    "sum(Counter(speakers).values()) / len(set(speakers))"
   ]
  },
  {
   "cell_type": "code",
   "execution_count": 107,
   "id": "93762b2f-f04e-40e2-86b2-e3a52c3b42fd",
   "metadata": {},
   "outputs": [
    {
     "data": {
      "text/plain": [
       "13"
      ]
     },
     "execution_count": 107,
     "metadata": {},
     "output_type": "execute_result"
    }
   ],
   "source": [
    "# load url lists\n",
    "with open('url_lists/SAC-speechcode-input-scot-fem.txt') as f:\n",
    "    urls = f.readlines()\n",
    "\n",
    "speakers = [url.split('-')[-1].split('_')[0] for url in urls]\n",
    "\n",
    "len(set(speakers))"
   ]
  },
  {
   "cell_type": "code",
   "execution_count": 108,
   "id": "e9829d9b-64a8-4e99-94ec-8f0a3b26f47b",
   "metadata": {},
   "outputs": [
    {
     "data": {
      "text/plain": [
       "Counter({'p249': 6,\n",
       "         'p310': 11,\n",
       "         'p299': 14,\n",
       "         'p255': 4,\n",
       "         'p238': 3,\n",
       "         'p340': 3,\n",
       "         'p262': 7,\n",
       "         'p261': 7,\n",
       "         'p265': 5,\n",
       "         'p313': 4,\n",
       "         'p293': 9,\n",
       "         'p351': 3,\n",
       "         'p264': 2})"
      ]
     },
     "execution_count": 108,
     "metadata": {},
     "output_type": "execute_result"
    }
   ],
   "source": [
    "Counter(speakers)"
   ]
  },
  {
   "cell_type": "code",
   "execution_count": 109,
   "id": "d9aa3b8b-9381-46f3-a608-c84771ab904f",
   "metadata": {},
   "outputs": [
    {
     "data": {
      "text/plain": [
       "6.0"
      ]
     },
     "execution_count": 109,
     "metadata": {},
     "output_type": "execute_result"
    }
   ],
   "source": [
    "sum(Counter(speakers).values()) / len(set(speakers))"
   ]
  },
  {
   "cell_type": "markdown",
   "id": "5b317e97-81bd-43e2-a37b-9db4df96c270",
   "metadata": {},
   "source": [
    "# for paper writeup\n",
    "# find the words that are most preferred as US speech codes compare to Scottish speech codes"
   ]
  },
  {
   "cell_type": "code",
   "execution_count": 110,
   "id": "5efcd88a-0d95-438d-902d-2b1828264286",
   "metadata": {
    "tags": []
   },
   "outputs": [
    {
     "name": "stdout",
     "output_type": "stream",
     "text": [
      "excluding jason fong\n",
      "excluding Dan test\n",
      "excluding not applicable\n",
      "after filtering found 17 participants in listening_test_data/IS2022 - Test 1 - Final_March 21, 2022_15.36.csv which != 15\n",
      "after filtering found 15 participants in listening_test_data/IS2022 - Test 2 - Final_March 21, 2022_15.37.csv which != 15\n",
      "after filtering found 15 participants in listening_test_data/IS2022 - Test 3 - Final_March 21, 2022_15.37.csv which != 15\n",
      "after filtering found 16 participants in listening_test_data/IS2022 - Test 4 - Final_March 21, 2022_15.38.csv which != 15\n",
      "after filtering found 15 participants in listening_test_data/IS2022 - Test 5 - Final_March 21, 2022_15.41.csv which != 15\n",
      "after filtering found 15 participants in listening_test_data/IS2022 - Test 6 - Final_March 21, 2022_15.41.csv which != 15\n",
      "(1, ('sac_speechcode_scot', 'sac_speechcode_us'), 'afghan', Counter({1: 7, 3: 6, 2: 2}))\n",
      "(2, ('sac_speechcode_scot', 'sac_speechcode_us'), 'agenda', Counter({1: 7, 2: 6, 3: 2}))\n",
      "(3, ('sac_speechcode_scot', 'sac_speechcode_us'), 'alcohol', Counter({3: 13, 1: 2}))\n",
      "(4, ('sac_speechcode_scot', 'sac_speechcode_us'), 'augusta', Counter({2: 14, 3: 1}))\n",
      "(5, ('sac_speechcode_scot', 'sac_speechcode_us'), 'ballet', Counter({1: 5, 2: 5, 3: 5}))\n",
      "(6, ('sac_speechcode_scot', 'sac_speechcode_us'), 'bevan', Counter({2: 13, 3: 2}))\n",
      "(7, ('sac_speechcode_scot', 'sac_speechcode_us'), 'bonus', Counter({2: 15}))\n",
      "(8, ('sac_speechcode_scot', 'sac_speechcode_us'), 'borderer', Counter({1: 10, 3: 3, 2: 2}))\n",
      "(9, ('sac_speechcode_scot', 'sac_speechcode_us'), 'bother', Counter({2: 12, 1: 2, 3: 1}))\n",
      "(10, ('sac_speechcode_scot', 'sac_speechcode_us'), 'breakthrough', Counter({3: 14, 2: 1}))\n",
      "(11, ('sac_speechcode_scot', 'sac_speechcode_us'), 'carcasses', Counter({1: 7, 3: 5, 2: 3}))\n",
      "(12, ('sac_speechcode_scot', 'sac_speechcode_us'), 'catalogue', Counter({3: 6, 2: 5, 1: 4}))\n",
      "(13, ('sac_speechcode_scot', 'sac_speechcode_us'), 'chaotic', Counter({2: 5, 1: 5, 3: 5}))\n",
      "(14, ('sac_speechcode_scot', 'sac_speechcode_us'), 'chirac', Counter({3: 7, 2: 7, 1: 1}))\n",
      "(15, ('sac_speechcode_scot', 'sac_speechcode_us'), 'cinema', Counter({1: 14, 3: 1}))\n",
      "(16, ('sac_speechcode_scot', 'sac_speechcode_us'), 'colour', Counter({3: 6, 2: 5, 1: 4}))\n",
      "(17, ('sac_speechcode_scot', 'sac_speechcode_us'), 'comedy', Counter({2: 11, 1: 3, 3: 1}))\n",
      "(18, ('sac_speechcode_scot', 'sac_speechcode_us'), 'contacted', Counter({2: 7, 3: 6, 1: 2}))\n",
      "(19, ('sac_speechcode_scot', 'sac_speechcode_us'), 'debut', Counter({3: 9, 2: 3, 1: 3}))\n",
      "(20, ('sac_speechcode_scot', 'sac_speechcode_us'), 'derby', Counter({2: 15}))\n",
      "(21, ('sac_speechcode_scot', 'sac_speechcode_us'), 'devil', Counter({2: 12, 3: 2, 1: 1}))\n",
      "(22, ('sac_speechcode_scot', 'sac_speechcode_us'), 'dialogue', Counter({2: 14, 3: 1}))\n",
      "(23, ('sac_speechcode_scot', 'sac_speechcode_us'), 'disaster', Counter({1: 8, 3: 5, 2: 2}))\n",
      "(24, ('sac_speechcode_scot', 'sac_speechcode_us'), 'dunfermline', Counter({3: 7, 2: 6, 1: 2}))\n",
      "(25, ('sac_speechcode_scot', 'sac_speechcode_us'), 'elan', Counter({3: 9, 1: 4, 2: 2}))\n",
      "(26, ('sac_speechcode_scot', 'sac_speechcode_us'), 'elgin', Counter({3: 11, 2: 3, 1: 1}))\n",
      "(27, ('sac_speechcode_scot', 'sac_speechcode_us'), 'excel', Counter({2: 8, 3: 4, 1: 3}))\n",
      "(28, ('sac_speechcode_scot', 'sac_speechcode_us'), 'fatigue', Counter({2: 8, 3: 5, 1: 2}))\n",
      "(29, ('sac_speechcode_scot', 'sac_speechcode_us'), 'fiasco', Counter({3: 7, 2: 6, 1: 2}))\n",
      "(30, ('sac_speechcode_scot', 'sac_speechcode_us'), 'grandson', Counter({2: 13, 1: 1, 3: 1}))\n",
      "(31, ('sac_speechcode_scot', 'sac_speechcode_us'), 'hague', Counter({3: 7, 2: 5, 1: 3}))\n",
      "(32, ('sac_speechcode_scot', 'sac_speechcode_us'), 'haul', Counter({3: 7, 2: 6, 1: 2}))\n",
      "(33, ('sac_speechcode_scot', 'sac_speechcode_us'), 'hussein', Counter({3: 7, 1: 4, 2: 4}))\n",
      "(34, ('sac_speechcode_scot', 'sac_speechcode_us'), 'iain', Counter({1: 6, 3: 6, 2: 3}))\n",
      "(35, ('sac_speechcode_scot', 'sac_speechcode_us'), 'intriguing', Counter({3: 6, 1: 5, 2: 4}))\n",
      "(36, ('sac_speechcode_scot', 'sac_speechcode_us'), 'inverness', Counter({1: 7, 3: 5, 2: 3}))\n",
      "(37, ('sac_speechcode_scot', 'sac_speechcode_us'), 'ira', Counter({2: 9, 1: 3, 3: 3}))\n",
      "(38, ('sac_speechcode_scot', 'sac_speechcode_us'), 'iran', Counter({2: 7, 3: 5, 1: 3}))\n",
      "(39, ('sac_speechcode_scot', 'sac_speechcode_us'), 'iraqi', Counter({3: 6, 2: 6, 1: 3}))\n",
      "(40, ('sac_speechcode_scot', 'sac_speechcode_us'), 'islam', Counter({2: 10, 1: 4, 3: 1}))\n",
      "(41, ('sac_speechcode_scot', 'sac_speechcode_us'), 'kabul', Counter({3: 9, 1: 4, 2: 2}))\n",
      "(42, ('sac_speechcode_scot', 'sac_speechcode_us'), 'kilmarnock', Counter({2: 7, 3: 6, 1: 2}))\n",
      "(43, ('sac_speechcode_scot', 'sac_speechcode_us'), 'lifestyle', Counter({1: 8, 3: 5, 2: 2}))\n",
      "(44, ('sac_speechcode_scot', 'sac_speechcode_us'), 'lockerbie', Counter({1: 7, 3: 6, 2: 2}))\n",
      "(45, ('sac_speechcode_scot', 'sac_speechcode_us'), 'mcneill', Counter({2: 7, 3: 7, 1: 1}))\n",
      "(46, ('sac_speechcode_scot', 'sac_speechcode_us'), 'miracle', Counter({2: 10, 3: 4, 1: 1}))\n",
      "(47, ('sac_speechcode_scot', 'sac_speechcode_us'), 'mobile', Counter({2: 13, 3: 2}))\n",
      "(48, ('sac_speechcode_scot', 'sac_speechcode_us'), 'morale', Counter({1: 13, 3: 1, 2: 1}))\n",
      "(49, ('sac_speechcode_scot', 'sac_speechcode_us'), 'ms', Counter({3: 6, 1: 6, 2: 3}))\n",
      "(50, ('sac_speechcode_scot', 'sac_speechcode_us'), 'orchestra', Counter({1: 11, 3: 4}))\n",
      "(51, ('sac_speechcode_scot', 'sac_speechcode_us'), 'pakistan', Counter({3: 8, 1: 4, 2: 3}))\n",
      "(52, ('sac_speechcode_scot', 'sac_speechcode_us'), 'pals', Counter({2: 12, 3: 3}))\n",
      "(53, ('sac_speechcode_scot', 'sac_speechcode_us'), 'parole', Counter({1: 7, 3: 6, 2: 2}))\n",
      "(54, ('sac_speechcode_scot', 'sac_speechcode_us'), 'paterson', Counter({1: 7, 3: 5, 2: 3}))\n",
      "(55, ('sac_speechcode_scot', 'sac_speechcode_us'), 'petrol', Counter({3: 10, 1: 3, 2: 2}))\n",
      "(56, ('sac_speechcode_scot', 'sac_speechcode_us'), 'politics', Counter({1: 5, 2: 5, 3: 5}))\n",
      "(57, ('sac_speechcode_scot', 'sac_speechcode_us'), 'pr', Counter({3: 7, 2: 4, 1: 4}))\n",
      "(58, ('sac_speechcode_scot', 'sac_speechcode_us'), 'queue', Counter({2: 14, 3: 1}))\n",
      "(59, ('sac_speechcode_scot', 'sac_speechcode_us'), 'rally', Counter({2: 7, 1: 4, 3: 4}))\n",
      "(60, ('sac_speechcode_scot', 'sac_speechcode_us'), 'recipe', Counter({1: 14, 2: 1}))\n",
      "(61, ('sac_speechcode_scot', 'sac_speechcode_us'), 'referee', Counter({2: 15}))\n",
      "(62, ('sac_speechcode_scot', 'sac_speechcode_us'), 'rehearsal', Counter({1: 9, 3: 6}))\n",
      "(63, ('sac_speechcode_scot', 'sac_speechcode_us'), 'restaurant', Counter({2: 12, 3: 3}))\n",
      "(64, ('sac_speechcode_scot', 'sac_speechcode_us'), 'rugby', Counter({2: 15}))\n",
      "(65, ('sac_speechcode_scot', 'sac_speechcode_us'), 'savour', Counter({2: 7, 1: 5, 3: 3}))\n",
      "(66, ('sac_speechcode_scot', 'sac_speechcode_us'), 'sean', Counter({1: 6, 3: 5, 2: 4}))\n",
      "(67, ('sac_speechcode_scot', 'sac_speechcode_us'), 'subtle', Counter({2: 9, 1: 6}))\n",
      "(68, ('sac_speechcode_scot', 'sac_speechcode_us'), 'superbly', Counter({1: 6, 3: 6, 2: 3}))\n",
      "(69, ('sac_speechcode_scot', 'sac_speechcode_us'), 'tiger', Counter({2: 15}))\n",
      "(70, ('sac_speechcode_scot', 'sac_speechcode_us'), 'titanic', Counter({3: 15}))\n",
      "(71, ('sac_speechcode_scot', 'sac_speechcode_us'), 'tough', Counter({3: 11, 1: 2, 2: 2}))\n",
      "(72, ('sac_speechcode_scot', 'sac_speechcode_us'), 'trio', Counter({1: 10, 3: 3, 2: 2}))\n",
      "(73, ('sac_speechcode_scot', 'sac_speechcode_us'), 'unearthing', Counter({2: 9, 1: 6}))\n",
      "(74, ('sac_speechcode_scot', 'sac_speechcode_us'), 'uninjured', Counter({1: 6, 3: 5, 2: 4}))\n",
      "(75, ('sac_speechcode_scot', 'sac_speechcode_us'), 'vaccines', Counter({2: 8, 1: 5, 3: 2}))\n",
      "(76, ('sac_speechcode_scot', 'sac_speechcode_us'), 'video', Counter({2: 15}))\n",
      "(77, ('sac_speechcode_scot', 'sac_speechcode_us'), 'zimbabwe', Counter({2: 8, 1: 5, 3: 2}))\n",
      "(78, ('sac_speechcode_scot', 'sac_speechcode_us'), 'zone', Counter({1: 7, 3: 5, 2: 3}))\n"
     ]
    }
   ],
   "source": [
    "all_words = []\n",
    "\n",
    "for test_num, path in enumerate(paths,1):\n",
    "\n",
    "    agg_ans = get_aggregated_answers(path)\n",
    "\n",
    "    with open(f\"url_lists_ab/ab-urls-test{test_num}_targetwords.txt\") as f:\n",
    "        lines = f.readlines()\n",
    "\n",
    "    words = [line.rstrip().split()[-1] for line in lines]\n",
    "\n",
    "    conditions = []\n",
    "    for utt_num in range(1,79):\n",
    "        cond1, cond2 = get_conditions(test_num, utt_num)\n",
    "        conditions.append((cond1,cond2))\n",
    "        # word = words[utt_num-1]\n",
    "\n",
    "    for i, (condition, word) in enumerate(zip(conditions, words), 1):\n",
    "        if condition == ('sac_speechcode_scot', 'sac_speechcode_us') or condition == ('sac_speechcode_us', 'sac_speechcode_scot'):\n",
    "            counter = agg_ans[i]\n",
    "            assert sum(counter.values()) == NUM_PARTICIPANTS_PER_TEST\n",
    "            # print(i, condition, word, counter)\n",
    "            all_words.append((i, condition, word, counter))\n",
    "\n",
    "all_words = sorted(all_words, key=lambda x: x[0])\n",
    "            \n",
    "for x in all_words:\n",
    "    print(x)"
   ]
  },
  {
   "cell_type": "code",
   "execution_count": 111,
   "id": "d4815205-5112-4219-aa0e-f929a4359a22",
   "metadata": {
    "tags": []
   },
   "outputs": [
    {
     "name": "stdout",
     "output_type": "stream",
     "text": [
      "7 bonus Counter({2: 15})\n",
      "20 derby Counter({2: 15})\n",
      "61 referee Counter({2: 15})\n",
      "64 rugby Counter({2: 15})\n",
      "69 tiger Counter({2: 15})\n",
      "76 video Counter({2: 15})\n",
      "4 augusta Counter({2: 14, 3: 1})\n",
      "22 dialogue Counter({2: 14, 3: 1})\n",
      "58 queue Counter({2: 14, 3: 1})\n",
      "6 bevan Counter({2: 13, 3: 2})\n",
      "47 mobile Counter({2: 13, 3: 2})\n",
      "52 pals Counter({2: 12, 3: 3})\n",
      "63 restaurant Counter({2: 12, 3: 3})\n",
      "30 grandson Counter({2: 13, 1: 1, 3: 1})\n",
      "21 devil Counter({2: 12, 3: 2, 1: 1})\n",
      "46 miracle Counter({2: 10, 3: 4, 1: 1})\n",
      "9 bother Counter({2: 12, 1: 2, 3: 1})\n",
      "14 chirac Counter({3: 7, 2: 7, 1: 1})\n",
      "45 mcneill Counter({2: 7, 3: 7, 1: 1})\n",
      "17 comedy Counter({2: 11, 1: 3, 3: 1})\n",
      "28 fatigue Counter({2: 8, 3: 5, 1: 2})\n",
      "18 contacted Counter({2: 7, 3: 6, 1: 2})\n",
      "42 kilmarnock Counter({2: 7, 3: 6, 1: 2})\n",
      "37 ira Counter({2: 9, 1: 3, 3: 3})\n",
      "24 dunfermline Counter({3: 7, 2: 6, 1: 2})\n",
      "27 excel Counter({2: 8, 3: 4, 1: 3})\n",
      "29 fiasco Counter({3: 7, 2: 6, 1: 2})\n",
      "32 haul Counter({3: 7, 2: 6, 1: 2})\n",
      "40 islam Counter({2: 10, 1: 4, 3: 1})\n",
      "38 iran Counter({2: 7, 3: 5, 1: 3})\n",
      "26 elgin Counter({3: 11, 2: 3, 1: 1})\n",
      "39 iraqi Counter({3: 6, 2: 6, 1: 3})\n",
      "59 rally Counter({2: 7, 1: 4, 3: 4})\n",
      "75 vaccines Counter({2: 8, 1: 5, 3: 2})\n",
      "77 zimbabwe Counter({2: 8, 1: 5, 3: 2})\n",
      "67 subtle Counter({2: 9, 1: 6})\n",
      "73 unearthing Counter({2: 9, 1: 6})\n",
      "31 hague Counter({3: 7, 2: 5, 1: 3})\n",
      "65 savour Counter({2: 7, 1: 5, 3: 3})\n",
      "10 breakthrough Counter({3: 14, 2: 1})\n",
      "12 catalogue Counter({3: 6, 2: 5, 1: 4})\n",
      "16 colour Counter({3: 6, 2: 5, 1: 4})\n",
      "5 ballet Counter({1: 5, 2: 5, 3: 5})\n",
      "13 chaotic Counter({2: 5, 1: 5, 3: 5})\n",
      "56 politics Counter({1: 5, 2: 5, 3: 5})\n",
      "33 hussein Counter({3: 7, 1: 4, 2: 4})\n",
      "57 pr Counter({3: 7, 2: 4, 1: 4})\n",
      "2 agenda Counter({1: 7, 2: 6, 3: 2})\n",
      "19 debut Counter({3: 9, 2: 3, 1: 3})\n",
      "35 intriguing Counter({3: 6, 1: 5, 2: 4})\n",
      "71 tough Counter({3: 11, 1: 2, 2: 2})\n",
      "51 pakistan Counter({3: 8, 1: 4, 2: 3})\n",
      "66 sean Counter({1: 6, 3: 5, 2: 4})\n",
      "74 uninjured Counter({1: 6, 3: 5, 2: 4})\n",
      "55 petrol Counter({3: 10, 1: 3, 2: 2})\n",
      "34 iain Counter({1: 6, 3: 6, 2: 3})\n",
      "49 ms Counter({3: 6, 1: 6, 2: 3})\n",
      "68 superbly Counter({1: 6, 3: 6, 2: 3})\n",
      "25 elan Counter({3: 9, 1: 4, 2: 2})\n",
      "41 kabul Counter({3: 9, 1: 4, 2: 2})\n",
      "11 carcasses Counter({1: 7, 3: 5, 2: 3})\n",
      "36 inverness Counter({1: 7, 3: 5, 2: 3})\n",
      "54 paterson Counter({1: 7, 3: 5, 2: 3})\n",
      "78 zone Counter({1: 7, 3: 5, 2: 3})\n",
      "1 afghan Counter({1: 7, 3: 6, 2: 2})\n",
      "44 lockerbie Counter({1: 7, 3: 6, 2: 2})\n",
      "53 parole Counter({1: 7, 3: 6, 2: 2})\n",
      "23 disaster Counter({1: 8, 3: 5, 2: 2})\n",
      "43 lifestyle Counter({1: 8, 3: 5, 2: 2})\n",
      "8 borderer Counter({1: 10, 3: 3, 2: 2})\n",
      "72 trio Counter({1: 10, 3: 3, 2: 2})\n",
      "48 morale Counter({1: 13, 3: 1, 2: 1})\n",
      "60 recipe Counter({1: 14, 2: 1})\n",
      "3 alcohol Counter({3: 13, 1: 2})\n",
      "15 cinema Counter({1: 14, 3: 1})\n",
      "50 orchestra Counter({1: 11, 3: 4})\n",
      "62 rehearsal Counter({1: 9, 3: 6})\n",
      "70 titanic Counter({3: 15})\n",
      "[(15, 6), (14, 3), (13, 3), (12, 4), (11, 1), (10, 2), (9, 3), (8, 4), (7, 7), (6, 5), (5, 6), (4, 5), (3, 10), (2, 11), (1, 3), (0, 5)]\n"
     ]
    }
   ],
   "source": [
    "# sort by times us speech codes win most\n",
    "# 2 is us speech codes\n",
    "h_barchart_data = []\n",
    "num_wins2count = Counter()\n",
    "# sort_fn = lambda x:x[3][2] * 100 + x[3][3] #sort by us then by no preference\n",
    "sort_fn = lambda x:(x[3][2] / (x[3][1]+1)) #sort by us / scot ratio (+1 to stop division by 0 error)\n",
    "for i, condition, word, counter in sorted(all_words, key=sort_fn, reverse=True): # lambda x:x[3][2] * 100 + x[3][3] because we want to rank first by 2 (us wins) then by 3 (no preference)\n",
    "    h_barchart_data.append(counter)\n",
    "    print(i, word, counter)\n",
    "    num_wins = counter[2] # 2 is us speech codes\n",
    "    num_wins2count[num_wins] += 1\n",
    "\n",
    "us_wins_counts = sorted(num_wins2count.items(), key=lambda x: x[0], reverse=True)\n",
    "    \n",
    "print(us_wins_counts)"
   ]
  },
  {
   "cell_type": "code",
   "execution_count": 112,
   "id": "e82b5fba-63b5-499a-8a63-6fe7ac04bc56",
   "metadata": {
    "tags": []
   },
   "outputs": [
    {
     "name": "stdout",
     "output_type": "stream",
     "text": [
      "15 cinema Counter({1: 14, 3: 1})\n",
      "60 recipe Counter({1: 14, 2: 1})\n",
      "48 morale Counter({1: 13, 3: 1, 2: 1})\n",
      "50 orchestra Counter({1: 11, 3: 4})\n",
      "8 borderer Counter({1: 10, 3: 3, 2: 2})\n",
      "72 trio Counter({1: 10, 3: 3, 2: 2})\n",
      "62 rehearsal Counter({1: 9, 3: 6})\n",
      "23 disaster Counter({1: 8, 3: 5, 2: 2})\n",
      "43 lifestyle Counter({1: 8, 3: 5, 2: 2})\n",
      "1 afghan Counter({1: 7, 3: 6, 2: 2})\n",
      "44 lockerbie Counter({1: 7, 3: 6, 2: 2})\n",
      "53 parole Counter({1: 7, 3: 6, 2: 2})\n",
      "11 carcasses Counter({1: 7, 3: 5, 2: 3})\n",
      "36 inverness Counter({1: 7, 3: 5, 2: 3})\n",
      "54 paterson Counter({1: 7, 3: 5, 2: 3})\n",
      "78 zone Counter({1: 7, 3: 5, 2: 3})\n",
      "2 agenda Counter({1: 7, 2: 6, 3: 2})\n",
      "34 iain Counter({1: 6, 3: 6, 2: 3})\n",
      "49 ms Counter({3: 6, 1: 6, 2: 3})\n",
      "68 superbly Counter({1: 6, 3: 6, 2: 3})\n",
      "66 sean Counter({1: 6, 3: 5, 2: 4})\n",
      "74 uninjured Counter({1: 6, 3: 5, 2: 4})\n",
      "67 subtle Counter({2: 9, 1: 6})\n",
      "73 unearthing Counter({2: 9, 1: 6})\n",
      "35 intriguing Counter({3: 6, 1: 5, 2: 4})\n",
      "5 ballet Counter({1: 5, 2: 5, 3: 5})\n",
      "13 chaotic Counter({2: 5, 1: 5, 3: 5})\n",
      "56 politics Counter({1: 5, 2: 5, 3: 5})\n",
      "65 savour Counter({2: 7, 1: 5, 3: 3})\n",
      "75 vaccines Counter({2: 8, 1: 5, 3: 2})\n",
      "77 zimbabwe Counter({2: 8, 1: 5, 3: 2})\n",
      "25 elan Counter({3: 9, 1: 4, 2: 2})\n",
      "41 kabul Counter({3: 9, 1: 4, 2: 2})\n",
      "51 pakistan Counter({3: 8, 1: 4, 2: 3})\n",
      "33 hussein Counter({3: 7, 1: 4, 2: 4})\n",
      "57 pr Counter({3: 7, 2: 4, 1: 4})\n",
      "12 catalogue Counter({3: 6, 2: 5, 1: 4})\n",
      "16 colour Counter({3: 6, 2: 5, 1: 4})\n",
      "59 rally Counter({2: 7, 1: 4, 3: 4})\n",
      "40 islam Counter({2: 10, 1: 4, 3: 1})\n",
      "55 petrol Counter({3: 10, 1: 3, 2: 2})\n",
      "19 debut Counter({3: 9, 2: 3, 1: 3})\n",
      "31 hague Counter({3: 7, 2: 5, 1: 3})\n",
      "39 iraqi Counter({3: 6, 2: 6, 1: 3})\n",
      "38 iran Counter({2: 7, 3: 5, 1: 3})\n",
      "27 excel Counter({2: 8, 3: 4, 1: 3})\n",
      "37 ira Counter({2: 9, 1: 3, 3: 3})\n",
      "17 comedy Counter({2: 11, 1: 3, 3: 1})\n",
      "3 alcohol Counter({3: 13, 1: 2})\n",
      "71 tough Counter({3: 11, 1: 2, 2: 2})\n",
      "24 dunfermline Counter({3: 7, 2: 6, 1: 2})\n",
      "29 fiasco Counter({3: 7, 2: 6, 1: 2})\n",
      "32 haul Counter({3: 7, 2: 6, 1: 2})\n",
      "18 contacted Counter({2: 7, 3: 6, 1: 2})\n",
      "42 kilmarnock Counter({2: 7, 3: 6, 1: 2})\n",
      "28 fatigue Counter({2: 8, 3: 5, 1: 2})\n",
      "9 bother Counter({2: 12, 1: 2, 3: 1})\n",
      "26 elgin Counter({3: 11, 2: 3, 1: 1})\n",
      "14 chirac Counter({3: 7, 2: 7, 1: 1})\n",
      "45 mcneill Counter({2: 7, 3: 7, 1: 1})\n",
      "46 miracle Counter({2: 10, 3: 4, 1: 1})\n",
      "21 devil Counter({2: 12, 3: 2, 1: 1})\n",
      "30 grandson Counter({2: 13, 1: 1, 3: 1})\n",
      "70 titanic Counter({3: 15})\n",
      "10 breakthrough Counter({3: 14, 2: 1})\n",
      "52 pals Counter({2: 12, 3: 3})\n",
      "63 restaurant Counter({2: 12, 3: 3})\n",
      "6 bevan Counter({2: 13, 3: 2})\n",
      "47 mobile Counter({2: 13, 3: 2})\n",
      "4 augusta Counter({2: 14, 3: 1})\n",
      "22 dialogue Counter({2: 14, 3: 1})\n",
      "58 queue Counter({2: 14, 3: 1})\n",
      "7 bonus Counter({2: 15})\n",
      "20 derby Counter({2: 15})\n",
      "61 referee Counter({2: 15})\n",
      "64 rugby Counter({2: 15})\n",
      "69 tiger Counter({2: 15})\n",
      "76 video Counter({2: 15})\n",
      "[(14, 2), (13, 1), (11, 1), (10, 2), (9, 1), (8, 2), (7, 8), (6, 7), (5, 7), (4, 9), (3, 8), (2, 9), (1, 6), (0, 15)]\n"
     ]
    }
   ],
   "source": [
    "# sort by times scot speech codes win most (1 is scottish speech codes)\n",
    "num_wins2count = Counter()\n",
    "h_barchart_data_scot = []\n",
    "sort_fn = lambda x:x[3][1] * 100 + x[3][3] #sort by scot then by no preference\n",
    "for i, condition, word, counter in sorted(all_words, key=sort_fn, reverse=True):\n",
    "    h_barchart_data_scot.append(counter)\n",
    "    print(i, word, counter)\n",
    "    num_wins = counter[1] # 1 is scot speech codes\n",
    "    num_wins2count[num_wins] += 1\n",
    "    \n",
    "scot_wins_counts = sorted(num_wins2count.items(), key=lambda x: x[0], reverse=True)\n",
    "    \n",
    "print(scot_wins_counts)"
   ]
  },
  {
   "cell_type": "markdown",
   "id": "da343bc6-d05f-44f7-8ec7-8fae3c966459",
   "metadata": {},
   "source": [
    "# make plot comparing times SAC us wins vs SAC scot"
   ]
  },
  {
   "cell_type": "code",
   "execution_count": 113,
   "id": "b4f87f8a-6c56-4e57-b6df-c507223f9984",
   "metadata": {
    "tags": []
   },
   "outputs": [
    {
     "data": {
      "text/plain": [
       "[(15, 6),\n",
       " (14, 3),\n",
       " (13, 3),\n",
       " (12, 4),\n",
       " (11, 1),\n",
       " (10, 2),\n",
       " (9, 3),\n",
       " (8, 4),\n",
       " (7, 7),\n",
       " (6, 5),\n",
       " (5, 6),\n",
       " (4, 5),\n",
       " (3, 10),\n",
       " (2, 11),\n",
       " (1, 3),\n",
       " (0, 5)]"
      ]
     },
     "execution_count": 113,
     "metadata": {},
     "output_type": "execute_result"
    }
   ],
   "source": [
    "us_wins_counts"
   ]
  },
  {
   "cell_type": "code",
   "execution_count": 114,
   "id": "2518141d-d37a-4ae8-b3fd-50e84a4b1c18",
   "metadata": {},
   "outputs": [
    {
     "data": {
      "text/plain": [
       "[(14, 2),\n",
       " (13, 1),\n",
       " (11, 1),\n",
       " (10, 2),\n",
       " (9, 1),\n",
       " (8, 2),\n",
       " (7, 8),\n",
       " (6, 7),\n",
       " (5, 7),\n",
       " (4, 9),\n",
       " (3, 8),\n",
       " (2, 9),\n",
       " (1, 6),\n",
       " (0, 15)]"
      ]
     },
     "execution_count": 114,
     "metadata": {},
     "output_type": "execute_result"
    }
   ],
   "source": [
    "scot_wins_counts"
   ]
  },
  {
   "cell_type": "code",
   "execution_count": 115,
   "id": "eb781f61-7bd8-4167-9cd8-ce93f55bdf17",
   "metadata": {},
   "outputs": [],
   "source": [
    "x,y = zip(*us_wins_counts)"
   ]
  },
  {
   "cell_type": "code",
   "execution_count": 116,
   "id": "e6c4f8d7-4836-45df-a253-527a7bad4a00",
   "metadata": {},
   "outputs": [
    {
     "data": {
      "text/plain": [
       "(15, 14, 13, 12, 11, 10, 9, 8, 7, 6, 5, 4, 3, 2, 1, 0)"
      ]
     },
     "execution_count": 116,
     "metadata": {},
     "output_type": "execute_result"
    }
   ],
   "source": [
    "x"
   ]
  },
  {
   "cell_type": "code",
   "execution_count": 117,
   "id": "8b79592c-cac9-44ff-b684-a241fb9118b7",
   "metadata": {},
   "outputs": [
    {
     "data": {
      "text/plain": [
       "(6, 3, 3, 4, 1, 2, 3, 4, 7, 5, 6, 5, 10, 11, 3, 5)"
      ]
     },
     "execution_count": 117,
     "metadata": {},
     "output_type": "execute_result"
    }
   ],
   "source": [
    "y"
   ]
  },
  {
   "cell_type": "code",
   "execution_count": 118,
   "id": "df316930-2793-4a99-b8a5-4bcbd71e483f",
   "metadata": {},
   "outputs": [
    {
     "data": {
      "text/plain": [
       "16"
      ]
     },
     "execution_count": 118,
     "metadata": {},
     "output_type": "execute_result"
    }
   ],
   "source": [
    "len(y)"
   ]
  },
  {
   "cell_type": "code",
   "execution_count": 119,
   "id": "b0c17aeb-e63d-4893-a18f-3eb430b31029",
   "metadata": {},
   "outputs": [
    {
     "data": {
      "text/plain": [
       "22"
      ]
     },
     "execution_count": 119,
     "metadata": {},
     "output_type": "execute_result"
    }
   ],
   "source": [
    "sum(y[:7])"
   ]
  },
  {
   "cell_type": "code",
   "execution_count": 120,
   "id": "d2d5d468-5710-4029-a7cb-35d4520ba658",
   "metadata": {},
   "outputs": [
    {
     "data": {
      "text/plain": [
       "<matplotlib.legend.Legend at 0x7fa048f199a0>"
      ]
     },
     "execution_count": 120,
     "metadata": {},
     "output_type": "execute_result"
    },
    {
     "data": {
      "image/png": "[encoded data removed]",
      "text/plain": [
       "<Figure size 432x288 with 1 Axes>"
      ]
     },
     "metadata": {
      "needs_background": "light"
     },
     "output_type": "display_data"
    }
   ],
   "source": [
    "us_wins_counts\n",
    "x,y = zip(*us_wins_counts)\n",
    "plt.plot(x,y, label=\"US\")\n",
    "x,y = zip(*scot_wins_counts)\n",
    "plt.plot(x,y, label=\"SCOT\")\n",
    "plt.legend()"
   ]
  },
  {
   "cell_type": "code",
   "execution_count": 121,
   "id": "82e265cd-6b3f-43be-96b8-e130f0c0b934",
   "metadata": {},
   "outputs": [
    {
     "name": "stdout",
     "output_type": "stream",
     "text": [
      "0 Strongly disagree ['Question 1', 'Question 2', 'Question 3', 'Question 4', 'Question 5', 'Question 6']\n",
      "1 Disagree ['Question 1', 'Question 2', 'Question 3', 'Question 4', 'Question 5', 'Question 6']\n",
      "2 Neither agree nor disagree ['Question 1', 'Question 2', 'Question 3', 'Question 4', 'Question 5', 'Question 6']\n",
      "3 Agree ['Question 1', 'Question 2', 'Question 3', 'Question 4', 'Question 5', 'Question 6']\n",
      "4 Strongly agree ['Question 1', 'Question 2', 'Question 3', 'Question 4', 'Question 5', 'Question 6']\n"
     ]
    },
    {
     "data": {
      "image/png": "[encoded data removed]",
      "text/plain": [
       "<Figure size 662.4x360 with 1 Axes>"
      ]
     },
     "metadata": {
      "needs_background": "light"
     },
     "output_type": "display_data"
    }
   ],
   "source": [
    "category_names = ['Strongly disagree', 'Disagree',\n",
    "                  'Neither agree nor disagree', 'Agree', 'Strongly agree']\n",
    "results = {\n",
    "    'Question 1': [10, 15, 17, 32, 26],\n",
    "    'Question 2': [26, 22, 29, 10, 13],\n",
    "    'Question 3': [35, 37, 7, 2, 19],\n",
    "    'Question 4': [32, 11, 9, 15, 33],\n",
    "    'Question 5': [21, 29, 5, 5, 40],\n",
    "    'Question 6': [8, 19, 5, 30, 38]\n",
    "}\n",
    "\n",
    "\n",
    "def survey(results, category_names):\n",
    "    \"\"\"\n",
    "    Parameters\n",
    "    ----------\n",
    "    results : dict\n",
    "        A mapping from question labels to a list of answers per category.\n",
    "        It is assumed all lists contain the same number of entries and that\n",
    "        it matches the length of *category_names*.\n",
    "    category_names : list of str\n",
    "        The category labels.\n",
    "    \"\"\"\n",
    "    labels = list(results.keys())\n",
    "    data = np.array(list(results.values()))\n",
    "    data_cum = data.cumsum(axis=1)\n",
    "    category_colors = plt.colormaps['RdYlGn'](\n",
    "        np.linspace(0.15, 0.85, data.shape[1]))\n",
    "\n",
    "    fig, ax = plt.subplots(figsize=(9.2, 5))\n",
    "    ax.invert_yaxis()\n",
    "    ax.xaxis.set_visible(False)\n",
    "    ax.set_xlim(0, np.sum(data, axis=1).max())\n",
    "\n",
    "    for i, (colname, color) in enumerate(zip(category_names, category_colors)):\n",
    "        print(i, colname, labels)\n",
    "        widths = data[:, i]\n",
    "        starts = data_cum[:, i] - widths\n",
    "        rects = ax.barh(labels, widths, left=starts, height=1,\n",
    "                        label=colname, color=color)\n",
    "\n",
    "        r, g, b, _ = color\n",
    "        text_color = 'white' if r * g * b < 0.5 else 'darkgrey'\n",
    "        ax.bar_label(rects, label_type='center', color=text_color)\n",
    "    ax.legend(ncol=len(category_names), bbox_to_anchor=(0, 1),\n",
    "              loc='lower left', fontsize='small')\n",
    "    \n",
    "    # turn off y axis labels\n",
    "    ax.axes.yaxis.set_visible(False)\n",
    "\n",
    "    return fig, ax\n",
    "\n",
    "\n",
    "survey(results, category_names)\n",
    "plt.show()"
   ]
  },
  {
   "cell_type": "code",
   "execution_count": 122,
   "id": "0de37b02-6f6c-4016-b79f-ce1b5c61e10c",
   "metadata": {
    "tags": []
   },
   "outputs": [],
   "source": [
    "def get_barwidths_from_counter(counter):\n",
    "    # US\n",
    "    if 2 in counter: \n",
    "        left = counter[2]\n",
    "    else:\n",
    "        left = 0\n",
    "    # no pref\n",
    "    if 3 in counter: \n",
    "        middle = counter[3]\n",
    "    else:\n",
    "        middle = 0\n",
    "    # Scot\n",
    "    if 1 in counter: \n",
    "        right = counter[1]\n",
    "    else:\n",
    "        right = 0\n",
    "    return [left, middle, right]"
   ]
  },
  {
   "cell_type": "code",
   "execution_count": 123,
   "id": "09e00440-0b31-41bd-8029-6aa980b7a051",
   "metadata": {},
   "outputs": [],
   "source": [
    "def get_barwidths_from_counter_scot(counter):\n",
    "    # US\n",
    "    if 1 in counter: \n",
    "        left = counter[1]\n",
    "    else:\n",
    "        left = 0\n",
    "    # no pref\n",
    "    if 3 in counter: \n",
    "        middle = counter[3]\n",
    "    else:\n",
    "        middle = 0\n",
    "    # Scot\n",
    "    if 2 in counter: \n",
    "        right = counter[2]\n",
    "    else:\n",
    "        right = 0\n",
    "    return [left, middle, right]"
   ]
  },
  {
   "cell_type": "code",
   "execution_count": 124,
   "id": "6d06cb86-7b8b-42a7-9b0b-c3de30ec2f81",
   "metadata": {
    "tags": []
   },
   "outputs": [
    {
     "data": {
      "text/plain": [
       "[Counter({2: 15}),\n",
       " Counter({2: 15}),\n",
       " Counter({2: 15}),\n",
       " Counter({2: 15}),\n",
       " Counter({2: 15}),\n",
       " Counter({2: 15}),\n",
       " Counter({2: 14, 3: 1}),\n",
       " Counter({2: 14, 3: 1}),\n",
       " Counter({2: 14, 3: 1}),\n",
       " Counter({2: 13, 3: 2}),\n",
       " Counter({2: 13, 3: 2}),\n",
       " Counter({3: 3, 2: 12}),\n",
       " Counter({3: 3, 2: 12}),\n",
       " Counter({2: 13, 1: 1, 3: 1}),\n",
       " Counter({3: 2, 2: 12, 1: 1}),\n",
       " Counter({3: 4, 2: 10, 1: 1}),\n",
       " Counter({1: 2, 2: 12, 3: 1}),\n",
       " Counter({3: 7, 2: 7, 1: 1}),\n",
       " Counter({2: 7, 1: 1, 3: 7}),\n",
       " Counter({2: 11, 3: 1, 1: 3}),\n",
       " Counter({3: 5, 2: 8, 1: 2}),\n",
       " Counter({3: 6, 2: 7, 1: 2}),\n",
       " Counter({3: 6, 1: 2, 2: 7}),\n",
       " Counter({2: 9, 1: 3, 3: 3}),\n",
       " Counter({2: 6, 3: 7, 1: 2}),\n",
       " Counter({2: 8, 3: 4, 1: 3}),\n",
       " Counter({2: 6, 3: 7, 1: 2}),\n",
       " Counter({2: 6, 3: 7, 1: 2}),\n",
       " Counter({2: 10, 3: 1, 1: 4}),\n",
       " Counter({2: 7, 1: 3, 3: 5}),\n",
       " Counter({3: 11, 2: 3, 1: 1}),\n",
       " Counter({1: 3, 3: 6, 2: 6}),\n",
       " Counter({2: 7, 1: 4, 3: 4}),\n",
       " Counter({2: 8, 1: 5, 3: 2}),\n",
       " Counter({2: 8, 1: 5, 3: 2}),\n",
       " Counter({1: 6, 2: 9}),\n",
       " Counter({2: 9, 1: 6}),\n",
       " Counter({3: 7, 1: 3, 2: 5}),\n",
       " Counter({1: 5, 2: 7, 3: 3}),\n",
       " Counter({3: 14, 2: 1}),\n",
       " Counter({2: 5, 1: 4, 3: 6}),\n",
       " Counter({3: 6, 2: 5, 1: 4}),\n",
       " Counter({1: 5, 2: 5, 3: 5}),\n",
       " Counter({2: 5, 1: 5, 3: 5}),\n",
       " Counter({1: 5, 2: 5, 3: 5}),\n",
       " Counter({1: 4, 3: 7, 2: 4}),\n",
       " Counter({2: 4, 1: 4, 3: 7}),\n",
       " Counter({1: 7, 2: 6, 3: 2}),\n",
       " Counter({3: 9, 2: 3, 1: 3}),\n",
       " Counter({1: 5, 3: 6, 2: 4}),\n",
       " Counter({3: 11, 1: 2, 2: 2}),\n",
       " Counter({3: 8, 2: 3, 1: 4}),\n",
       " Counter({1: 6, 2: 4, 3: 5}),\n",
       " Counter({1: 6, 2: 4, 3: 5}),\n",
       " Counter({3: 10, 1: 3, 2: 2}),\n",
       " Counter({1: 6, 3: 6, 2: 3}),\n",
       " Counter({3: 6, 1: 6, 2: 3}),\n",
       " Counter({1: 6, 3: 6, 2: 3}),\n",
       " Counter({1: 4, 3: 9, 2: 2}),\n",
       " Counter({3: 9, 1: 4, 2: 2}),\n",
       " Counter({1: 7, 3: 5, 2: 3}),\n",
       " Counter({3: 5, 2: 3, 1: 7}),\n",
       " Counter({1: 7, 3: 5, 2: 3}),\n",
       " Counter({1: 7, 2: 3, 3: 5}),\n",
       " Counter({1: 7, 3: 6, 2: 2}),\n",
       " Counter({1: 7, 2: 2, 3: 6}),\n",
       " Counter({3: 6, 1: 7, 2: 2}),\n",
       " Counter({3: 5, 1: 8, 2: 2}),\n",
       " Counter({3: 5, 1: 8, 2: 2}),\n",
       " Counter({1: 10, 2: 2, 3: 3}),\n",
       " Counter({1: 10, 2: 2, 3: 3}),\n",
       " Counter({1: 13, 3: 1, 2: 1}),\n",
       " Counter({1: 14, 2: 1}),\n",
       " Counter({3: 13, 1: 2}),\n",
       " Counter({3: 1, 1: 14}),\n",
       " Counter({3: 4, 1: 11}),\n",
       " Counter({3: 6, 1: 9}),\n",
       " Counter({3: 15})]"
      ]
     },
     "execution_count": 124,
     "metadata": {},
     "output_type": "execute_result"
    }
   ],
   "source": [
    "h_barchart_data"
   ]
  },
  {
   "cell_type": "code",
   "execution_count": 125,
   "id": "7c9a012f-f4a4-4605-87cf-6d4cb62b3ba6",
   "metadata": {},
   "outputs": [
    {
     "name": "stdout",
     "output_type": "stream",
     "text": [
      "0 us ['Question 1', 'Question 2', 'Question 3', 'Question 4', 'Question 5', 'Question 6', 'Question 7', 'Question 8', 'Question 9', 'Question 10', 'Question 11', 'Question 12', 'Question 13', 'Question 14', 'Question 15', 'Question 16', 'Question 17', 'Question 18', 'Question 19', 'Question 20', 'Question 21', 'Question 22', 'Question 23', 'Question 24', 'Question 25', 'Question 26', 'Question 27', 'Question 28', 'Question 29', 'Question 30', 'Question 31', 'Question 32', 'Question 33', 'Question 34', 'Question 35', 'Question 36', 'Question 37', 'Question 38', 'Question 39', 'Question 40', 'Question 41', 'Question 42', 'Question 43', 'Question 44', 'Question 45', 'Question 46', 'Question 47', 'Question 48', 'Question 49', 'Question 50', 'Question 51', 'Question 52', 'Question 53', 'Question 54', 'Question 55', 'Question 56', 'Question 57', 'Question 58', 'Question 59', 'Question 60', 'Question 61', 'Question 62', 'Question 63', 'Question 64', 'Question 65', 'Question 66', 'Question 67', 'Question 68', 'Question 69', 'Question 70', 'Question 71', 'Question 72', 'Question 73', 'Question 74', 'Question 75', 'Question 76', 'Question 77', 'Question 78']\n",
      "1 no pref ['Question 1', 'Question 2', 'Question 3', 'Question 4', 'Question 5', 'Question 6', 'Question 7', 'Question 8', 'Question 9', 'Question 10', 'Question 11', 'Question 12', 'Question 13', 'Question 14', 'Question 15', 'Question 16', 'Question 17', 'Question 18', 'Question 19', 'Question 20', 'Question 21', 'Question 22', 'Question 23', 'Question 24', 'Question 25', 'Question 26', 'Question 27', 'Question 28', 'Question 29', 'Question 30', 'Question 31', 'Question 32', 'Question 33', 'Question 34', 'Question 35', 'Question 36', 'Question 37', 'Question 38', 'Question 39', 'Question 40', 'Question 41', 'Question 42', 'Question 43', 'Question 44', 'Question 45', 'Question 46', 'Question 47', 'Question 48', 'Question 49', 'Question 50', 'Question 51', 'Question 52', 'Question 53', 'Question 54', 'Question 55', 'Question 56', 'Question 57', 'Question 58', 'Question 59', 'Question 60', 'Question 61', 'Question 62', 'Question 63', 'Question 64', 'Question 65', 'Question 66', 'Question 67', 'Question 68', 'Question 69', 'Question 70', 'Question 71', 'Question 72', 'Question 73', 'Question 74', 'Question 75', 'Question 76', 'Question 77', 'Question 78']\n",
      "2 scot ['Question 1', 'Question 2', 'Question 3', 'Question 4', 'Question 5', 'Question 6', 'Question 7', 'Question 8', 'Question 9', 'Question 10', 'Question 11', 'Question 12', 'Question 13', 'Question 14', 'Question 15', 'Question 16', 'Question 17', 'Question 18', 'Question 19', 'Question 20', 'Question 21', 'Question 22', 'Question 23', 'Question 24', 'Question 25', 'Question 26', 'Question 27', 'Question 28', 'Question 29', 'Question 30', 'Question 31', 'Question 32', 'Question 33', 'Question 34', 'Question 35', 'Question 36', 'Question 37', 'Question 38', 'Question 39', 'Question 40', 'Question 41', 'Question 42', 'Question 43', 'Question 44', 'Question 45', 'Question 46', 'Question 47', 'Question 48', 'Question 49', 'Question 50', 'Question 51', 'Question 52', 'Question 53', 'Question 54', 'Question 55', 'Question 56', 'Question 57', 'Question 58', 'Question 59', 'Question 60', 'Question 61', 'Question 62', 'Question 63', 'Question 64', 'Question 65', 'Question 66', 'Question 67', 'Question 68', 'Question 69', 'Question 70', 'Question 71', 'Question 72', 'Question 73', 'Question 74', 'Question 75', 'Question 76', 'Question 77', 'Question 78']\n"
     ]
    },
    {
     "data": {
      "image/png": "[encoded data removed]",
      "text/plain": [
       "<Figure size 1440x720 with 1 Axes>"
      ]
     },
     "metadata": {
      "needs_background": "light"
     },
     "output_type": "display_data"
    }
   ],
   "source": [
    "category_names = ['us', 'no pref', 'scot']\n",
    "\n",
    "results = {f'Question {i}': get_barwidths_from_counter(counter) for i, counter in enumerate(h_barchart_data,1)}\n",
    "\n",
    "\n",
    "def survey(results, category_names):\n",
    "    \"\"\"\n",
    "    Parameters\n",
    "    ----------\n",
    "    results : dict\n",
    "        A mapping from question labels to a list of answers per category.\n",
    "        It is assumed all lists contain the same number of entries and that\n",
    "        it matches the length of *category_names*.\n",
    "    category_names : list of str\n",
    "        The category labels.\n",
    "    \"\"\"\n",
    "    labels = list(results.keys())\n",
    "    data = np.array(list(results.values()))\n",
    "    data_cum = data.cumsum(axis=1)\n",
    "    category_colors = plt.colormaps['RdYlGn'](\n",
    "        np.linspace(0.15, 0.85, data.shape[1]))\n",
    "\n",
    "    fig, ax = plt.subplots(figsize=(20, 10))\n",
    "    ax.invert_yaxis()\n",
    "    ax.xaxis.set_visible(False)\n",
    "    ax.set_xlim(0, np.sum(data, axis=1).max())\n",
    "\n",
    "    for i, (colname, color) in enumerate(zip(category_names, category_colors)):\n",
    "        print(i, colname, labels)\n",
    "        widths = data[:, i]\n",
    "        starts = data_cum[:, i] - widths\n",
    "        rects = ax.barh(labels, widths, left=starts, height=1,\n",
    "                        label=colname, color=color)\n",
    "\n",
    "        r, g, b, _ = color\n",
    "        text_color = 'white' if r * g * b < 0.5 else 'darkgrey'\n",
    "        # ax.bar_label(rects, label_type='center', color=text_color)\n",
    "    ax.legend(ncol=len(category_names), bbox_to_anchor=(0, 1),\n",
    "              loc='lower left', fontsize='small')\n",
    "    \n",
    "    # turn off y axis labels\n",
    "    ax.axes.yaxis.set_visible(False)\n",
    "\n",
    "    return fig, ax\n",
    "\n",
    "\n",
    "survey(results, category_names)\n",
    "plt.show()"
   ]
  },
  {
   "cell_type": "code",
   "execution_count": 126,
   "id": "7de45afc-d69a-45ed-a942-5ed55b24505b",
   "metadata": {
    "tags": []
   },
   "outputs": [
    {
     "name": "stdout",
     "output_type": "stream",
     "text": [
      "0 scot ['Question 1', 'Question 2', 'Question 3', 'Question 4', 'Question 5', 'Question 6', 'Question 7', 'Question 8', 'Question 9', 'Question 10', 'Question 11', 'Question 12', 'Question 13', 'Question 14', 'Question 15', 'Question 16', 'Question 17', 'Question 18', 'Question 19', 'Question 20', 'Question 21', 'Question 22', 'Question 23', 'Question 24', 'Question 25', 'Question 26', 'Question 27', 'Question 28', 'Question 29', 'Question 30', 'Question 31', 'Question 32', 'Question 33', 'Question 34', 'Question 35', 'Question 36', 'Question 37', 'Question 38', 'Question 39', 'Question 40', 'Question 41', 'Question 42', 'Question 43', 'Question 44', 'Question 45', 'Question 46', 'Question 47', 'Question 48', 'Question 49', 'Question 50', 'Question 51', 'Question 52', 'Question 53', 'Question 54', 'Question 55', 'Question 56', 'Question 57', 'Question 58', 'Question 59', 'Question 60', 'Question 61', 'Question 62', 'Question 63', 'Question 64', 'Question 65', 'Question 66', 'Question 67', 'Question 68', 'Question 69', 'Question 70', 'Question 71', 'Question 72', 'Question 73', 'Question 74', 'Question 75', 'Question 76', 'Question 77', 'Question 78']\n",
      "1 no pref ['Question 1', 'Question 2', 'Question 3', 'Question 4', 'Question 5', 'Question 6', 'Question 7', 'Question 8', 'Question 9', 'Question 10', 'Question 11', 'Question 12', 'Question 13', 'Question 14', 'Question 15', 'Question 16', 'Question 17', 'Question 18', 'Question 19', 'Question 20', 'Question 21', 'Question 22', 'Question 23', 'Question 24', 'Question 25', 'Question 26', 'Question 27', 'Question 28', 'Question 29', 'Question 30', 'Question 31', 'Question 32', 'Question 33', 'Question 34', 'Question 35', 'Question 36', 'Question 37', 'Question 38', 'Question 39', 'Question 40', 'Question 41', 'Question 42', 'Question 43', 'Question 44', 'Question 45', 'Question 46', 'Question 47', 'Question 48', 'Question 49', 'Question 50', 'Question 51', 'Question 52', 'Question 53', 'Question 54', 'Question 55', 'Question 56', 'Question 57', 'Question 58', 'Question 59', 'Question 60', 'Question 61', 'Question 62', 'Question 63', 'Question 64', 'Question 65', 'Question 66', 'Question 67', 'Question 68', 'Question 69', 'Question 70', 'Question 71', 'Question 72', 'Question 73', 'Question 74', 'Question 75', 'Question 76', 'Question 77', 'Question 78']\n",
      "2 us ['Question 1', 'Question 2', 'Question 3', 'Question 4', 'Question 5', 'Question 6', 'Question 7', 'Question 8', 'Question 9', 'Question 10', 'Question 11', 'Question 12', 'Question 13', 'Question 14', 'Question 15', 'Question 16', 'Question 17', 'Question 18', 'Question 19', 'Question 20', 'Question 21', 'Question 22', 'Question 23', 'Question 24', 'Question 25', 'Question 26', 'Question 27', 'Question 28', 'Question 29', 'Question 30', 'Question 31', 'Question 32', 'Question 33', 'Question 34', 'Question 35', 'Question 36', 'Question 37', 'Question 38', 'Question 39', 'Question 40', 'Question 41', 'Question 42', 'Question 43', 'Question 44', 'Question 45', 'Question 46', 'Question 47', 'Question 48', 'Question 49', 'Question 50', 'Question 51', 'Question 52', 'Question 53', 'Question 54', 'Question 55', 'Question 56', 'Question 57', 'Question 58', 'Question 59', 'Question 60', 'Question 61', 'Question 62', 'Question 63', 'Question 64', 'Question 65', 'Question 66', 'Question 67', 'Question 68', 'Question 69', 'Question 70', 'Question 71', 'Question 72', 'Question 73', 'Question 74', 'Question 75', 'Question 76', 'Question 77', 'Question 78']\n"
     ]
    },
    {
     "data": {
      "image/png": "[encoded data removed]",
      "text/plain": [
       "<Figure size 1440x720 with 1 Axes>"
      ]
     },
     "metadata": {
      "needs_background": "light"
     },
     "output_type": "display_data"
    }
   ],
   "source": [
    "category_names = ['scot', 'no pref', 'us']\n",
    "\n",
    "results = {f'Question {i}': get_barwidths_from_counter_scot(counter) for i, counter in enumerate(h_barchart_data_scot,1)}\n",
    "\n",
    "\n",
    "def survey(results, category_names):\n",
    "    \"\"\"\n",
    "    Parameters\n",
    "    ----------\n",
    "    results : dict\n",
    "        A mapping from question labels to a list of answers per category.\n",
    "        It is assumed all lists contain the same number of entries and that\n",
    "        it matches the length of *category_names*.\n",
    "    category_names : list of str\n",
    "        The category labels.\n",
    "    \"\"\"\n",
    "    labels = list(results.keys())\n",
    "    data = np.array(list(results.values()))\n",
    "    data_cum = data.cumsum(axis=1)\n",
    "    category_colors = plt.colormaps['RdYlGn'](\n",
    "        np.linspace(0.15, 0.85, data.shape[1]))\n",
    "\n",
    "    fig, ax = plt.subplots(figsize=(20, 10))\n",
    "    ax.invert_yaxis()\n",
    "    ax.xaxis.set_visible(False)\n",
    "    ax.set_xlim(0, np.sum(data, axis=1).max())\n",
    "\n",
    "    for i, (colname, color) in enumerate(zip(category_names, category_colors)):\n",
    "        print(i, colname, labels)\n",
    "        widths = data[:, i]\n",
    "        starts = data_cum[:, i] - widths\n",
    "        rects = ax.barh(labels, widths, left=starts, height=1,\n",
    "                        label=colname, color=color)\n",
    "\n",
    "        r, g, b, _ = color\n",
    "        text_color = 'white' if r * g * b < 0.5 else 'darkgrey'\n",
    "        # ax.bar_label(rects, label_type='center', color=text_color)\n",
    "    ax.legend(ncol=len(category_names), bbox_to_anchor=(0, 1),\n",
    "              loc='lower left', fontsize='small')\n",
    "    \n",
    "    # turn off y axis labels\n",
    "    ax.axes.yaxis.set_visible(False)\n",
    "\n",
    "    return fig, ax\n",
    "\n",
    "\n",
    "survey(results, category_names)\n",
    "plt.show()"
   ]
  },
  {
   "cell_type": "code",
   "execution_count": null,
   "id": "6c6f7796-e639-44d8-9baa-83ce15141c53",
   "metadata": {},
   "outputs": [],
   "source": []
  }
 ],
 "metadata": {
  "kernelspec": {
   "display_name": "Python 3 (ipykernel)",
   "language": "python",
   "name": "python3"
  },
  "language_info": {
   "codemirror_mode": {
    "name": "ipython",
    "version": 3
   },
   "file_extension": ".py",
   "mimetype": "text/x-python",
   "name": "python",
   "nbconvert_exporter": "python",
   "pygments_lexer": "ipython3",
   "version": "3.8.12"
  }
 },
 "nbformat": 4,
 "nbformat_minor": 5
}
