{
 "cells": [
  {
   "cell_type": "code",
   "execution_count": 238,
   "id": "dbb39c45-26ef-45b3-bba6-3f90b5193f22",
   "metadata": {},
   "outputs": [],
   "source": [
    "from collections import defaultdict, Counter\n",
    "import numpy as np\n",
    "import pandas as pd"
   ]
  },
  {
   "cell_type": "code",
   "execution_count": 239,
   "id": "44c1923f-76c7-4d82-b9f0-491512f5af04",
   "metadata": {},
   "outputs": [],
   "source": [
    "NUM_ANS = 78\n",
    "POSSIBLE_ANSWERS = [1,2,3]\n",
    "participants_to_exclude = [\n",
    "    \"jason fong\",\n",
    "    \"Dan test\",\n",
    "    \"not applicable\",\n",
    "]\n",
    "\n",
    "def get_aggregated_answers(csv_path):\n",
    "    # load data from each test from csvs\n",
    "    with open(csv_path) as f:\n",
    "        all_lines = f.readlines()\n",
    "\n",
    "    # only get the lines referring to specific participants\n",
    "    lines = [l for l in all_lines if \"anonymous,EN\" in l]\n",
    "    \n",
    "    # exclude some participants\n",
    "    new_lines = []\n",
    "    for l in lines:\n",
    "        exclude_participant = False\n",
    "        for participant in participants_to_exclude:\n",
    "            if participant in l:\n",
    "                exclude_participant = True\n",
    "                print(\"excluding\", participant)\n",
    "        if exclude_participant:\n",
    "            pass\n",
    "        else:\n",
    "            new_lines.append(l)\n",
    "            \n",
    "    lines = new_lines\n",
    "\n",
    "    aggregated_answers = defaultdict(Counter) # aggregated over all participants, key is question num, value is dict of answers to answer counts\n",
    "    \"\"\"\n",
    "    aggregated_answers = {\n",
    "        question1: {\n",
    "            ans1: count_of_ans1,\n",
    "            ans2: count_of_ans2,\n",
    "            ans3: count_of_ans3,\n",
    "        }, \n",
    "        question2: {\n",
    "            ans1: count_of_ans1,\n",
    "            ans2: count_of_ans2,\n",
    "            ans3: count_of_ans3,\n",
    "        }, \n",
    "        ...\n",
    "    }\n",
    "    \"\"\"\n",
    "\n",
    "    for line in lines:\n",
    "        # get the answers for each participant\n",
    "        answers = line.split(\"anonymous,EN\")[-1].split(',')[3:-1] # upto but excluding last element as last question in survey is confirmation of working audio\n",
    "        answers = [int(ans) for ans in answers]\n",
    "\n",
    "        # assert that we have the correct number of answers and that they have the correct values\n",
    "        assert len(answers) == NUM_ANS, len(answers)\n",
    "        for ans in answers:\n",
    "            assert ans in POSSIBLE_ANSWERS\n",
    "\n",
    "        # aggregate the answer for this participant\n",
    "        for question_num, ans in enumerate(answers, 1):\n",
    "            aggregated_answers[question_num][ans] += 1\n",
    "            \n",
    "    return aggregated_answers"
   ]
  },
  {
   "cell_type": "code",
   "execution_count": 240,
   "id": "ae904975-1406-41e2-80d8-29f39f90e6f2",
   "metadata": {
    "tags": []
   },
   "outputs": [],
   "source": [
    "def get_conditions(test_num, utt_num):\n",
    "    assert 1 <= test_num <= 6\n",
    "    assert 1 <= utt_num <= NUM_ANS\n",
    "\n",
    "    # create testnum + uttnum -> pair of conditions -> conditions mapping \n",
    "    ranges = [ # range of questions related to each condition pair\n",
    "        (0,13), # for first condition pair\n",
    "        (13,26), # for second condition pair\n",
    "        (26,39), # etc.\n",
    "        (39,52),\n",
    "        (52,65),\n",
    "        (65,78),\n",
    "    ]\n",
    "\n",
    "    testnum2conditionpairs = { \n",
    "        1: ('A','B','F','C','E','D'), # test num to condition pairs \n",
    "        2: ('B','C','A','D','F','E'), \n",
    "        3: ('C','D','B','E','A','F'),\n",
    "        4: ('D','E','C','F','B','A'),\n",
    "        5: ('E','F','D','A','C','B'),\n",
    "        6: ('F','A','E','B','D','C'),\n",
    "    }\n",
    "\n",
    "    letter2conditionpair = {\n",
    "        'A': (\"sac_grapheme\", \"vanillatts_grapheme\"), # condition pair to system on left and system on right\n",
    "        'B': (\"sac_speechcode_us\", \"vanillatts_grapheme\"),\n",
    "        'C': (\"sac_speechcode_us\", \"sac_grapheme\"),\n",
    "        'D': (\"sac_speechcode_scot\", \"vanillatts_grapheme\"),\n",
    "        'E': (\"sac_speechcode_scot\", \"sac_grapheme\"),\n",
    "        'F': (\"sac_speechcode_scot\", \"sac_speechcode_us\"),\n",
    "    }\n",
    "\n",
    "    # get the condition pair\n",
    "    for condition_pair_idx, r in enumerate(ranges):\n",
    "        if r[0] < utt_num <= r[1]:\n",
    "            condition_pair = testnum2conditionpairs[test_num][condition_pair_idx]\n",
    "            break\n",
    "\n",
    "    # get the conditions from the condition pair\n",
    "    cond1, cond2 = letter2conditionpair[condition_pair]\n",
    "    # print(\"test_num\", test_num, \"utt_num\", utt_num, \"condition_pair\", condition_pair,\"cond1\", cond1, \"cond2\", cond2)\n",
    "    \n",
    "    return cond1, cond2"
   ]
  },
  {
   "cell_type": "code",
   "execution_count": 241,
   "id": "651c99f7-aaff-414a-940a-2f3a275bb746",
   "metadata": {},
   "outputs": [],
   "source": [
    "def get_conditionpair2wincounts(aggregated_answers, test_num):\n",
    "\n",
    "    conditionpair2wincounts = Counter()\n",
    "    \"\"\"\n",
    "    conditionpair2wincounts = {\n",
    "        (cond1,cond2): 5, # cond1 beats cond2 5 times\n",
    "        (cond2,cond1): 50 # cond2 beats cond1 50 times\n",
    "    }\n",
    "\n",
    "    NB ties/draws give 0.5 of a win to both conditions\n",
    "    \"\"\"\n",
    "    \n",
    "    conditionpair2numwins_and_numdraws = defaultdict(Counter)\n",
    "    \"\"\"\n",
    "    conditionpair2numwins_and_numdraws = {\n",
    "        (cond1,cond2): {\n",
    "            wins: 20\n",
    "            draws: 12\n",
    "        },\n",
    "        (cond2,cond1): {\n",
    "            wins: 5\n",
    "            draws: 4\n",
    "        } \n",
    "        ...\n",
    "    }\n",
    "    \"\"\"\n",
    "    \n",
    "\n",
    "    # add wins to systems based on aggregated_answers and the pair of conditions\n",
    "    for utt_num, answer2counts in aggregated_answers.items():\n",
    "        # print(utt_num, answer2counts)\n",
    "        cond1, cond2 = get_conditions(test_num, utt_num)\n",
    "        if 1 in answer2counts: # cond1 won\n",
    "            conditionpair2wincounts[(cond1, cond2)] += answer2counts[1]\n",
    "            conditionpair2numwins_and_numdraws[(cond1, cond2)]['wins'] += answer2counts[1]\n",
    "        if 2 in answer2counts: # cond2 won\n",
    "            conditionpair2wincounts[(cond2, cond1)] += answer2counts[2]\n",
    "            conditionpair2numwins_and_numdraws[(cond2, cond1)]['wins'] += answer2counts[2]\n",
    "        if 3 in answer2counts: # cond1 and 2 drew\n",
    "            conditionpair2wincounts[(cond1, cond2)] += 0.5 * answer2counts[3]\n",
    "            # print(\"conditionpair2wincounts[(cond1, cond2)]\", conditionpair2wincounts[(cond1, cond2)])\n",
    "            conditionpair2wincounts[(cond2, cond1)] += 0.5 * answer2counts[3]\n",
    "            conditionpair2numwins_and_numdraws[(cond1, cond2)]['draws'] += answer2counts[3]\n",
    "            conditionpair2numwins_and_numdraws[(cond2, cond1)]['draws'] += answer2counts[3]\n",
    "\n",
    "    return conditionpair2wincounts, conditionpair2numwins_and_numdraws"
   ]
  },
  {
   "cell_type": "code",
   "execution_count": 242,
   "id": "9d4bfc58-6ff2-4261-bb40-1abd6d21155b",
   "metadata": {
    "tags": []
   },
   "outputs": [
    {
     "name": "stdout",
     "output_type": "stream",
     "text": [
      "excluding jason fong\n",
      "excluding Dan test\n",
      "excluding not applicable\n"
     ]
    }
   ],
   "source": [
    "# use testnum + uttnum -> pair of conditions -> conditions mapping \n",
    "# to assemble counts of how many times one condition beats another condition\n",
    "paths = [\n",
    "    \"listening_test_data/IS2022 - Test 1 - Final_March 21, 2022_05.18.csv\",\n",
    "    \"listening_test_data/IS2022 - Test 2 - Final_March 21, 2022_05.19.csv\",\n",
    "    \"listening_test_data/IS2022 - Test 3 - Final_March 21, 2022_05.19.csv\",\n",
    "    \"listening_test_data/IS2022 - Test 4 - Final_March 21, 2022_05.19.csv\",\n",
    "    \"listening_test_data/IS2022 - Test 5 - Final_March 21, 2022_05.20.csv\",\n",
    "    \"listening_test_data/IS2022 - Test 6 - Final_March 21, 2022_05.20.csv\",\n",
    "]\n",
    "\n",
    "alltests_conditionpair2wincounts = Counter()\n",
    "alltests_conditionpair2numwins_and_numdraws = defaultdict(Counter)\n",
    "\n",
    "for test_num, csv_path in enumerate(paths, 1):\n",
    "    conditionpair2wincounts, conditionpair2numwins_and_numdraws = get_conditionpair2wincounts(get_aggregated_answers(csv_path), test_num)\n",
    "    for conditionpair, wincount in conditionpair2wincounts.items():\n",
    "        # print(\"DEBUG\", test_num, csv_path, conditionpair, wincount)\n",
    "        alltests_conditionpair2wincounts[conditionpair] += wincount\n",
    "        \n",
    "    for conditionpair,numwins_and_numdraws in conditionpair2numwins_and_numdraws.items():\n",
    "        # print(alltests_conditionpair2wincounts)\n",
    "        # print(numwins_and_numdraws)\n",
    "        alltests_conditionpair2numwins_and_numdraws[conditionpair]['wins'] += numwins_and_numdraws['wins']\n",
    "        alltests_conditionpair2numwins_and_numdraws[conditionpair]['draws'] += numwins_and_numdraws['draws']"
   ]
  },
  {
   "cell_type": "code",
   "execution_count": 243,
   "id": "e7e4ecdf-9556-45d9-a2ce-548837168734",
   "metadata": {},
   "outputs": [
    {
     "data": {
      "text/plain": [
       "defaultdict(collections.Counter,\n",
       "            {('sac_grapheme',\n",
       "              'vanillatts_grapheme'): Counter({'wins': 29, 'draws': 156}),\n",
       "             ('vanillatts_grapheme',\n",
       "              'sac_grapheme'): Counter({'wins': 36, 'draws': 156}),\n",
       "             ('sac_speechcode_us',\n",
       "              'vanillatts_grapheme'): Counter({'wins': 159, 'draws': 29}),\n",
       "             ('vanillatts_grapheme',\n",
       "              'sac_speechcode_us'): Counter({'wins': 33, 'draws': 29}),\n",
       "             ('sac_speechcode_us',\n",
       "              'sac_speechcode_scot'): Counter({'wins': 92, 'draws': 59}),\n",
       "             ('sac_speechcode_scot',\n",
       "              'sac_speechcode_us'): Counter({'wins': 70, 'draws': 59}),\n",
       "             ('sac_speechcode_us',\n",
       "              'sac_grapheme'): Counter({'wins': 158, 'draws': 42}),\n",
       "             ('sac_grapheme',\n",
       "              'sac_speechcode_us'): Counter({'wins': 21, 'draws': 42}),\n",
       "             ('sac_speechcode_scot',\n",
       "              'sac_grapheme'): Counter({'wins': 140, 'draws': 59}),\n",
       "             ('sac_grapheme',\n",
       "              'sac_speechcode_scot'): Counter({'wins': 22, 'draws': 59}),\n",
       "             ('sac_speechcode_scot',\n",
       "              'vanillatts_grapheme'): Counter({'wins': 142, 'draws': 45}),\n",
       "             ('vanillatts_grapheme',\n",
       "              'sac_speechcode_scot'): Counter({'wins': 34, 'draws': 45})})"
      ]
     },
     "execution_count": 243,
     "metadata": {},
     "output_type": "execute_result"
    }
   ],
   "source": [
    "alltests_conditionpair2numwins_and_numdraws"
   ]
  },
  {
   "cell_type": "code",
   "execution_count": 244,
   "id": "1d6c4fc3-606e-440c-b114-0d71ab316dd8",
   "metadata": {},
   "outputs": [
    {
     "data": {
      "text/plain": [
       "Counter({('sac_grapheme', 'vanillatts_grapheme'): 107.0,\n",
       "         ('vanillatts_grapheme', 'sac_grapheme'): 114.0,\n",
       "         ('sac_speechcode_us', 'vanillatts_grapheme'): 173.5,\n",
       "         ('vanillatts_grapheme', 'sac_speechcode_us'): 47.5,\n",
       "         ('sac_speechcode_us', 'sac_speechcode_scot'): 121.5,\n",
       "         ('sac_speechcode_scot', 'sac_speechcode_us'): 99.5,\n",
       "         ('sac_speechcode_us', 'sac_grapheme'): 179.0,\n",
       "         ('sac_grapheme', 'sac_speechcode_us'): 42.0,\n",
       "         ('sac_speechcode_scot', 'sac_grapheme'): 169.5,\n",
       "         ('sac_grapheme', 'sac_speechcode_scot'): 51.5,\n",
       "         ('sac_speechcode_scot', 'vanillatts_grapheme'): 164.5,\n",
       "         ('vanillatts_grapheme', 'sac_speechcode_scot'): 56.5})"
      ]
     },
     "execution_count": 244,
     "metadata": {},
     "output_type": "execute_result"
    }
   ],
   "source": [
    "# visualise this counts matrix\n",
    "alltests_conditionpair2wincounts"
   ]
  },
  {
   "cell_type": "code",
   "execution_count": 245,
   "id": "63d2be13-7081-4fc3-a0e7-f5110bcb7148",
   "metadata": {},
   "outputs": [],
   "source": [
    "# save counts matrix in format ready for R and bradley terry analysis (perfmod version of BTL)\n",
    "c = np.zeros((4,4), dtype=int)\n",
    "\n",
    "# description from https://github.com/EllaKaye/BradleyTerryScalable\n",
    "# A matrix (either a base matrix or a class from the Matrix package), dimension K by K, \n",
    "# where K is the number of items. The i, j-th element is wi**j, the number of times item i has beaten item j. \n",
    "# Ties can be accounted for by assigning half a win (i.e. 0.5) to each item."
   ]
  },
  {
   "cell_type": "code",
   "execution_count": 246,
   "id": "2980e7fa-2521-4b00-b720-aea614c1f4f7",
   "metadata": {},
   "outputs": [
    {
     "data": {
      "text/plain": [
       "array([[0, 0, 0, 0],\n",
       "       [0, 0, 0, 0],\n",
       "       [0, 0, 0, 0],\n",
       "       [0, 0, 0, 0]])"
      ]
     },
     "execution_count": 246,
     "metadata": {},
     "output_type": "execute_result"
    }
   ],
   "source": [
    "c "
   ]
  },
  {
   "cell_type": "code",
   "execution_count": 247,
   "id": "cfcc000c-29da-47d1-a18e-c725a6c51bcd",
   "metadata": {},
   "outputs": [],
   "source": [
    "cond2matrix_idx = {\n",
    "    \"vanillatts_grapheme\": 0,\n",
    "    \"sac_grapheme\": 1,\n",
    "    \"sac_speechcode_us\": 2,\n",
    "    \"sac_speechcode_scot\": 3,\n",
    "}"
   ]
  },
  {
   "cell_type": "code",
   "execution_count": 248,
   "id": "ff41fe5c-d9d5-4407-b1e2-fa8cc9d8ed8d",
   "metadata": {},
   "outputs": [],
   "source": [
    "for (cond1, cond2), count in alltests_conditionpair2wincounts.items():\n",
    "    i, j = cond2matrix_idx[cond1], cond2matrix_idx[cond2]\n",
    "    c[i][j] = count"
   ]
  },
  {
   "cell_type": "code",
   "execution_count": 249,
   "id": "6e2b391b-53be-4c64-9be9-cd11ff710076",
   "metadata": {},
   "outputs": [
    {
     "data": {
      "text/plain": [
       "array([[  0, 114,  47,  56],\n",
       "       [107,   0,  42,  51],\n",
       "       [173, 179,   0, 121],\n",
       "       [164, 169,  99,   0]])"
      ]
     },
     "execution_count": 249,
     "metadata": {},
     "output_type": "execute_result"
    }
   ],
   "source": [
    "c"
   ]
  },
  {
   "cell_type": "code",
   "execution_count": 250,
   "id": "40510666-a081-46f7-9c3f-78d185556741",
   "metadata": {},
   "outputs": [],
   "source": [
    "# create a pandas dataframe so we can label rows and columns\n",
    "column_names = [\"vanillatts_grapheme\", \"sac_grapheme\", \"sac_speechcode_us\", \"sac_speechcode_scot\"]\n",
    "row_names = [\"vanillatts_grapheme\", \"sac_grapheme\", \"sac_speechcode_us\", \"sac_speechcode_scot\"]\n",
    "df = pd.DataFrame(c, columns=column_names, index=row_names)"
   ]
  },
  {
   "cell_type": "code",
   "execution_count": 251,
   "id": "83f1c4fe-96b4-4821-bb61-8330ed489291",
   "metadata": {},
   "outputs": [
    {
     "data": {
      "text/html": [
       "<div>\n",
       "<style scoped>\n",
       "    .dataframe tbody tr th:only-of-type {\n",
       "        vertical-align: middle;\n",
       "    }\n",
       "\n",
       "    .dataframe tbody tr th {\n",
       "        vertical-align: top;\n",
       "    }\n",
       "\n",
       "    .dataframe thead th {\n",
       "        text-align: right;\n",
       "    }\n",
       "</style>\n",
       "<table border=\"1\" class=\"dataframe\">\n",
       "  <thead>\n",
       "    <tr style=\"text-align: right;\">\n",
       "      <th></th>\n",
       "      <th>vanillatts_grapheme</th>\n",
       "      <th>sac_grapheme</th>\n",
       "      <th>sac_speechcode_us</th>\n",
       "      <th>sac_speechcode_scot</th>\n",
       "    </tr>\n",
       "  </thead>\n",
       "  <tbody>\n",
       "    <tr>\n",
       "      <th>vanillatts_grapheme</th>\n",
       "      <td>0</td>\n",
       "      <td>114</td>\n",
       "      <td>47</td>\n",
       "      <td>56</td>\n",
       "    </tr>\n",
       "    <tr>\n",
       "      <th>sac_grapheme</th>\n",
       "      <td>107</td>\n",
       "      <td>0</td>\n",
       "      <td>42</td>\n",
       "      <td>51</td>\n",
       "    </tr>\n",
       "    <tr>\n",
       "      <th>sac_speechcode_us</th>\n",
       "      <td>173</td>\n",
       "      <td>179</td>\n",
       "      <td>0</td>\n",
       "      <td>121</td>\n",
       "    </tr>\n",
       "    <tr>\n",
       "      <th>sac_speechcode_scot</th>\n",
       "      <td>164</td>\n",
       "      <td>169</td>\n",
       "      <td>99</td>\n",
       "      <td>0</td>\n",
       "    </tr>\n",
       "  </tbody>\n",
       "</table>\n",
       "</div>"
      ],
      "text/plain": [
       "                     vanillatts_grapheme  sac_grapheme  sac_speechcode_us  \\\n",
       "vanillatts_grapheme                    0           114                 47   \n",
       "sac_grapheme                         107             0                 42   \n",
       "sac_speechcode_us                    173           179                  0   \n",
       "sac_speechcode_scot                  164           169                 99   \n",
       "\n",
       "                     sac_speechcode_scot  \n",
       "vanillatts_grapheme                   56  \n",
       "sac_grapheme                          51  \n",
       "sac_speechcode_us                    121  \n",
       "sac_speechcode_scot                    0  "
      ]
     },
     "execution_count": 251,
     "metadata": {},
     "output_type": "execute_result"
    }
   ],
   "source": [
    "df"
   ]
  },
  {
   "cell_type": "code",
   "execution_count": 252,
   "id": "f737f7f6-86b6-41a5-8b9a-6221c7b3100e",
   "metadata": {},
   "outputs": [],
   "source": [
    "np.savetxt(\"listening_test_data/counts_matrix.txt\", c.astype(int), fmt='%i', delimiter=\",\")"
   ]
  },
  {
   "cell_type": "markdown",
   "id": "ad29b998-ff46-42cb-bfc1-992d240f68d0",
   "metadata": {},
   "source": [
    "# Use python package choix to get bradley terry estimates of quality for our conditions"
   ]
  },
  {
   "cell_type": "code",
   "execution_count": 253,
   "id": "31250c2e-1506-4cd0-a6b5-b9f136e9bb01",
   "metadata": {},
   "outputs": [],
   "source": [
    "from choix import lsr_pairwise_dense, ilsr_pairwise_dense #non iterative and iterative versions"
   ]
  },
  {
   "cell_type": "code",
   "execution_count": 254,
   "id": "dcf06807-de7e-465d-8a76-671e9e3f4837",
   "metadata": {},
   "outputs": [
    {
     "data": {
      "text/plain": [
       "[-0.5744829439815764,\n",
       " -0.6815273954228719,\n",
       " 0.7343366068119944,\n",
       " 0.5216737325924541]"
      ]
     },
     "execution_count": 254,
     "metadata": {},
     "output_type": "execute_result"
    }
   ],
   "source": [
    "lsr_pairwise_dense(c).tolist()"
   ]
  },
  {
   "cell_type": "code",
   "execution_count": 255,
   "id": "75336d67-b50e-42dd-8e96-7486fbc173fb",
   "metadata": {},
   "outputs": [
    {
     "data": {
      "text/plain": [
       "[-0.5813515408693363,\n",
       " -0.6736261821832774,\n",
       " 0.7358235742260038,\n",
       " 0.5191541488266098]"
      ]
     },
     "execution_count": 255,
     "metadata": {},
     "output_type": "execute_result"
    }
   ],
   "source": [
    "islr_res = ilsr_pairwise_dense(c).tolist()\n",
    "islr_res"
   ]
  },
  {
   "cell_type": "code",
   "execution_count": 256,
   "id": "613f4371-b9fb-4a13-8264-997d1a7da153",
   "metadata": {},
   "outputs": [
    {
     "data": {
      "text/plain": [
       "[(-0.5813515408693363, 'vanillatts_grapheme'),\n",
       " (-0.6736261821832774, 'sac_grapheme'),\n",
       " (0.7358235742260038, 'sac_speechcode_us'),\n",
       " (0.5191541488266098, 'sac_speechcode_scot')]"
      ]
     },
     "execution_count": 256,
     "metadata": {},
     "output_type": "execute_result"
    }
   ],
   "source": [
    "list(zip(islr_res, column_names)) # unsorted"
   ]
  },
  {
   "cell_type": "code",
   "execution_count": 257,
   "id": "289b7d3a-3a97-4b86-86b5-c96e1bbd4d74",
   "metadata": {},
   "outputs": [
    {
     "data": {
      "text/plain": [
       "[(0.7358235742260038, 'sac_speechcode_us'),\n",
       " (0.5191541488266098, 'sac_speechcode_scot'),\n",
       " (-0.5813515408693363, 'vanillatts_grapheme'),\n",
       " (-0.6736261821832774, 'sac_grapheme')]"
      ]
     },
     "execution_count": 257,
     "metadata": {},
     "output_type": "execute_result"
    }
   ],
   "source": [
    "# sort cols by result value to make legend easier to read\n",
    "sorted(zip(islr_res, column_names), reverse=True)"
   ]
  },
  {
   "cell_type": "code",
   "execution_count": 258,
   "id": "c22ca77b-a519-4f30-b083-6267ef6632c5",
   "metadata": {},
   "outputs": [],
   "source": [
    "import matplotlib.pyplot as plt"
   ]
  },
  {
   "cell_type": "code",
   "execution_count": 259,
   "id": "7254b283-17af-4c66-958d-f8046b39397b",
   "metadata": {},
   "outputs": [
    {
     "data": {
      "image/png": "[encoded data removed]",
      "text/plain": [
       "<Figure size 432x288 with 1 Axes>"
      ]
     },
     "metadata": {
      "needs_background": "light"
     },
     "output_type": "display_data"
    }
   ],
   "source": [
    "fig, ax = plt.subplots()\n",
    "# ax.scatter(x=islr_res, y=np.array([0,0,0,0]))\n",
    "markers = ['^', 'o','X', 's',]\n",
    "colours = ['#6dda9d', '#e96860', '#7ea9e5', '#e46af0']\n",
    "for (x_val, label), marker, colour in zip(sorted(zip(islr_res, column_names), reverse=False), markers, colours):\n",
    "    ax.scatter(x=x_val, y=[0.125], marker=marker, label=label, s=125, c=colour)\n",
    "    \n",
    "ax.set_aspect(2)\n",
    "ax.grid(True, which='both', axis=\"x\")\n",
    "\n",
    "#############################################\n",
    "# set the x-spine (see below for more info on `set_position`)\n",
    "# ax.spines['left'].set_position('zero')\n",
    "# turn off the right spine/ticks\n",
    "\n",
    "ax.spines['left'].set_color('none')\n",
    "ax.spines['right'].set_color('none')\n",
    "# ax.yaxis.tick_left()\n",
    "\n",
    "#############################################\n",
    "# set the y-spine\n",
    "ax.spines['bottom'].set_position('zero')\n",
    "\n",
    "#############################################\n",
    "# turn off the top spine/ticks\n",
    "ax.spines['top'].set_color('none')\n",
    "ax.xaxis.tick_bottom()\n",
    "\n",
    "ax.set_yticks([])\n",
    "\n",
    "#############################################\n",
    "# limits\n",
    "plt.xlim([-1, 1.01])\n",
    "plt.ylim([0, 0.25])\n",
    "\n",
    "ax.axvline(x=0.0035, color='k')\n",
    "ax.axhline(y=-0, color='k')\n",
    "\n",
    "legend = ax.legend(\n",
    "    # loc=\"upper left\", \n",
    "    bbox_to_anchor =(-0.03, 1.05),\n",
    ")\n",
    "\n",
    "legend.set_title(\"Conditions:\")\n",
    "# legend.set_title(r\"$\\bf{Conditions}$\")\n",
    "                 # prop = {'size':15})\n",
    "legend._legend_box.align = \"left\"\n",
    "\n",
    "ax.set_xlabel(\"Condition Strength\")\n",
    "plt.savefig('plots/results.pdf', bbox_inches='tight')"
   ]
  },
  {
   "cell_type": "code",
   "execution_count": null,
   "id": "e2364e13-ec9d-4b30-b7a1-f10e77e35ffa",
   "metadata": {},
   "outputs": [],
   "source": []
  },
  {
   "cell_type": "code",
   "execution_count": null,
   "id": "cba74afc-391f-4b91-99b7-b5ca557522ed",
   "metadata": {},
   "outputs": [],
   "source": []
  }
 ],
 "metadata": {
  "kernelspec": {
   "display_name": "Python 3 (ipykernel)",
   "language": "python",
   "name": "python3"
  },
  "language_info": {
   "codemirror_mode": {
    "name": "ipython",
    "version": 3
   },
   "file_extension": ".py",
   "mimetype": "text/x-python",
   "name": "python",
   "nbconvert_exporter": "python",
   "pygments_lexer": "ipython3",
   "version": "3.8.12"
  }
 },
 "nbformat": 4,
 "nbformat_minor": 5
}
