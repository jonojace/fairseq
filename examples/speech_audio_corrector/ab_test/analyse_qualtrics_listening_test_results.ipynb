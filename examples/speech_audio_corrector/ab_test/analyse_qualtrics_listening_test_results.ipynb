{
 "cells": [
  {
   "cell_type": "code",
   "execution_count": 69,
   "id": "dbb39c45-26ef-45b3-bba6-3f90b5193f22",
   "metadata": {},
   "outputs": [],
   "source": [
    "from collections import defaultdict, Counter\n",
    "import numpy as np\n",
    "import pandas as pd\n",
    "\n",
    "# conda activate is2022"
   ]
  },
  {
   "cell_type": "code",
   "execution_count": 70,
   "id": "44c1923f-76c7-4d82-b9f0-491512f5af04",
   "metadata": {},
   "outputs": [],
   "source": [
    "NUM_ANS = 78\n",
    "POSSIBLE_ANSWERS = [1,2,3]\n",
    "participants_to_exclude = [\n",
    "    \"jason fong\",\n",
    "    \"Dan test\",\n",
    "    \"not applicable\",\n",
    "]\n",
    "NUM_PARTICIPANTS_PER_TEST = 15\n",
    "\n",
    "def get_aggregated_answers(csv_path):\n",
    "    # load data from each test from csvs\n",
    "    with open(csv_path) as f:\n",
    "        all_lines = f.readlines()\n",
    "\n",
    "    # only get the lines referring to specific participants\n",
    "    lines = [l for l in all_lines if \"anonymous,EN\" in l]\n",
    "    \n",
    "    # exclude some participants\n",
    "    new_lines = []\n",
    "    for l in lines:\n",
    "        exclude_participant = False\n",
    "        for participant in participants_to_exclude:\n",
    "            if participant in l:\n",
    "                exclude_participant = True\n",
    "                print(\"excluding\", participant)\n",
    "        if exclude_participant:\n",
    "            pass\n",
    "        else:\n",
    "            new_lines.append(l)\n",
    "            \n",
    "    lines = new_lines\n",
    "\n",
    "    aggregated_answers = defaultdict(Counter) # aggregated over all participants, key is question num, value is dict of answers to answer counts\n",
    "    \"\"\"\n",
    "    aggregated_answers = {\n",
    "        question1: {\n",
    "            ans1: count_of_ans1,\n",
    "            ans2: count_of_ans2,\n",
    "            ans3: count_of_ans3,\n",
    "        }, \n",
    "        question2: {\n",
    "            ans1: count_of_ans1,\n",
    "            ans2: count_of_ans2,\n",
    "            ans3: count_of_ans3,\n",
    "        }, \n",
    "        ...\n",
    "    }\n",
    "    \"\"\"\n",
    "    \n",
    "    print(f\"after filtering found {len(lines)} participants in {csv_path} which != {NUM_PARTICIPANTS_PER_TEST}\")\n",
    "    # assert len(lines) == NUM_PARTICIPANTS_PER_TEST\n",
    "    \n",
    "    lines = lines[:NUM_PARTICIPANTS_PER_TEST] # exclude latest participants (they shouldnt have been recruited!!!!)\n",
    "\n",
    "    for line in lines:\n",
    "        # get the answers for each participant\n",
    "        answers = line.split(\"anonymous,EN\")[-1].split(',')[3:-1] # upto but excluding last element as last question in survey is confirmation of working audio\n",
    "        answers = [int(ans) for ans in answers]\n",
    "\n",
    "        # assert that we have the correct number of answers and that they have the correct values\n",
    "        assert len(answers) == NUM_ANS, len(answers)\n",
    "        for ans in answers:\n",
    "            assert ans in POSSIBLE_ANSWERS\n",
    "\n",
    "        # aggregate the answer for this participant\n",
    "        for question_num, ans in enumerate(answers, 1):\n",
    "            aggregated_answers[question_num][ans] += 1\n",
    "            \n",
    "    return aggregated_answers"
   ]
  },
  {
   "cell_type": "code",
   "execution_count": 71,
   "id": "ae904975-1406-41e2-80d8-29f39f90e6f2",
   "metadata": {
    "tags": []
   },
   "outputs": [],
   "source": [
    "# create testnum + uttnum -> pair of conditions -> conditions mapping \n",
    "ranges = [ # range of questions related to each condition pair\n",
    "    (0,13), # for first condition pair\n",
    "    (13,26), # for second condition pair\n",
    "    (26,39), # etc.\n",
    "    (39,52),\n",
    "    (52,65),\n",
    "    (65,78),\n",
    "]\n",
    "\n",
    "testnum2conditionpairs = { \n",
    "    1: ('A','B','F','C','E','D'), # test num to condition pairs \n",
    "    2: ('B','C','A','D','F','E'), \n",
    "    3: ('C','D','B','E','A','F'),\n",
    "    4: ('D','E','C','F','B','A'),\n",
    "    5: ('E','F','D','A','C','B'),\n",
    "    6: ('F','A','E','B','D','C'),\n",
    "}\n",
    "\n",
    "letter2conditionpair = {\n",
    "    'A': (\"sac_grapheme\", \"vanillatts_grapheme\"), # condition pair to system on left and system on right\n",
    "    'B': (\"sac_speechcode_us\", \"vanillatts_grapheme\"),\n",
    "    'C': (\"sac_speechcode_us\", \"sac_grapheme\"),\n",
    "    'D': (\"sac_speechcode_scot\", \"vanillatts_grapheme\"),\n",
    "    'E': (\"sac_speechcode_scot\", \"sac_grapheme\"),\n",
    "    'F': (\"sac_speechcode_scot\", \"sac_speechcode_us\"),\n",
    "}\n",
    "    \n",
    "def get_conditions(test_num, utt_num):\n",
    "    assert 1 <= test_num <= 6\n",
    "    assert 1 <= utt_num <= NUM_ANS\n",
    "\n",
    "    # get the condition pair\n",
    "    for condition_pair_idx, r in enumerate(ranges):\n",
    "        if r[0] < utt_num <= r[1]:\n",
    "            condition_pair = testnum2conditionpairs[test_num][condition_pair_idx]\n",
    "            break\n",
    "\n",
    "    # get the conditions from the condition pair\n",
    "    cond1, cond2 = letter2conditionpair[condition_pair]\n",
    "    # print(\"test_num\", test_num, \"utt_num\", utt_num, \"condition_pair\", condition_pair,\"cond1\", cond1, \"cond2\", cond2)\n",
    "    \n",
    "    return cond1, cond2"
   ]
  },
  {
   "cell_type": "code",
   "execution_count": 72,
   "id": "651c99f7-aaff-414a-940a-2f3a275bb746",
   "metadata": {},
   "outputs": [],
   "source": [
    "def get_conditionpair2wincounts(aggregated_answers, test_num):\n",
    "\n",
    "    conditionpair2wincounts = Counter()\n",
    "    \"\"\"\n",
    "    conditionpair2wincounts = {\n",
    "        (cond1,cond2): 5, # cond1 beats cond2 5 times\n",
    "        (cond2,cond1): 50 # cond2 beats cond1 50 times\n",
    "    }\n",
    "\n",
    "    NB ties/draws give 0.5 of a win to both conditions\n",
    "    \"\"\"\n",
    "    \n",
    "    conditionpair2numwins_and_numdraws = defaultdict(Counter)\n",
    "    \"\"\"\n",
    "    conditionpair2numwins_and_numdraws = {\n",
    "        (cond1,cond2): {\n",
    "            wins: 20\n",
    "            draws: 12\n",
    "        },\n",
    "        (cond2,cond1): {\n",
    "            wins: 5\n",
    "            draws: 4\n",
    "        } \n",
    "        ...\n",
    "    }\n",
    "    \"\"\"\n",
    "    \n",
    "\n",
    "    # add wins to systems based on aggregated_answers and the pair of conditions\n",
    "    for utt_num, answer2counts in aggregated_answers.items():\n",
    "        # print(utt_num, answer2counts)\n",
    "        cond1, cond2 = get_conditions(test_num, utt_num)\n",
    "        if 1 in answer2counts: # cond1 won\n",
    "            conditionpair2wincounts[(cond1, cond2)] += answer2counts[1]\n",
    "            conditionpair2numwins_and_numdraws[(cond1, cond2)]['wins'] += answer2counts[1]\n",
    "        if 2 in answer2counts: # cond2 won\n",
    "            conditionpair2wincounts[(cond2, cond1)] += answer2counts[2]\n",
    "            conditionpair2numwins_and_numdraws[(cond2, cond1)]['wins'] += answer2counts[2]\n",
    "        if 3 in answer2counts: # cond1 and 2 drew\n",
    "            conditionpair2wincounts[(cond1, cond2)] += 0.5 * answer2counts[3]\n",
    "            # print(\"conditionpair2wincounts[(cond1, cond2)]\", conditionpair2wincounts[(cond1, cond2)])\n",
    "            conditionpair2wincounts[(cond2, cond1)] += 0.5 * answer2counts[3]\n",
    "            conditionpair2numwins_and_numdraws[(cond1, cond2)]['draws'] += answer2counts[3]\n",
    "            conditionpair2numwins_and_numdraws[(cond2, cond1)]['draws'] += answer2counts[3]\n",
    "\n",
    "    return conditionpair2wincounts, conditionpair2numwins_and_numdraws"
   ]
  },
  {
   "cell_type": "code",
   "execution_count": 73,
   "id": "9d4bfc58-6ff2-4261-bb40-1abd6d21155b",
   "metadata": {
    "tags": []
   },
   "outputs": [
    {
     "name": "stdout",
     "output_type": "stream",
     "text": [
      "excluding jason fong\n",
      "excluding Dan test\n",
      "excluding not applicable\n",
      "after filtering found 17 participants in listening_test_data/IS2022 - Test 1 - Final_March 21, 2022_15.36.csv which != 15\n",
      "after filtering found 15 participants in listening_test_data/IS2022 - Test 2 - Final_March 21, 2022_15.37.csv which != 15\n",
      "after filtering found 15 participants in listening_test_data/IS2022 - Test 3 - Final_March 21, 2022_15.37.csv which != 15\n",
      "after filtering found 16 participants in listening_test_data/IS2022 - Test 4 - Final_March 21, 2022_15.38.csv which != 15\n",
      "after filtering found 15 participants in listening_test_data/IS2022 - Test 5 - Final_March 21, 2022_15.41.csv which != 15\n",
      "after filtering found 15 participants in listening_test_data/IS2022 - Test 6 - Final_March 21, 2022_15.41.csv which != 15\n"
     ]
    }
   ],
   "source": [
    "# use testnum + uttnum -> pair of conditions -> conditions mapping \n",
    "# to assemble counts of how many times one condition beats another condition\n",
    "paths = [\n",
    "    # \"listening_test_data/IS2022 - Test 1 - Final_March 21, 2022_05.18.csv\",\n",
    "    # \"listening_test_data/IS2022 - Test 2 - Final_March 21, 2022_05.19.csv\",\n",
    "    # \"listening_test_data/IS2022 - Test 3 - Final_March 21, 2022_05.19.csv\",\n",
    "    # \"listening_test_data/IS2022 - Test 4 - Final_March 21, 2022_05.19.csv\",\n",
    "    # \"listening_test_data/IS2022 - Test 5 - Final_March 21, 2022_05.20.csv\",\n",
    "    # \"listening_test_data/IS2022 - Test 6 - Final_March 21, 2022_05.20.csv\",\n",
    "\"listening_test_data/IS2022 - Test 1 - Final_March 21, 2022_15.36.csv\",\n",
    "\"listening_test_data/IS2022 - Test 2 - Final_March 21, 2022_15.37.csv\",\n",
    "\"listening_test_data/IS2022 - Test 3 - Final_March 21, 2022_15.37.csv\",\n",
    "\"listening_test_data/IS2022 - Test 4 - Final_March 21, 2022_15.38.csv\",\n",
    "\"listening_test_data/IS2022 - Test 5 - Final_March 21, 2022_15.41.csv\",\n",
    "\"listening_test_data/IS2022 - Test 6 - Final_March 21, 2022_15.41.csv\",\n",
    "]\n",
    "\n",
    "alltests_conditionpair2wincounts = Counter()\n",
    "alltests_conditionpair2numwins_and_numdraws = defaultdict(Counter)\n",
    "\n",
    "# aggregate the wins across all the 6 tests\n",
    "for test_num, csv_path in enumerate(paths, 1):\n",
    "    conditionpair2wincounts, conditionpair2numwins_and_numdraws = get_conditionpair2wincounts(get_aggregated_answers(csv_path), test_num)\n",
    "    for conditionpair, wincount in conditionpair2wincounts.items():\n",
    "        # print(\"DEBUG\", test_num, csv_path, conditionpair, wincount)\n",
    "        alltests_conditionpair2wincounts[conditionpair] += wincount\n",
    "        \n",
    "    for conditionpair,numwins_and_numdraws in conditionpair2numwins_and_numdraws.items():\n",
    "        # print(alltests_conditionpair2wincounts)\n",
    "        # print(numwins_and_numdraws)\n",
    "        alltests_conditionpair2numwins_and_numdraws[conditionpair]['wins'] += numwins_and_numdraws['wins']\n",
    "        alltests_conditionpair2numwins_and_numdraws[conditionpair]['draws'] += numwins_and_numdraws['draws']"
   ]
  },
  {
   "cell_type": "code",
   "execution_count": 74,
   "id": "e7e4ecdf-9556-45d9-a2ce-548837168734",
   "metadata": {},
   "outputs": [
    {
     "data": {
      "text/plain": [
       "defaultdict(collections.Counter,\n",
       "            {('sac_grapheme',\n",
       "              'vanillatts_grapheme'): Counter({'wins': 175, 'draws': 781}),\n",
       "             ('vanillatts_grapheme',\n",
       "              'sac_grapheme'): Counter({'wins': 214, 'draws': 781}),\n",
       "             ('sac_speechcode_us',\n",
       "              'vanillatts_grapheme'): Counter({'wins': 800, 'draws': 214}),\n",
       "             ('vanillatts_grapheme',\n",
       "              'sac_speechcode_us'): Counter({'wins': 156, 'draws': 214}),\n",
       "             ('sac_speechcode_scot',\n",
       "              'sac_speechcode_us'): Counter({'wins': 314, 'draws': 363}),\n",
       "             ('sac_speechcode_us',\n",
       "              'sac_speechcode_scot'): Counter({'wins': 493, 'draws': 363}),\n",
       "             ('sac_speechcode_us',\n",
       "              'sac_grapheme'): Counter({'wins': 848, 'draws': 214}),\n",
       "             ('sac_grapheme',\n",
       "              'sac_speechcode_us'): Counter({'wins': 108, 'draws': 214}),\n",
       "             ('sac_speechcode_scot',\n",
       "              'sac_grapheme'): Counter({'wins': 716, 'draws': 277}),\n",
       "             ('sac_grapheme',\n",
       "              'sac_speechcode_scot'): Counter({'wins': 177, 'draws': 277}),\n",
       "             ('sac_speechcode_scot',\n",
       "              'vanillatts_grapheme'): Counter({'wins': 697, 'draws': 254}),\n",
       "             ('vanillatts_grapheme',\n",
       "              'sac_speechcode_scot'): Counter({'wins': 219, 'draws': 254})})"
      ]
     },
     "execution_count": 74,
     "metadata": {},
     "output_type": "execute_result"
    }
   ],
   "source": [
    "alltests_conditionpair2numwins_and_numdraws"
   ]
  },
  {
   "cell_type": "code",
   "execution_count": 75,
   "id": "1d6c4fc3-606e-440c-b114-0d71ab316dd8",
   "metadata": {},
   "outputs": [
    {
     "data": {
      "text/plain": [
       "Counter({('sac_grapheme', 'vanillatts_grapheme'): 565.5,\n",
       "         ('vanillatts_grapheme', 'sac_grapheme'): 604.5,\n",
       "         ('sac_speechcode_us', 'vanillatts_grapheme'): 907.0,\n",
       "         ('vanillatts_grapheme', 'sac_speechcode_us'): 263.0,\n",
       "         ('sac_speechcode_scot', 'sac_speechcode_us'): 495.5,\n",
       "         ('sac_speechcode_us', 'sac_speechcode_scot'): 674.5,\n",
       "         ('sac_speechcode_us', 'sac_grapheme'): 955.0,\n",
       "         ('sac_grapheme', 'sac_speechcode_us'): 215.0,\n",
       "         ('sac_speechcode_scot', 'sac_grapheme'): 854.5,\n",
       "         ('sac_grapheme', 'sac_speechcode_scot'): 315.5,\n",
       "         ('sac_speechcode_scot', 'vanillatts_grapheme'): 824.0,\n",
       "         ('vanillatts_grapheme', 'sac_speechcode_scot'): 346.0})"
      ]
     },
     "execution_count": 75,
     "metadata": {},
     "output_type": "execute_result"
    }
   ],
   "source": [
    "# visualise this counts matrix\n",
    "alltests_conditionpair2wincounts"
   ]
  },
  {
   "cell_type": "code",
   "execution_count": 76,
   "id": "83dec5a3-607a-41be-a83c-38ad011a5ddb",
   "metadata": {},
   "outputs": [],
   "source": [
    "def get_counts_matrix(conditionpair2wincounts):\n",
    "    # save counts matrix in format ready for R and bradley terry analysis (perfmod version of BTL)\n",
    "    c = np.zeros((4,4), dtype=float)\n",
    "\n",
    "    # description from https://github.com/EllaKaye/BradleyTerryScalable\n",
    "    # A matrix (either a base matrix or a class from the Matrix package), dimension K by K, \n",
    "    # where K is the number of items. The i, j-th element is wi**j, the number of times item i has beaten item j. \n",
    "    # Ties can be accounted for by assigning half a win (i.e. 0.5) to each item.\n",
    "    \n",
    "    cond2matrix_idx = {\n",
    "        \"vanillatts_grapheme\": 0,\n",
    "        \"sac_grapheme\": 1,\n",
    "        \"sac_speechcode_us\": 2,\n",
    "        \"sac_speechcode_scot\": 3,\n",
    "    }\n",
    "    \n",
    "    for (cond1, cond2), count in conditionpair2wincounts.items():\n",
    "        i, j = cond2matrix_idx[cond1], cond2matrix_idx[cond2]\n",
    "        c[i][j] = count\n",
    "    \n",
    "    return c"
   ]
  },
  {
   "cell_type": "code",
   "execution_count": 77,
   "id": "6e2b391b-53be-4c64-9be9-cd11ff710076",
   "metadata": {},
   "outputs": [
    {
     "data": {
      "text/plain": [
       "array([[  0. , 604.5, 263. , 346. ],\n",
       "       [565.5,   0. , 215. , 315.5],\n",
       "       [907. , 955. ,   0. , 674.5],\n",
       "       [824. , 854.5, 495.5,   0. ]])"
      ]
     },
     "execution_count": 77,
     "metadata": {},
     "output_type": "execute_result"
    }
   ],
   "source": [
    "c = get_counts_matrix(alltests_conditionpair2wincounts)\n",
    "c"
   ]
  },
  {
   "cell_type": "code",
   "execution_count": 78,
   "id": "40510666-a081-46f7-9c3f-78d185556741",
   "metadata": {},
   "outputs": [],
   "source": [
    "# create a pandas dataframe so we can label rows and columns\n",
    "column_names = [\"TTS-g\", \"SAC-g\", \"SAC-us\", \"SAC-scot\"]\n",
    "row_names = column_names.copy()\n",
    "df = pd.DataFrame(c, columns=column_names, index=row_names)"
   ]
  },
  {
   "cell_type": "code",
   "execution_count": 79,
   "id": "83f1c4fe-96b4-4821-bb61-8330ed489291",
   "metadata": {},
   "outputs": [
    {
     "data": {
      "text/html": [
       "<div>\n",
       "<style scoped>\n",
       "    .dataframe tbody tr th:only-of-type {\n",
       "        vertical-align: middle;\n",
       "    }\n",
       "\n",
       "    .dataframe tbody tr th {\n",
       "        vertical-align: top;\n",
       "    }\n",
       "\n",
       "    .dataframe thead th {\n",
       "        text-align: right;\n",
       "    }\n",
       "</style>\n",
       "<table border=\"1\" class=\"dataframe\">\n",
       "  <thead>\n",
       "    <tr style=\"text-align: right;\">\n",
       "      <th></th>\n",
       "      <th>TTS-g</th>\n",
       "      <th>SAC-g</th>\n",
       "      <th>SAC-us</th>\n",
       "      <th>SAC-scot</th>\n",
       "    </tr>\n",
       "  </thead>\n",
       "  <tbody>\n",
       "    <tr>\n",
       "      <th>TTS-g</th>\n",
       "      <td>0.0</td>\n",
       "      <td>604.5</td>\n",
       "      <td>263.0</td>\n",
       "      <td>346.0</td>\n",
       "    </tr>\n",
       "    <tr>\n",
       "      <th>SAC-g</th>\n",
       "      <td>565.5</td>\n",
       "      <td>0.0</td>\n",
       "      <td>215.0</td>\n",
       "      <td>315.5</td>\n",
       "    </tr>\n",
       "    <tr>\n",
       "      <th>SAC-us</th>\n",
       "      <td>907.0</td>\n",
       "      <td>955.0</td>\n",
       "      <td>0.0</td>\n",
       "      <td>674.5</td>\n",
       "    </tr>\n",
       "    <tr>\n",
       "      <th>SAC-scot</th>\n",
       "      <td>824.0</td>\n",
       "      <td>854.5</td>\n",
       "      <td>495.5</td>\n",
       "      <td>0.0</td>\n",
       "    </tr>\n",
       "  </tbody>\n",
       "</table>\n",
       "</div>"
      ],
      "text/plain": [
       "          TTS-g  SAC-g  SAC-us  SAC-scot\n",
       "TTS-g       0.0  604.5   263.0     346.0\n",
       "SAC-g     565.5    0.0   215.0     315.5\n",
       "SAC-us    907.0  955.0     0.0     674.5\n",
       "SAC-scot  824.0  854.5   495.5       0.0"
      ]
     },
     "execution_count": 79,
     "metadata": {},
     "output_type": "execute_result"
    }
   ],
   "source": [
    "df"
   ]
  },
  {
   "cell_type": "code",
   "execution_count": 80,
   "id": "a504c078-a98b-4fab-b844-07fa6ea24319",
   "metadata": {},
   "outputs": [
    {
     "data": {
      "text/plain": [
       "TTS-g       1213.5\n",
       "SAC-g       1096.0\n",
       "SAC-us      2536.5\n",
       "SAC-scot    2174.0\n",
       "dtype: float64"
      ]
     },
     "execution_count": 80,
     "metadata": {},
     "output_type": "execute_result"
    }
   ],
   "source": [
    "# total wins for each condition \n",
    "# add col that sums the wins for each condition / row \n",
    "df.sum(axis=1)"
   ]
  },
  {
   "cell_type": "code",
   "execution_count": 81,
   "id": "73a95e1d-016f-47a9-a95c-52a3b949eddf",
   "metadata": {},
   "outputs": [
    {
     "data": {
      "text/plain": [
       "TTS-g       2296.5\n",
       "SAC-g       2414.0\n",
       "SAC-us       973.5\n",
       "SAC-scot    1336.0\n",
       "dtype: float64"
      ]
     },
     "execution_count": 81,
     "metadata": {},
     "output_type": "execute_result"
    }
   ],
   "source": [
    "# total losses for each condition\n",
    "df.sum(axis=0)"
   ]
  },
  {
   "cell_type": "code",
   "execution_count": 82,
   "id": "f737f7f6-86b6-41a5-8b9a-6221c7b3100e",
   "metadata": {},
   "outputs": [],
   "source": [
    "np.savetxt(\"listening_test_data/counts_matrix.txt\", c.astype(int), fmt='%i', delimiter=\",\")"
   ]
  },
  {
   "cell_type": "markdown",
   "id": "ad29b998-ff46-42cb-bfc1-992d240f68d0",
   "metadata": {},
   "source": [
    "# Use python package choix to get bradley terry estimates of quality for our conditions"
   ]
  },
  {
   "cell_type": "code",
   "execution_count": 83,
   "id": "31250c2e-1506-4cd0-a6b5-b9f136e9bb01",
   "metadata": {},
   "outputs": [],
   "source": [
    "from choix import lsr_pairwise_dense, ilsr_pairwise_dense #non iterative and iterative versions\n",
    "import matplotlib.pyplot as plt"
   ]
  },
  {
   "cell_type": "code",
   "execution_count": 84,
   "id": "d7f1e2d2-c0f6-4b47-a1b8-e6db6af90aa9",
   "metadata": {},
   "outputs": [],
   "source": [
    "def counts_matrix_to_bradley_terry_plot(c, savepath=\"\"):\n",
    "    islr_res = ilsr_pairwise_dense(c).tolist()\n",
    "\n",
    "    # list(zip(islr_res, column_names)) # unsorted\n",
    "    # # sort cols by result value to make legend easier to read\n",
    "    # sorted(zip(islr_res, column_names), reverse=True)\n",
    "\n",
    "    fig, ax = plt.subplots()\n",
    "    # ax.scatter(x=islr_res, y=np.array([0,0,0,0]))\n",
    "    markers = ['^', 'o','X', 's',]\n",
    "    colours = ['#6dda9d', '#e96860', '#7ea9e5', '#e46af0']\n",
    "    for (x_val, label), marker, colour in zip(zip(islr_res, column_names), markers, colours):\n",
    "    # for (x_val, label), marker, colour in zip(sorted(zip(islr_res, column_names), reverse=False), markers, colours):\n",
    "        ax.scatter(x=x_val, y=[0.125], marker=marker, label=label, s=125, c=colour)\n",
    "\n",
    "    ax.set_aspect(2)\n",
    "    ax.grid(True, which='both', axis=\"x\")\n",
    "\n",
    "    #############################################\n",
    "    # set the x-spine (see below for more info on `set_position`)\n",
    "    # ax.spines['left'].set_position('zero')\n",
    "    # turn off the right spine/ticks\n",
    "\n",
    "    ax.spines['left'].set_color('none')\n",
    "    ax.spines['right'].set_color('none')\n",
    "    # ax.yaxis.tick_left()\n",
    "\n",
    "    #############################################\n",
    "    # set the y-spine\n",
    "    ax.spines['bottom'].set_position('zero')\n",
    "\n",
    "    #############################################\n",
    "    # turn off the top spine/ticks\n",
    "    ax.spines['top'].set_color('none')\n",
    "    ax.xaxis.tick_bottom()\n",
    "\n",
    "    ax.set_yticks([])\n",
    "\n",
    "    #############################################\n",
    "    # limits\n",
    "    plt.xlim([-1, 1.01])\n",
    "    plt.ylim([0, 0.25])\n",
    "\n",
    "    ax.axvline(x=0.0035, color='k')\n",
    "    ax.axhline(y=-0, color='k')\n",
    "\n",
    "    legend = ax.legend(\n",
    "        # loc=\"upper left\", \n",
    "        bbox_to_anchor =(-0.03, 1.05),\n",
    "    )\n",
    "\n",
    "    legend.set_title(\"Conditions:\")\n",
    "    # legend.set_title(r\"$\\bf{Conditions}$\")\n",
    "                     # prop = {'size':15})\n",
    "    legend._legend_box.align = \"left\"\n",
    "\n",
    "    ax.set_xlabel(\"Condition Score\")\n",
    "    if savepath:\n",
    "        plt.savefig(savepath, bbox_inches='tight')"
   ]
  },
  {
   "cell_type": "code",
   "execution_count": 85,
   "id": "c50ae8a4-8469-46c4-becb-3e26384a7619",
   "metadata": {},
   "outputs": [
    {
     "data": {
      "image/png": "[encoded data removed]",
      "text/plain": [
       "<Figure size 432x288 with 1 Axes>"
      ]
     },
     "metadata": {
      "needs_background": "light"
     },
     "output_type": "display_data"
    }
   ],
   "source": [
    "counts_matrix_to_bradley_terry_plot(c, savepath='plots/results.pdf')"
   ]
  },
  {
   "cell_type": "markdown",
   "id": "1e5f5f5d-a12f-4718-9b17-7e488ec9ef42",
   "metadata": {},
   "source": [
    "# plot bradley terry for each target word individually for showing on the results page"
   ]
  },
  {
   "cell_type": "code",
   "execution_count": 86,
   "id": "9d1e24c0-489f-4193-8471-5b99415873d1",
   "metadata": {},
   "outputs": [
    {
     "name": "stdout",
     "output_type": "stream",
     "text": [
      "excluding jason fong\n",
      "excluding Dan test\n",
      "excluding not applicable\n",
      "after filtering found 17 participants in listening_test_data/IS2022 - Test 1 - Final_March 21, 2022_15.36.csv which != 15\n",
      "after filtering found 15 participants in listening_test_data/IS2022 - Test 2 - Final_March 21, 2022_15.37.csv which != 15\n",
      "after filtering found 15 participants in listening_test_data/IS2022 - Test 3 - Final_March 21, 2022_15.37.csv which != 15\n",
      "after filtering found 16 participants in listening_test_data/IS2022 - Test 4 - Final_March 21, 2022_15.38.csv which != 15\n",
      "after filtering found 15 participants in listening_test_data/IS2022 - Test 5 - Final_March 21, 2022_15.41.csv which != 15\n",
      "after filtering found 15 participants in listening_test_data/IS2022 - Test 6 - Final_March 21, 2022_15.41.csv which != 15\n"
     ]
    }
   ],
   "source": [
    "def get_utt_num2conditionpair2wincounts(aggregated_answers, test_num):    \n",
    "    utt_num2conditionpair2wincounts = {}\n",
    "    \n",
    "    # add wins to systems based on aggregated_answers and the pair of conditions\n",
    "    for utt_num, answer2counts in aggregated_answers.items():\n",
    "        conditionpair2wincounts = Counter()\n",
    "        cond1, cond2 = get_conditions(test_num, utt_num)\n",
    "        if 1 in answer2counts: # cond1 won\n",
    "            conditionpair2wincounts[(cond1, cond2)] += answer2counts[1]\n",
    "        if 2 in answer2counts: # cond2 won\n",
    "            conditionpair2wincounts[(cond2, cond1)] += answer2counts[2]\n",
    "        if 3 in answer2counts: # cond1 and 2 drew\n",
    "            conditionpair2wincounts[(cond1, cond2)] += 0.5 * answer2counts[3]\n",
    "            # print(\"conditionpair2wincounts[(cond1, cond2)]\", conditionpair2wincounts[(cond1, cond2)])\n",
    "            conditionpair2wincounts[(cond2, cond1)] += 0.5 * answer2counts[3]\n",
    "    \n",
    "        utt_num2conditionpair2wincounts[utt_num] = conditionpair2wincounts\n",
    "    \n",
    "    return utt_num2conditionpair2wincounts\n",
    "\n",
    "all_utt_num2conditionpair2wincounts = defaultdict(Counter)\n",
    "\n",
    "# aggregate across the 6 tests\n",
    "for test_num, csv_path in enumerate(paths, 1):\n",
    "    utt_num2conditionpair2wincounts = get_utt_num2conditionpair2wincounts(get_aggregated_answers(csv_path), test_num)\n",
    "    for utt_num, conditionpair2wincounts in utt_num2conditionpair2wincounts.items():\n",
    "        for conditionpair, wincounts in conditionpair2wincounts.items():\n",
    "            all_utt_num2conditionpair2wincounts[utt_num][conditionpair] += wincounts\n",
    "        "
   ]
  },
  {
   "cell_type": "code",
   "execution_count": 88,
   "id": "f08bb3e1-40cd-42b9-9ef9-be80069781b4",
   "metadata": {
    "tags": []
   },
   "outputs": [],
   "source": [
    "# for utt_num, conditionpair2wincounts in all_utt_num2conditionpair2wincounts.items():\n",
    "#     c = get_counts_matrix(conditionpair2wincounts)\n",
    "#     counts_matrix_to_bradley_terry_plot(c)"
   ]
  },
  {
   "cell_type": "markdown",
   "id": "197d5c5b-ea44-4b89-b509-d6f5b7b61473",
   "metadata": {},
   "source": [
    "# analyse the speakers that are occur in each speech codes conditions SAC-us and SAC-scot"
   ]
  },
  {
   "cell_type": "code",
   "execution_count": null,
   "id": "f998ce96-729d-42b2-b5f7-e7b60eafe7b0",
   "metadata": {},
   "outputs": [],
   "source": [
    "# load url lists\n",
    "with open('url_lists/SAC-speechcode-input-us-fem.txt') as f:\n",
    "    urls = f.readlines()\n",
    "\n",
    "speakers = [url.split('-')[-1].split('_')[0] for url in urls]\n",
    "\n",
    "len(set(speakers))"
   ]
  },
  {
   "cell_type": "code",
   "execution_count": null,
   "id": "55a8285c-4abd-4f20-b656-bd5b50cdf130",
   "metadata": {},
   "outputs": [],
   "source": [
    "Counter(speakers)"
   ]
  },
  {
   "cell_type": "code",
   "execution_count": null,
   "id": "9d53f5b4-bf24-435e-b71e-2c68258070a6",
   "metadata": {},
   "outputs": [],
   "source": [
    "sum(Counter(speakers).values()) / len(set(speakers))"
   ]
  },
  {
   "cell_type": "code",
   "execution_count": null,
   "id": "93762b2f-f04e-40e2-86b2-e3a52c3b42fd",
   "metadata": {},
   "outputs": [],
   "source": [
    "# load url lists\n",
    "with open('url_lists/SAC-speechcode-input-scot-fem.txt') as f:\n",
    "    urls = f.readlines()\n",
    "\n",
    "speakers = [url.split('-')[-1].split('_')[0] for url in urls]\n",
    "\n",
    "len(set(speakers))"
   ]
  },
  {
   "cell_type": "code",
   "execution_count": null,
   "id": "e9829d9b-64a8-4e99-94ec-8f0a3b26f47b",
   "metadata": {},
   "outputs": [],
   "source": [
    "Counter(speakers)"
   ]
  },
  {
   "cell_type": "code",
   "execution_count": null,
   "id": "d9aa3b8b-9381-46f3-a608-c84771ab904f",
   "metadata": {},
   "outputs": [],
   "source": [
    "sum(Counter(speakers).values()) / len(set(speakers))"
   ]
  },
  {
   "cell_type": "markdown",
   "id": "5b317e97-81bd-43e2-a37b-9db4df96c270",
   "metadata": {},
   "source": [
    "# for paper writeup\n",
    "# find the words that are most preferred as US speech codes compare to Scottish speech codes"
   ]
  },
  {
   "cell_type": "code",
   "execution_count": null,
   "id": "5efcd88a-0d95-438d-902d-2b1828264286",
   "metadata": {
    "tags": []
   },
   "outputs": [],
   "source": [
    "all_words = []\n",
    "\n",
    "for test_num, path in enumerate(paths,1):\n",
    "\n",
    "    agg_ans = get_aggregated_answers(path)\n",
    "\n",
    "    with open(f\"url_lists_ab/ab-urls-test{test_num}_targetwords.txt\") as f:\n",
    "        lines = f.readlines()\n",
    "\n",
    "    words = [line.rstrip().split()[-1] for line in lines]\n",
    "\n",
    "    conditions = []\n",
    "    for utt_num in range(1,79):\n",
    "        cond1, cond2 = get_conditions(test_num, utt_num)\n",
    "        conditions.append((cond1,cond2))\n",
    "        # word = words[utt_num-1]\n",
    "\n",
    "    for i, (condition, word) in enumerate(zip(conditions, words), 1):\n",
    "        if condition == ('sac_speechcode_scot', 'sac_speechcode_us') or condition == ('sac_speechcode_us', 'sac_speechcode_scot'):\n",
    "            counter = agg_ans[i]\n",
    "            assert sum(counter.values()) == NUM_PARTICIPANTS_PER_TEST\n",
    "            # print(i, condition, word, counter)\n",
    "            all_words.append((i, condition, word, counter))\n",
    "\n",
    "all_words = sorted(all_words, key=lambda x: x[0])\n",
    "            \n",
    "for x in all_words:\n",
    "    print(x)"
   ]
  },
  {
   "cell_type": "code",
   "execution_count": null,
   "id": "d4815205-5112-4219-aa0e-f929a4359a22",
   "metadata": {
    "tags": []
   },
   "outputs": [],
   "source": [
    "# sort by times us speech codes win most\n",
    "# 2 is us speech codes\n",
    "h_barchart_data = []\n",
    "num_wins2count = Counter()\n",
    "# sort_fn = lambda x:x[3][2] * 100 + x[3][3] #sort by us then by no preference\n",
    "sort_fn = lambda x:(x[3][2] / (x[3][1]+1)) #sort by us / scot ratio (+1 to stop division by 0 error)\n",
    "for i, condition, word, counter in sorted(all_words, key=sort_fn, reverse=True): # lambda x:x[3][2] * 100 + x[3][3] because we want to rank first by 2 (us wins) then by 3 (no preference)\n",
    "    h_barchart_data.append(counter)\n",
    "    print(i, word, counter)\n",
    "    num_wins = counter[2] # 2 is us speech codes\n",
    "    num_wins2count[num_wins] += 1\n",
    "\n",
    "us_wins_counts = sorted(num_wins2count.items(), key=lambda x: x[0], reverse=True)\n",
    "    \n",
    "print(us_wins_counts)"
   ]
  },
  {
   "cell_type": "code",
   "execution_count": null,
   "id": "e82b5fba-63b5-499a-8a63-6fe7ac04bc56",
   "metadata": {
    "tags": []
   },
   "outputs": [],
   "source": [
    "# sort by times scot speech codes win most (1 is scottish speech codes)\n",
    "num_wins2count = Counter()\n",
    "h_barchart_data_scot = []\n",
    "sort_fn = lambda x:x[3][1] * 100 + x[3][3] #sort by scot then by no preference\n",
    "for i, condition, word, counter in sorted(all_words, key=sort_fn, reverse=True):\n",
    "    h_barchart_data_scot.append(counter)\n",
    "    print(i, word, counter)\n",
    "    num_wins = counter[1] # 1 is scot speech codes\n",
    "    num_wins2count[num_wins] += 1\n",
    "    \n",
    "scot_wins_counts = sorted(num_wins2count.items(), key=lambda x: x[0], reverse=True)\n",
    "    \n",
    "print(scot_wins_counts)"
   ]
  },
  {
   "cell_type": "markdown",
   "id": "da343bc6-d05f-44f7-8ec7-8fae3c966459",
   "metadata": {},
   "source": [
    "# make plot comparing times SAC us wins vs SAC scot"
   ]
  },
  {
   "cell_type": "code",
   "execution_count": null,
   "id": "b4f87f8a-6c56-4e57-b6df-c507223f9984",
   "metadata": {
    "tags": []
   },
   "outputs": [],
   "source": [
    "us_wins_counts"
   ]
  },
  {
   "cell_type": "code",
   "execution_count": null,
   "id": "2518141d-d37a-4ae8-b3fd-50e84a4b1c18",
   "metadata": {},
   "outputs": [],
   "source": [
    "scot_wins_counts"
   ]
  },
  {
   "cell_type": "code",
   "execution_count": null,
   "id": "eb781f61-7bd8-4167-9cd8-ce93f55bdf17",
   "metadata": {},
   "outputs": [],
   "source": [
    "x,y = zip(*us_wins_counts)"
   ]
  },
  {
   "cell_type": "code",
   "execution_count": null,
   "id": "e6c4f8d7-4836-45df-a253-527a7bad4a00",
   "metadata": {},
   "outputs": [],
   "source": [
    "x"
   ]
  },
  {
   "cell_type": "code",
   "execution_count": null,
   "id": "8b79592c-cac9-44ff-b684-a241fb9118b7",
   "metadata": {},
   "outputs": [],
   "source": [
    "y"
   ]
  },
  {
   "cell_type": "code",
   "execution_count": null,
   "id": "df316930-2793-4a99-b8a5-4bcbd71e483f",
   "metadata": {},
   "outputs": [],
   "source": [
    "len(y)"
   ]
  },
  {
   "cell_type": "code",
   "execution_count": null,
   "id": "b0c17aeb-e63d-4893-a18f-3eb430b31029",
   "metadata": {},
   "outputs": [],
   "source": [
    "sum(y[:7])"
   ]
  },
  {
   "cell_type": "code",
   "execution_count": null,
   "id": "d2d5d468-5710-4029-a7cb-35d4520ba658",
   "metadata": {},
   "outputs": [],
   "source": [
    "us_wins_counts\n",
    "x,y = zip(*us_wins_counts)\n",
    "plt.plot(x,y, label=\"US\")\n",
    "x,y = zip(*scot_wins_counts)\n",
    "plt.plot(x,y, label=\"SCOT\")\n",
    "plt.legend()"
   ]
  },
  {
   "cell_type": "code",
   "execution_count": null,
   "id": "82e265cd-6b3f-43be-96b8-e130f0c0b934",
   "metadata": {},
   "outputs": [],
   "source": [
    "category_names = ['Strongly disagree', 'Disagree',\n",
    "                  'Neither agree nor disagree', 'Agree', 'Strongly agree']\n",
    "results = {\n",
    "    'Question 1': [10, 15, 17, 32, 26],\n",
    "    'Question 2': [26, 22, 29, 10, 13],\n",
    "    'Question 3': [35, 37, 7, 2, 19],\n",
    "    'Question 4': [32, 11, 9, 15, 33],\n",
    "    'Question 5': [21, 29, 5, 5, 40],\n",
    "    'Question 6': [8, 19, 5, 30, 38]\n",
    "}\n",
    "\n",
    "\n",
    "def survey(results, category_names):\n",
    "    \"\"\"\n",
    "    Parameters\n",
    "    ----------\n",
    "    results : dict\n",
    "        A mapping from question labels to a list of answers per category.\n",
    "        It is assumed all lists contain the same number of entries and that\n",
    "        it matches the length of *category_names*.\n",
    "    category_names : list of str\n",
    "        The category labels.\n",
    "    \"\"\"\n",
    "    labels = list(results.keys())\n",
    "    data = np.array(list(results.values()))\n",
    "    data_cum = data.cumsum(axis=1)\n",
    "    category_colors = plt.colormaps['RdYlGn'](\n",
    "        np.linspace(0.15, 0.85, data.shape[1]))\n",
    "\n",
    "    fig, ax = plt.subplots(figsize=(9.2, 5))\n",
    "    ax.invert_yaxis()\n",
    "    ax.xaxis.set_visible(False)\n",
    "    ax.set_xlim(0, np.sum(data, axis=1).max())\n",
    "\n",
    "    for i, (colname, color) in enumerate(zip(category_names, category_colors)):\n",
    "        print(i, colname, labels)\n",
    "        widths = data[:, i]\n",
    "        starts = data_cum[:, i] - widths\n",
    "        rects = ax.barh(labels, widths, left=starts, height=1,\n",
    "                        label=colname, color=color)\n",
    "\n",
    "        r, g, b, _ = color\n",
    "        text_color = 'white' if r * g * b < 0.5 else 'darkgrey'\n",
    "        ax.bar_label(rects, label_type='center', color=text_color)\n",
    "    ax.legend(ncol=len(category_names), bbox_to_anchor=(0, 1),\n",
    "              loc='lower left', fontsize='small')\n",
    "    \n",
    "    # turn off y axis labels\n",
    "    ax.axes.yaxis.set_visible(False)\n",
    "\n",
    "    return fig, ax\n",
    "\n",
    "\n",
    "survey(results, category_names)\n",
    "plt.show()"
   ]
  },
  {
   "cell_type": "code",
   "execution_count": null,
   "id": "0de37b02-6f6c-4016-b79f-ce1b5c61e10c",
   "metadata": {
    "tags": []
   },
   "outputs": [],
   "source": [
    "def get_barwidths_from_counter(counter):\n",
    "    # US\n",
    "    if 2 in counter: \n",
    "        left = counter[2]\n",
    "    else:\n",
    "        left = 0\n",
    "    # no pref\n",
    "    if 3 in counter: \n",
    "        middle = counter[3]\n",
    "    else:\n",
    "        middle = 0\n",
    "    # Scot\n",
    "    if 1 in counter: \n",
    "        right = counter[1]\n",
    "    else:\n",
    "        right = 0\n",
    "    return [left, middle, right]"
   ]
  },
  {
   "cell_type": "code",
   "execution_count": null,
   "id": "09e00440-0b31-41bd-8029-6aa980b7a051",
   "metadata": {},
   "outputs": [],
   "source": [
    "def get_barwidths_from_counter_scot(counter):\n",
    "    # US\n",
    "    if 1 in counter: \n",
    "        left = counter[1]\n",
    "    else:\n",
    "        left = 0\n",
    "    # no pref\n",
    "    if 3 in counter: \n",
    "        middle = counter[3]\n",
    "    else:\n",
    "        middle = 0\n",
    "    # Scot\n",
    "    if 2 in counter: \n",
    "        right = counter[2]\n",
    "    else:\n",
    "        right = 0\n",
    "    return [left, middle, right]"
   ]
  },
  {
   "cell_type": "code",
   "execution_count": null,
   "id": "6d06cb86-7b8b-42a7-9b0b-c3de30ec2f81",
   "metadata": {
    "tags": []
   },
   "outputs": [],
   "source": [
    "h_barchart_data"
   ]
  },
  {
   "cell_type": "code",
   "execution_count": null,
   "id": "7c9a012f-f4a4-4605-87cf-6d4cb62b3ba6",
   "metadata": {},
   "outputs": [],
   "source": [
    "category_names = ['us', 'no pref', 'scot']\n",
    "\n",
    "results = {f'Question {i}': get_barwidths_from_counter(counter) for i, counter in enumerate(h_barchart_data,1)}\n",
    "\n",
    "\n",
    "def survey(results, category_names):\n",
    "    \"\"\"\n",
    "    Parameters\n",
    "    ----------\n",
    "    results : dict\n",
    "        A mapping from question labels to a list of answers per category.\n",
    "        It is assumed all lists contain the same number of entries and that\n",
    "        it matches the length of *category_names*.\n",
    "    category_names : list of str\n",
    "        The category labels.\n",
    "    \"\"\"\n",
    "    labels = list(results.keys())\n",
    "    data = np.array(list(results.values()))\n",
    "    data_cum = data.cumsum(axis=1)\n",
    "    category_colors = plt.colormaps['RdYlGn'](\n",
    "        np.linspace(0.15, 0.85, data.shape[1]))\n",
    "\n",
    "    fig, ax = plt.subplots(figsize=(20, 10))\n",
    "    ax.invert_yaxis()\n",
    "    ax.xaxis.set_visible(False)\n",
    "    ax.set_xlim(0, np.sum(data, axis=1).max())\n",
    "\n",
    "    for i, (colname, color) in enumerate(zip(category_names, category_colors)):\n",
    "        print(i, colname, labels)\n",
    "        widths = data[:, i]\n",
    "        starts = data_cum[:, i] - widths\n",
    "        rects = ax.barh(labels, widths, left=starts, height=1,\n",
    "                        label=colname, color=color)\n",
    "\n",
    "        r, g, b, _ = color\n",
    "        text_color = 'white' if r * g * b < 0.5 else 'darkgrey'\n",
    "        # ax.bar_label(rects, label_type='center', color=text_color)\n",
    "    ax.legend(ncol=len(category_names), bbox_to_anchor=(0, 1),\n",
    "              loc='lower left', fontsize='small')\n",
    "    \n",
    "    # turn off y axis labels\n",
    "    ax.axes.yaxis.set_visible(False)\n",
    "\n",
    "    return fig, ax\n",
    "\n",
    "\n",
    "survey(results, category_names)\n",
    "plt.show()"
   ]
  },
  {
   "cell_type": "code",
   "execution_count": null,
   "id": "7de45afc-d69a-45ed-a942-5ed55b24505b",
   "metadata": {
    "tags": []
   },
   "outputs": [],
   "source": [
    "category_names = ['scot', 'no pref', 'us']\n",
    "\n",
    "results = {f'Question {i}': get_barwidths_from_counter_scot(counter) for i, counter in enumerate(h_barchart_data_scot,1)}\n",
    "\n",
    "\n",
    "def survey(results, category_names):\n",
    "    \"\"\"\n",
    "    Parameters\n",
    "    ----------\n",
    "    results : dict\n",
    "        A mapping from question labels to a list of answers per category.\n",
    "        It is assumed all lists contain the same number of entries and that\n",
    "        it matches the length of *category_names*.\n",
    "    category_names : list of str\n",
    "        The category labels.\n",
    "    \"\"\"\n",
    "    labels = list(results.keys())\n",
    "    data = np.array(list(results.values()))\n",
    "    data_cum = data.cumsum(axis=1)\n",
    "    category_colors = plt.colormaps['RdYlGn'](\n",
    "        np.linspace(0.15, 0.85, data.shape[1]))\n",
    "\n",
    "    fig, ax = plt.subplots(figsize=(20, 10))\n",
    "    ax.invert_yaxis()\n",
    "    ax.xaxis.set_visible(False)\n",
    "    ax.set_xlim(0, np.sum(data, axis=1).max())\n",
    "\n",
    "    for i, (colname, color) in enumerate(zip(category_names, category_colors)):\n",
    "        print(i, colname, labels)\n",
    "        widths = data[:, i]\n",
    "        starts = data_cum[:, i] - widths\n",
    "        rects = ax.barh(labels, widths, left=starts, height=1,\n",
    "                        label=colname, color=color)\n",
    "\n",
    "        r, g, b, _ = color\n",
    "        text_color = 'white' if r * g * b < 0.5 else 'darkgrey'\n",
    "        # ax.bar_label(rects, label_type='center', color=text_color)\n",
    "    ax.legend(ncol=len(category_names), bbox_to_anchor=(0, 1),\n",
    "              loc='lower left', fontsize='small')\n",
    "    \n",
    "    # turn off y axis labels\n",
    "    ax.axes.yaxis.set_visible(False)\n",
    "\n",
    "    return fig, ax\n",
    "\n",
    "\n",
    "survey(results, category_names)\n",
    "plt.show()"
   ]
  },
  {
   "cell_type": "code",
   "execution_count": null,
   "id": "6c6f7796-e639-44d8-9baa-83ce15141c53",
   "metadata": {},
   "outputs": [],
   "source": []
  }
 ],
 "metadata": {
  "kernelspec": {
   "display_name": "Python 3 (ipykernel)",
   "language": "python",
   "name": "python3"
  },
  "language_info": {
   "codemirror_mode": {
    "name": "ipython",
    "version": 3
   },
   "file_extension": ".py",
   "mimetype": "text/x-python",
   "name": "python",
   "nbconvert_exporter": "python",
   "pygments_lexer": "ipython3",
   "version": "3.8.12"
  }
 },
 "nbformat": 4,
 "nbformat_minor": 5
}
