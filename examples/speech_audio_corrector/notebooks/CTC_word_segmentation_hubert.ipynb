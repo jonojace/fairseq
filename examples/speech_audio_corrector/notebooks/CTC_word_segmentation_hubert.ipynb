{
 "cells": [
  {
   "cell_type": "markdown",
   "id": "614b67de-592d-46f0-83e0-abe543138aab",
   "metadata": {},
   "source": [
    "# Generate Hubert Codes and their CTC word segmentations for English Speech\n",
    "\n",
    "(use conda env huggingface for this notebook)"
   ]
  },
  {
   "cell_type": "markdown",
   "id": "900573cb-c257-4d42-bafe-dd2ab2d3920c",
   "metadata": {},
   "source": [
    "# imports"
   ]
  },
  {
   "cell_type": "code",
   "execution_count": 64,
   "id": "0f1a60d4-bc9b-4ce9-82a2-a43d46d830ee",
   "metadata": {},
   "outputs": [],
   "source": [
    "import torch\n",
    "from transformers import HubertForCTC, Wav2Vec2Processor\n",
    "from datasets import load_dataset\n",
    "import soundfile as sf\n",
    "import librosa\n",
    "from tqdm import tqdm\n",
    "import os\n",
    "import unicodedata\n",
    "import re\n",
    "import matplotlib\n",
    "import matplotlib.pyplot as plt\n",
    "\n",
    "matplotlib.rcParams['figure.figsize'] = [16.0, 4.8]"
   ]
  },
  {
   "cell_type": "markdown",
   "id": "7a1dbb7d-92ef-4468-98a0-d83df025a588",
   "metadata": {},
   "source": [
    "# check cuda"
   ]
  },
  {
   "cell_type": "code",
   "execution_count": 101,
   "id": "d612e067-2560-4222-98d0-ae782730b132",
   "metadata": {},
   "outputs": [
    {
     "name": "stdout",
     "output_type": "stream",
     "text": [
      "cuda\n"
     ]
    }
   ],
   "source": [
    "device = torch.device('cuda' if torch.cuda.is_available() else 'cpu')\n",
    "print(device)"
   ]
  },
  {
   "cell_type": "markdown",
   "id": "ac6cdae4-e09b-477a-80ae-9ee2ace49587",
   "metadata": {},
   "source": [
    "# Set paths for writing outputs"
   ]
  },
  {
   "cell_type": "code",
   "execution_count": 104,
   "id": "acbac008-0c36-4d99-89b3-ecd657e5691c",
   "metadata": {},
   "outputs": [],
   "source": [
    "outdir = \"/home/s1785140/data/LJSpeech-1.1/hubert_CTC_word_segmentation\"\n",
    "# outdir_with_repeats = \"/home/s1785140/data/LJSpeech-1.1/hubert_asr_transcription_with_grapheme_repeats\"\n",
    "# outdir_raw_outputs = \"/home/s1785140/data/LJSpeech-1.1/hubert_asr_raw_outputs\"\n",
    "\n",
    "os.makedirs(outdir, exist_ok=True)\n",
    "# os.makedirs(outdir_with_repeats, exist_ok=True)\n",
    "# os.makedirs(outdir_raw_outputs, exist_ok=True)"
   ]
  },
  {
   "cell_type": "markdown",
   "id": "f2aaf709-35c1-41cd-9d1c-9f7919180331",
   "metadata": {},
   "source": [
    "# load pretrained model and text processor"
   ]
  },
  {
   "cell_type": "code",
   "execution_count": 3,
   "id": "4878767f-6fae-4741-8f50-3ce7b613cee1",
   "metadata": {},
   "outputs": [],
   "source": [
    "processor = Wav2Vec2Processor.from_pretrained(\"facebook/hubert-large-ls960-ft\")\n",
    "model = HubertForCTC.from_pretrained(\"facebook/hubert-large-ls960-ft\").to(device)"
   ]
  },
  {
   "cell_type": "markdown",
   "id": "cc8d9792-55cc-4068-9ab7-3f7811efff01",
   "metadata": {},
   "source": [
    "### examine the labels for each output id of the processor.tokenizer"
   ]
  },
  {
   "cell_type": "code",
   "execution_count": 83,
   "id": "5287264b-4772-4bcd-8b85-2174c42fdfce",
   "metadata": {},
   "outputs": [
    {
     "name": "stdout",
     "output_type": "stream",
     "text": [
      "tokenizer_output_vocab\n"
     ]
    },
    {
     "data": {
      "text/plain": [
       "{'<pad>': 0,\n",
       " '<s>': 1,\n",
       " '</s>': 2,\n",
       " '<unk>': 3,\n",
       " '|': 4,\n",
       " 'E': 5,\n",
       " 'T': 6,\n",
       " 'A': 7,\n",
       " 'O': 8,\n",
       " 'N': 9,\n",
       " 'I': 10,\n",
       " 'H': 11,\n",
       " 'S': 12,\n",
       " 'R': 13,\n",
       " 'D': 14,\n",
       " 'L': 15,\n",
       " 'U': 16,\n",
       " 'M': 17,\n",
       " 'W': 18,\n",
       " 'C': 19,\n",
       " 'F': 20,\n",
       " 'G': 21,\n",
       " 'Y': 22,\n",
       " 'P': 23,\n",
       " 'B': 24,\n",
       " 'V': 25,\n",
       " 'K': 26,\n",
       " \"'\": 27,\n",
       " 'X': 28,\n",
       " 'J': 29,\n",
       " 'Q': 30,\n",
       " 'Z': 31}"
      ]
     },
     "execution_count": 83,
     "metadata": {},
     "output_type": "execute_result"
    }
   ],
   "source": [
    "tokenizer_output_vocab = processor.tokenizer.get_vocab()\n",
    "print(\"tokenizer_output_vocab\")\n",
    "tokenizer_output_vocab"
   ]
  },
  {
   "cell_type": "markdown",
   "id": "54b045c7-bd25-4550-a56c-51ffa9c2a941",
   "metadata": {},
   "source": [
    "# Get wavs"
   ]
  },
  {
   "cell_type": "code",
   "execution_count": 5,
   "id": "b3655c62-cb2e-4dca-9e86-e6f95dbf2851",
   "metadata": {},
   "outputs": [
    {
     "name": "stdout",
     "output_type": "stream",
     "text": [
      "13100\n"
     ]
    }
   ],
   "source": [
    "wav_dir = \"/home/s1785140/data/LJSpeech-1.1/audio_data/LJSpeech-1.1/wavs\" # LJSpeech wavs no additional processing\n",
    "wavs = os.listdir(wav_dir)\n",
    "wav_paths = [os.path.join(wav_dir, wav) for wav in wavs]\n",
    "print(len(wav_paths))"
   ]
  },
  {
   "cell_type": "markdown",
   "id": "adc1c80d-fab6-4406-87cd-580649fb1985",
   "metadata": {},
   "source": [
    "# Get text transcripts for WAVS and further normalise out non-apostrophe punctuation and make upper case"
   ]
  },
  {
   "cell_type": "code",
   "execution_count": 98,
   "id": "ee870957-652e-4b5f-a6c8-d957a420c7a8",
   "metadata": {},
   "outputs": [
    {
     "name": "stdout",
     "output_type": "stream",
     "text": [
      "transcript_output_vocab\n"
     ]
    },
    {
     "data": {
      "text/plain": [
       "{' ',\n",
       " \"'\",\n",
       " 'A',\n",
       " 'B',\n",
       " 'C',\n",
       " 'D',\n",
       " 'E',\n",
       " 'F',\n",
       " 'G',\n",
       " 'H',\n",
       " 'I',\n",
       " 'J',\n",
       " 'K',\n",
       " 'L',\n",
       " 'M',\n",
       " 'N',\n",
       " 'O',\n",
       " 'P',\n",
       " 'Q',\n",
       " 'R',\n",
       " 'S',\n",
       " 'T',\n",
       " 'U',\n",
       " 'V',\n",
       " 'W',\n",
       " 'X',\n",
       " 'Y',\n",
       " 'Z'}"
      ]
     },
     "execution_count": 98,
     "metadata": {},
     "output_type": "execute_result"
    }
   ],
   "source": [
    "# load all text data and normalise to upper case, and only keep apostrophes\n",
    "def text_normalize(text):\n",
    "    \"\"\"taken from https://github.com/Kyubyong/tacotron/blob/master/data_load.py\"\"\"\n",
    "    vocab = \" ABCDEFGHIJKLMNOPQRSTUVWXYZ'\"\n",
    "    text = ''.join(char for char in unicodedata.normalize('NFD', text)\n",
    "                           if unicodedata.category(char) != 'Mn') # Strip accents\n",
    "    text = re.sub(\"[^{}]\".format(vocab), \" \", text)\n",
    "    text = re.sub(\"[ ]+\", \" \", text)\n",
    "    text = text.rstrip()\n",
    "    return text\n",
    "\n",
    "with open(\"/home/s1785140/data/LJSpeech-1.1/audio_data/LJSpeech-1.1/metadata.csv\") as f:\n",
    "    lines = f.readlines()\n",
    "    \n",
    "norm_text = {}\n",
    "transcript_output_vocab = set()\n",
    "\n",
    "for line in lines:\n",
    "    # grab normed text\n",
    "    utt_id = line.split('|')[0]\n",
    "    text = line.split('|')[-1]\n",
    "    # further normalise\n",
    "    text = text.rstrip('\\n').upper()\n",
    "    text = text_normalize(text)\n",
    "    \n",
    "    # add all chars to vocab\n",
    "    transcript_output_vocab.update(text)\n",
    "    \n",
    "    norm_text[utt_id] = text\n",
    "\n",
    "# determine vocab in corpus\n",
    "print(\"transcript_output_vocab\")\n",
    "transcript_output_vocab"
   ]
  },
  {
   "cell_type": "markdown",
   "id": "1db7f220-e4c0-4c34-b877-0ec05be3a9e2",
   "metadata": {},
   "source": [
    "# Get CTC HuBERT text targets from normalised text"
   ]
  },
  {
   "cell_type": "code",
   "execution_count": null,
   "id": "fccb818f-c348-4c2d-9e30-11e426619ace",
   "metadata": {
    "tags": []
   },
   "outputs": [],
   "source": [
    "# process norm text into targets for CTC HuBERT \n",
    "ctc_targets_text = {}\n",
    "for utt_id, text in list(norm_text.items()):\n",
    "    #convert text to IDs\n",
    "    with processor.as_target_processor():\n",
    "        processed = processor(text).input_ids\n",
    "    #convert ids back to tokens\n",
    "    tokens = processor.tokenizer.convert_ids_to_tokens(processed, skip_special_tokens=False)\n",
    "    assert '<unk>' not in tokens\n",
    "    assert '<s>' not in tokens\n",
    "    assert '</s>' not in tokens\n",
    "    assert '<pad>' not in tokens\n",
    "    ctc_targets_text[utt_id] = \"\".join(tokens)"
   ]
  },
  {
   "cell_type": "code",
   "execution_count": null,
   "id": "9a4ee1b6-e1bf-44f0-9dd4-9f9163e1df90",
   "metadata": {
    "tags": []
   },
   "outputs": [],
   "source": [
    "for utt_id, ctc_text in list(ctc_targets_text.items())[:5]:\n",
    "    print(utt_id, \"\\n\", norm_text[utt_id], \"\\n\", ctc_text, \"\\n\")"
   ]
  },
  {
   "cell_type": "markdown",
   "id": "ce359e31-e670-44d2-ad04-52e8a89d394c",
   "metadata": {
    "tags": []
   },
   "source": [
    "# Load LJspeech quantised using hubert (provided by Facebook)\n",
    "Do this to check that number of timesteps agrees with what huggingface Hubert model outputs\n",
    "So that we do not need to regenerate the hubert codes from scratch"
   ]
  },
  {
   "cell_type": "code",
   "execution_count": 125,
   "id": "9595b8df-97c9-4096-a613-c84e8b264939",
   "metadata": {},
   "outputs": [],
   "source": [
    "# load ljspeech hubert codes from disk into dictionary\n",
    "with open(\"/home/s1785140/fairseq/examples/speech_audio_corrector/lj_speech_quantized.txt\") as f:\n",
    "    lines = f.readlines()\n",
    "\n",
    "fb_hubert_codes = {}\n",
    "for l in lines:\n",
    "    utt_id, codes = l.split('|')\n",
    "    codes = codes.split(' ')\n",
    "    codes = [int(c) for c in codes]\n",
    "    fb_hubert_codes[utt_id] = codes"
   ]
  },
  {
   "cell_type": "markdown",
   "id": "052b803f-291a-47b5-8c39-1a03e5116c74",
   "metadata": {},
   "source": [
    "# Generate frame-wise label probability"
   ]
  },
  {
   "cell_type": "code",
   "execution_count": 126,
   "id": "a6a93f4e-5eb7-4ba0-9bb9-31289c5d7652",
   "metadata": {},
   "outputs": [],
   "source": [
    "wav_path = wav_paths[1]\n",
    "utt_id = wav_path.split('/')[-1].split('.')[0]"
   ]
  },
  {
   "cell_type": "markdown",
   "id": "5fbfe144-bc6a-42f6-a10f-eeecb605766c",
   "metadata": {},
   "source": [
    "### pass audio through model"
   ]
  },
  {
   "cell_type": "code",
   "execution_count": 127,
   "id": "2fd4b457-8986-4c83-8b0f-7f4db42cdabc",
   "metadata": {},
   "outputs": [
    {
     "name": "stdout",
     "output_type": "stream",
     "text": [
      "input_values.size() torch.Size([1, 42096])\n",
      "emission.size() torch.Size([1, 131, 32])\n"
     ]
    }
   ],
   "source": [
    "ljspeech_sampling_rate = 22050\n",
    "hubert_sampling_rate = 16000\n",
    "\n",
    "# load speech and resample to same rate as hubert encoder requires\n",
    "speech, _ = sf.read(wav_path)\n",
    "speech = librosa.resample(speech, ljspeech_sampling_rate, hubert_sampling_rate)\n",
    "\n",
    "# get audio inputs for hubert\n",
    "input_values = processor(speech, return_tensors=\"pt\", sampling_rate=hubert_sampling_rate).input_values.to(device)\n",
    "\n",
    "# use hubert to encode audio inputs to logits over output vocabulary (characters)\n",
    "emission = model(input_values).logits\n",
    "\n",
    "# check shapes\n",
    "print(\"input_values.size()\", input_values.size()) # (b_sz, n_waveform_samples)\n",
    "print(\"emission.size()\", emission.size()) # (b_sz, n_frames, n_output_labels)"
   ]
  },
  {
   "cell_type": "markdown",
   "id": "1c020ca1-3027-43e1-ae73-923b8a265b10",
   "metadata": {},
   "source": [
    "### check if len of model CTC ASR outputs matches with hubert discrete codes provided by fb"
   ]
  },
  {
   "cell_type": "code",
   "execution_count": 128,
   "id": "eb40f7e2-34fa-496d-88d5-4fc652e925a8",
   "metadata": {},
   "outputs": [],
   "source": [
    "assert len(fb_hubert_codes[utt_id]) == emission.size(1)"
   ]
  },
  {
   "cell_type": "markdown",
   "id": "b5dfccd2-fc6e-4e07-a170-3c67c0298be0",
   "metadata": {},
   "source": [
    "### compare ASR output with ground truth transcription (sanity check)"
   ]
  },
  {
   "cell_type": "code",
   "execution_count": 116,
   "id": "786752ad-83bb-4eeb-853b-6c7850aced65",
   "metadata": {},
   "outputs": [
    {
     "name": "stdout",
     "output_type": "stream",
     "text": [
      "utt_id LJ041-0060\n",
      "asr_transcript CARIE THORNLY A MARINE ASSOCIATE\n",
      "real_transcript KERRY THORNLEY A MARINE ASSOCIATE\n"
     ]
    }
   ],
   "source": [
    "# inspect ASR decoded transcription vs ground truth transcription\n",
    "predicted_ids = torch.argmax(emission, dim=-1)\n",
    "asr_transcript = processor.decode(predicted_ids[0])\n",
    "print(\"utt_id\", utt_id)\n",
    "print(\"asr_transcript\", asr_transcript)\n",
    "print(\"real_transcript\", norm_text[utt_id])"
   ]
  },
  {
   "cell_type": "code",
   "execution_count": 117,
   "id": "1013c979-6396-4b53-aee0-d8cb95528e06",
   "metadata": {},
   "outputs": [
    {
     "data": {
      "text/plain": [
       "131"
      ]
     },
     "execution_count": 117,
     "metadata": {},
     "output_type": "execute_result"
    }
   ],
   "source": [
    "s = \"71 89 59 59 33 0 0 0 0 30 30 30 25 25 11 11 64 65 65 3 3 3 3 3 3 3 87 48 48 48 48 48 46 46 30 44 44 80 80 18 90 90 35 35 35 11 11 11 11 11 11 64 64 64 64 64 37 57 37 57 86 73 73 16 50 50 50 52 52 30 70 70 70 52 25 25 11 45 45 45 64 64 64 80 80 18 37 57 86 86 73 6 6 15 15 36 36 7 7 87 97 97 97 65 65 6 36 36 36 7 7 11 11 11 64 53 53 53 42 42 74 2 31 31 41 41 84 57 96 20 20\"\n",
    "items = s.split(\" \")\n",
    "len(items)"
   ]
  },
  {
   "cell_type": "markdown",
   "id": "97a623a7-ab2b-4088-b714-8957693b704e",
   "metadata": {},
   "source": [
    "### visualise output emission/logits"
   ]
  },
  {
   "cell_type": "code",
   "execution_count": 112,
   "id": "e4ce85f9-658f-4251-abc5-0e70fa89e096",
   "metadata": {},
   "outputs": [
    {
     "data": {
      "image/png": "[encoded data removed]",
      "text/plain": [
       "<Figure size 1152x345.6 with 2 Axes>"
      ]
     },
     "metadata": {
      "needs_background": "light"
     },
     "output_type": "display_data"
    }
   ],
   "source": [
    "plt.imshow(emission.cpu().detach().T)\n",
    "plt.colorbar()\n",
    "plt.title(\"Frame-wise class probability\")\n",
    "plt.xlabel(\"Time\")\n",
    "plt.ylabel(\"Labels\")\n",
    "plt.show()"
   ]
  },
  {
   "cell_type": "markdown",
   "id": "b509f18f-d59b-4328-8754-06dbc6cda415",
   "metadata": {
    "tags": []
   },
   "source": [
    "# Generate alignment probability (trellis)"
   ]
  },
  {
   "cell_type": "code",
   "execution_count": null,
   "id": "c993ba9c-0d56-402e-a59e-93c5c36d6430",
   "metadata": {},
   "outputs": [],
   "source": [
    "# visualise"
   ]
  },
  {
   "cell_type": "markdown",
   "id": "3fd5dd20-4a1d-415e-a75c-6b4d4d0b695e",
   "metadata": {},
   "source": [
    "# Find the most likely path (backtracking)"
   ]
  },
  {
   "cell_type": "code",
   "execution_count": null,
   "id": "146655b6-6142-4626-8aa3-d48b82025045",
   "metadata": {},
   "outputs": [],
   "source": [
    "# visualise"
   ]
  },
  {
   "cell_type": "markdown",
   "id": "05419a95-66c6-48cd-9e99-72db6a57aa31",
   "metadata": {},
   "source": [
    "# old code from /Users/jonojace/github/fairseq/examples/speech_audio_corrector/Hubert_ASR_generate_transcripts.py"
   ]
  },
  {
   "cell_type": "code",
   "execution_count": null,
   "id": "ffa90f19-e78b-472a-b2d1-fd682a528537",
   "metadata": {},
   "outputs": [],
   "source": [
    "# import torch\n",
    "# from transformers import HubertForCTC, Wav2Vec2Processor\n",
    "# from datasets import load_dataset\n",
    "# import soundfile as sf\n",
    "# import librosa\n",
    "\n",
    "# processor = Wav2Vec2Processor.from_pretrained(\"facebook/hubert-large-ls960-ft\")\n",
    "# model = HubertForCTC.from_pretrained(\"facebook/hubert-large-ls960-ft\")\n",
    "\n",
    "# def replace_pad(l, new_symbol='-'):\n",
    "#     \"\"\"<pad> refers to epsilon in CTC replace with another symbol for readability\"\"\"\n",
    "#     new_l = []\n",
    "#     for x in l:\n",
    "#         if x == \"<pad>\":\n",
    "#             new_l.append(new_symbol)\n",
    "#         else:\n",
    "#             new_l.append(x)\n",
    "#     return new_l\n",
    "\n",
    "\n",
    "# from itertools import groupby\n",
    "\n",
    "\n",
    "# def reduce_tokens(\n",
    "#         tokens,\n",
    "#         pad_symbol=\"<pad>\",\n",
    "#         word_boundary_symbol=\"|\",\n",
    "#         remove_epsilons=True,\n",
    "#         no_repeat_epsilons=False,\n",
    "#         no_repeat_word_boundaries=False,\n",
    "#         no_repeat_graphemes=False,\n",
    "# ):\n",
    "#     \"\"\"\n",
    "#     reduce a sequence of CTC output tokens that contains\n",
    "\n",
    "#     args:\n",
    "#         tokens: list of CTC model tokens to reduce\n",
    "#         remove_epsilons: whether or not to leave epsilons in\n",
    "#         no_repeat_epsilons: whether to reduce repeated epsilons to just one\n",
    "#         no_repeat_graphemes: whether to reduce repeated graphemes to just one\n",
    "#     \"\"\"\n",
    "#     reduced_tokens = []\n",
    "#     all_symbols = []\n",
    "#     all_durations = []\n",
    "\n",
    "#     for symbol, group in groupby(tokens):\n",
    "#         duration = sum(1 for _ in group)\n",
    "#         all_symbols.append(symbol)\n",
    "#         all_durations.append(duration)\n",
    "\n",
    "#         if symbol == pad_symbol:\n",
    "#             if remove_epsilons:\n",
    "#                 pass\n",
    "#             elif no_repeat_epsilons:\n",
    "#                 reduced_tokens.append(symbol)\n",
    "#             else:\n",
    "#                 reduced_tokens.extend(duration * [symbol])\n",
    "#         elif symbol == word_boundary_symbol:\n",
    "#             if no_repeat_word_boundaries:\n",
    "#                 reduced_tokens.append(symbol)\n",
    "#             else:\n",
    "#                 reduced_tokens.extend(duration * [symbol])\n",
    "#         else:\n",
    "#             if no_repeat_graphemes:\n",
    "#                 reduced_tokens.append(symbol)\n",
    "#             else:\n",
    "#                 reduced_tokens.extend(duration * [symbol])\n",
    "\n",
    "#     return reduced_tokens, all_symbols, all_durations\n",
    "\n",
    "\n",
    "# import os\n",
    "# wav_dir = \"/home/s1785140/data/LJSpeech-1.1/wavs\"\n",
    "# wavs = os.listdir(wav_dir)\n",
    "# wav_paths = [os.path.join(wav_dir, wav) for wav in wavs]\n",
    "\n",
    "# from tqdm import tqdm\n",
    "\n",
    "# outdir = \"/home/s1785140/data/LJSpeech-1.1/hubert_asr_transcription\"\n",
    "# outdir_with_repeats = \"/home/s1785140/data/LJSpeech-1.1/hubert_asr_transcription_with_grapheme_repeats\"\n",
    "# outdir_raw_outputs = \"/home/s1785140/data/LJSpeech-1.1/hubert_asr_raw_outputs\"\n",
    "\n",
    "# os.makedirs(outdir, exist_ok=True)\n",
    "# os.makedirs(outdir_with_repeats, exist_ok=True)\n",
    "# os.makedirs(outdir_raw_outputs, exist_ok=True)\n",
    "\n",
    "# print(len(wav_paths))\n",
    "\n",
    "# all_transcriptions = []\n",
    "# all_alt_transcriptions = []\n",
    "# all_raw_outputs = []\n",
    "\n",
    "# ljspeech_sampling_rate = 22050\n",
    "# hubert_sampling_rate = 16000\n",
    "\n",
    "# for i, wav_path in enumerate(tqdm(wav_paths[:])):\n",
    "#     speech, _ = sf.read(wav_path)\n",
    "#     speech = librosa.resample(speech, ljspeech_sampling_rate, hubert_sampling_rate)\n",
    "#     utt_id = wav_path.split('/')[-1].split('.')[0]\n",
    "#     input_values = processor(speech, return_tensors=\"pt\").input_values\n",
    "#     logits = model(input_values).logits\n",
    "#     predicted_ids = torch.argmax(logits, dim=-1)\n",
    "#     transcription = processor.decode(predicted_ids[0])\n",
    "\n",
    "#     filtered_tokens = processor.tokenizer.convert_ids_to_tokens(predicted_ids[0].tolist(), skip_special_tokens=False)\n",
    "#     reduced_tokens, all_symbols, all_durations = reduce_tokens(\n",
    "#         filtered_tokens,\n",
    "#         remove_epsilons=True,\n",
    "#         no_repeat_epsilons=False,\n",
    "#         no_repeat_word_boundaries=True,\n",
    "#         no_repeat_graphemes=False\n",
    "#     )\n",
    "#     alt_transcription = replace_pad(reduced_tokens)\n",
    "#     alt_transcription = [sym if sym != \"|\" else \" \" for sym in alt_transcription]\n",
    "#     alt_transcription = \"\".join(alt_transcription)\n",
    "\n",
    "#     raw_outputs = replace_pad(filtered_tokens)\n",
    "#     raw_outputs = [sym if sym != \"|\" else \" \" for sym in raw_outputs]\n",
    "#     raw_outputs = \"\".join(raw_outputs)\n",
    "\n",
    "#     print(i, '===', raw_outputs)\n",
    "#     print(i, '===', transcription)\n",
    "#     print(i, '===', alt_transcription)\n",
    "\n",
    "#     all_transcriptions.append(f\"{utt_id}||{transcription.lower()}\")\n",
    "#     all_alt_transcriptions.append(f\"{utt_id}||{alt_transcription.lower()}\")\n",
    "#     all_raw_outputs.append(f\"{utt_id}||{raw_outputs.lower()}\")\n",
    "\n",
    "#     outfile = f\"{utt_id}.txt\"\n",
    "\n",
    "#     # save proper transcription\n",
    "#     with open(os.path.join(outdir, outfile), 'w') as f:\n",
    "#         f.write(all_transcriptions[-1])\n",
    "\n",
    "#     # save alternative transcription\n",
    "#     with open(os.path.join(outdir_with_repeats, outfile), 'w') as f:\n",
    "#         f.write(all_alt_transcriptions[-1])\n",
    "\n",
    "#     # save raw outputs\n",
    "#     with open(os.path.join(outdir_raw_outputs, outfile), 'w') as f:\n",
    "#         f.write(all_raw_outputs[-1])\n",
    "\n",
    "# outfile = f\"metadata.csv\"\n",
    "\n",
    "# all_transcriptions = sorted(all_transcriptions)\n",
    "# all_alt_transcriptions = sorted(all_alt_transcriptions)\n",
    "# all_raw_outputs = sorted(all_raw_outputs)\n",
    "\n",
    "# print(all_transcriptions)\n",
    "# print(all_alt_transcriptions)\n",
    "# print(all_raw_outputs)\n",
    "\n",
    "# # save proper transcription\n",
    "# with open(os.path.join(outdir, outfile), 'w') as f:\n",
    "#     f.write(\"\\n\".join(all_transcriptions))\n",
    "\n",
    "# # save alternative transcription\n",
    "# with open(os.path.join(outdir_with_repeats, outfile), 'w') as f:\n",
    "#     f.write(\"\\n\".join(all_alt_transcriptions))\n",
    "\n",
    "# # save raw outputs\n",
    "# with open(os.path.join(outdir_raw_outputs, outfile), 'w') as f:\n",
    "#     f.write(\"\\n\".join(all_raw_outputs))\n"
   ]
  }
 ],
 "metadata": {
  "kernelspec": {
   "display_name": "Python [conda env:huggingface]",
   "language": "python",
   "name": "conda-env-huggingface-py"
  },
  "language_info": {
   "codemirror_mode": {
    "name": "ipython",
    "version": 3
   },
   "file_extension": ".py",
   "mimetype": "text/x-python",
   "name": "python",
   "nbconvert_exporter": "python",
   "pygments_lexer": "ipython3",
   "version": "3.8.12"
  }
 },
 "nbformat": 4,
 "nbformat_minor": 5
}