{
 "cells": [
  {
   "cell_type": "code",
   "execution_count": 109,
   "id": "46f19e3d-247a-42d4-866a-7b5afa3bbec7",
   "metadata": {
    "pycharm": {
     "name": "#%%\n"
    }
   },
   "outputs": [],
   "source": [
    "import glob\n",
    "import re\n",
    "import os\n",
    "import matplotlib.pyplot as plt"
   ]
  },
  {
   "cell_type": "code",
   "execution_count": 110,
   "id": "b1ed54cf-4647-44bb-9e9e-253ac7b4b67b",
   "metadata": {
    "pycharm": {
     "name": "#%%\n"
    }
   },
   "outputs": [],
   "source": [
    "def get_mcdinfo(model_infer_dir, ignore_checkpoint_last=False):\n",
    "    mcd_paths = glob.glob(model_infer_dir + \"/**/mcd.txt\", recursive=True)\n",
    "    checkpoint2mcdinfo = {} \n",
    "\n",
    "    for p in mcd_paths:\n",
    "        \n",
    "        \n",
    "        checkpointname = os.path.dirname(p).split('/')[-1]\n",
    "        assert 'checkpoint' in checkpointname\n",
    "        checkpointnum = checkpointname.lstrip('checkpoint')\n",
    "        if checkpointnum == '_last': # checkpoint was not called checkpoint_last\n",
    "            if ignore_checkpoint_last:\n",
    "                continue\n",
    "            else:\n",
    "                checkpointnum = -1 # rename \n",
    "        else:\n",
    "            checkpointnum = int(checkpointnum)\n",
    "        \n",
    "        \n",
    "        with open(p, 'r') as f:\n",
    "            txt = f.read()\n",
    "        mcdinfo = {}\n",
    "        mcdinfo[\"nutt\"] = int(re.findall(r\"nutt: (\\d+)\", txt)[0])\n",
    "        mcdinfo[\"dist\"] = float(re.findall(r\"dist: (\\d+\\.\\d+)\", txt)[0])\n",
    "        mcdinfo[\"dur_ref\"] = int(re.findall(r\"dur_ref: (\\d+)\", txt)[0])\n",
    "        mcdinfo[\"dur_syn\"] = int(re.findall(r\"dur_syn: (\\d+)\", txt)[0])\n",
    "        mcdinfo[\"dur_ali\"] = int(re.findall(r\"dur_ali: (\\d+)\", txt)[0])\n",
    "        mcdinfo[\"dist_per_ref_frm\"] = float(re.findall(r\"dist_per_ref_frm: (\\d+\\.\\d+)\", txt)[0])\n",
    "        mcdinfo[\"dist_per_syn_frm\"] = float(re.findall(r\"dist_per_syn_frm: (\\d+\\.\\d+)\", txt)[0])\n",
    "        mcdinfo[\"dist_per_ali_frm\"] = float(re.findall(r\"dist_per_ali_frm: (\\d+\\.\\d+)\", txt)[0])\n",
    "        mcdinfo[\"ins\"] = float(re.findall(r\"ins: (\\d+\\.\\d+)\", txt)[0])\n",
    "        mcdinfo[\"del\"] = float(re.findall(r\"del: (\\d+\\.\\d+)\", txt)[0])\n",
    "\n",
    "        checkpoint2mcdinfo[checkpointnum] = mcdinfo\n",
    "    return sorted(checkpoint2mcdinfo.items())"
   ]
  },
  {
   "cell_type": "code",
   "execution_count": 111,
   "id": "41632aa3-97bb-4fee-870d-fac5ae4a0c14",
   "metadata": {
    "pycharm": {
     "name": "#%%\n"
    }
   },
   "outputs": [],
   "source": [
    "# use checkpoint2mcdinfo to plot mcd data for the checkpoints\n",
    "\n",
    "def plot_checkpoint2mcdinfo(checkpoint2mcdinfo, model_name):\n",
    "    xs = [chkpt_num for chkpt_num, mcdinfo in checkpoint2mcdinfo]\n",
    "    ys = [mcdinfo[\"dist_per_ali_frm\"] for chkpt_num, mcdinfo in checkpoint2mcdinfo]\n",
    "    plt.title(f\"{model_name} MCD (NB checkpoint -1 is the latest one)\")\n",
    "    plt.plot(xs,ys, marker='o')"
   ]
  },
  {
   "cell_type": "code",
   "execution_count": 113,
   "id": "8c4e59dc-d664-4121-b35e-69d1413679df",
   "metadata": {
    "pycharm": {
     "name": "#%%\n"
    }
   },
   "outputs": [
    {
     "data": {
      "image/png": "[encoded data removed]",
      "text/plain": [
       "<Figure size 432x288 with 1 Axes>"
      ]
     },
     "metadata": {
      "needs_background": "light"
     },
     "output_type": "display_data"
    }
   ],
   "source": [
    "models = [\n",
    "\"run3_SAC_remove_dup_codes\", \n",
    "\"run3_SAC_eos_symbol_in_middle\", \n",
    "\"run3_SAC_one_mask_tok_per_word\", \n",
    "\"run3_SAC_one_mask_tok_per_grapheme\", \n",
    "\"run3_SAC_dont_mask_encoder_out_speech_timesteps\", \n",
    "]\n",
    "\n",
    "for model in models:\n",
    "    model_infer_dir_formatstr = \"/home/s1785140/fairseq/inference/{}\"\n",
    "    model_infer_dir = model_infer_dir_formatstr.format(model)\n",
    "    checkpoint2mcdinfo = get_mcdinfo(model_infer_dir, ignore_checkpoint_last=True)\n",
    "    plot_checkpoint2mcdinfo(checkpoint2mcdinfo, model)"
   ]
  },
  {
   "cell_type": "code",
   "execution_count": null,
   "id": "c9eb3af2-4367-421b-a1ca-bd5ec31557aa",
   "metadata": {
    "pycharm": {
     "name": "#%%\n"
    }
   },
   "outputs": [],
   "source": []
  }
 ],
 "metadata": {
  "kernelspec": {
   "display_name": "Python [conda env:fairseq] *",
   "language": "python",
   "name": "conda-env-fairseq-py"
  },
  "language_info": {
   "codemirror_mode": {
    "name": "ipython",
    "version": 3
   },
   "file_extension": ".py",
   "mimetype": "text/x-python",
   "name": "python",
   "nbconvert_exporter": "python",
   "pygments_lexer": "ipython3",
   "version": "3.7.0"
  }
 },
 "nbformat": 4,
 "nbformat_minor": 5
}