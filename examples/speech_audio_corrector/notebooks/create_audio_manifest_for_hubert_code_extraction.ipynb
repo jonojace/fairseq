{
 "cells": [
  {
   "cell_type": "code",
   "execution_count": 4,
   "id": "c0452999-4a73-4b49-bf55-c57fee73ba8d",
   "metadata": {},
   "outputs": [],
   "source": [
    "import glob"
   ]
  },
  {
   "cell_type": "code",
   "execution_count": 5,
   "id": "32ec131e-a339-4efb-aa4e-a0e855800fe2",
   "metadata": {},
   "outputs": [],
   "source": [
    "# get all VCTK wavs\n",
    "def get_files(path): # taken from mrotha WAVERNN github\n",
    "    next_speaker_id = 0\n",
    "    speaker_ids = {}\n",
    "    filenames = []\n",
    "    for filename in glob.iglob(f'{path}/**/*.wav', recursive=True):\n",
    "        speaker_name = filename.split('/')[-2]\n",
    "        if speaker_name not in speaker_ids:\n",
    "            speaker_ids[speaker_name] = next_speaker_id\n",
    "            next_speaker_id += 1\n",
    "            filenames.append([])\n",
    "        filenames[speaker_ids[speaker_name]].append(filename)\n",
    "\n",
    "    return filenames\n"
   ]
  },
  {
   "cell_type": "code",
   "execution_count": 23,
   "id": "a9d6d9aa-3693-4160-9d96-e88c86851858",
   "metadata": {},
   "outputs": [],
   "source": [
    "vctk_path = \"/home/s1785140/data/vqvae_wavernn_trimmed_wavs_16kHz\"\n",
    "files = get_files(vctk_path)"
   ]
  },
  {
   "cell_type": "code",
   "execution_count": 24,
   "id": "40cdc5b6-0155-41fe-bbd1-8284d6641cc1",
   "metadata": {},
   "outputs": [],
   "source": [
    "all_wavs = []\n",
    "for speaker_list in files:\n",
    "    for wav_path in speaker_list:\n",
    "        all_wavs.append(wav_path)"
   ]
  },
  {
   "cell_type": "code",
   "execution_count": 25,
   "id": "92c939ab-a527-4f2c-87ab-a6b26620f7f2",
   "metadata": {},
   "outputs": [
    {
     "data": {
      "text/plain": [
       "'/home/s1785140/data/vqvae_wavernn_trimmed_wavs_16kHz/p225/p225_001.wav'"
      ]
     },
     "execution_count": 25,
     "metadata": {},
     "output_type": "execute_result"
    }
   ],
   "source": [
    "#create lines to write to disk\n",
    "len(all_wavs)\n",
    "all_wavs[0]"
   ]
  },
  {
   "cell_type": "code",
   "execution_count": 26,
   "id": "b7294d9b-4ced-42d7-b82f-be31cd0d4591",
   "metadata": {},
   "outputs": [],
   "source": [
    "#write to disk\n",
    "outfile = \"/home/s1785140/fairseq/examples/speech_audio_corrector/manifests/vctk.txt\"\n",
    "with open(outfile, 'w') as f:\n",
    "    f.write(\"\\n\".join([f\"{wav_path}\\t0\" for wav_path in all_wavs])) #ok to put 0 as num of frames of the audio file"
   ]
  },
  {
   "cell_type": "code",
   "execution_count": null,
   "id": "4dbd58eb-c3e8-49a8-ad7b-db1628d69091",
   "metadata": {},
   "outputs": [],
   "source": []
  }
 ],
 "metadata": {
  "kernelspec": {
   "display_name": "Python (fairseq)",
   "language": "python",
   "name": "fairseq"
  },
  "language_info": {
   "codemirror_mode": {
    "name": "ipython",
    "version": 3
   },
   "file_extension": ".py",
   "mimetype": "text/x-python",
   "name": "python",
   "nbconvert_exporter": "python",
   "pygments_lexer": "ipython3",
   "version": "3.7.0"
  }
 },
 "nbformat": 4,
 "nbformat_minor": 5
}
