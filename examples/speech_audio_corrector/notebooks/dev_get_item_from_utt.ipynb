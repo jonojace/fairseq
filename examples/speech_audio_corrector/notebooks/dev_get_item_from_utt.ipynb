{
 "cells": [
  {
   "cell_type": "code",
   "execution_count": 1,
   "id": "2923ee1a-1ca7-4550-a64f-a159a2e5a11a",
   "metadata": {
    "pycharm": {
     "name": "#%%\n"
    }
   },
   "outputs": [],
   "source": [
    "utt = \"Say <you> now\"\n",
    "\n",
    "# Process text\n",
    "raw_tokens = utt.lower().split(' ')\n",
    "\n",
    "tokens = []\n",
    "for token_pos, raw_token in enumerate(raw_tokens, 1):\n",
    "    if raw_token.startswith('<') and raw_token.endswith('>'):\n",
    "        tokens.append({\"word\":raw_token.lstrip('<').rstrip('>'), \"word_pos\":token_pos, \"mask\":True})\n",
    "    else:\n",
    "        tokens.append({\"word\":raw_token, \"word_pos\":token_pos, \"mask\":False})\n",
    "\n",
    "# get tokenized text \n",
    "bpe_whitespace_tok=\"▁\"\n",
    "bpe_whitespace_tok_pos = 0\n",
    "\n",
    "# add whitespace tokens before each token\n",
    "tmp_tokens = []\n",
    "for token in tokens:\n",
    "    tmp_tokens.append({\"word\": bpe_whitespace_tok})\n",
    "    tmp_tokens.append(token)\n",
    "tokens = tmp_tokens\n",
    "\n",
    "# get characters and positions of each character\n",
    "graphemes = []\n",
    "word_pos_of_graphemes = []\n",
    "\n",
    "for token in tokens:\n",
    "    if token[\"word\"] == bpe_whitespace_tok:\n",
    "        graphemes.append(bpe_whitespace_tok)\n",
    "        word_pos_of_graphemes.append(bpe_whitespace_tok_pos)\n",
    "    else:\n",
    "        for c in token[\"word\"]:\n",
    "            graphemes.append(c)\n",
    "            word_pos_of_graphemes.append(token[\"word_pos\"])\n",
    "        \n",
    "eos_symbol = \"</s>\"\n",
    "eos_symbol_pos = 0\n",
    "graphemes.append(eos_symbol)\n",
    "word_pos_of_graphemes.append(eos_symbol_pos)"
   ]
  },
  {
   "cell_type": "code",
   "execution_count": 2,
   "id": "b0ea7dfe-e448-4977-9b86-8ff68674b8e8",
   "metadata": {
    "pycharm": {
     "name": "#%%\n"
    }
   },
   "outputs": [
    {
     "name": "stdout",
     "output_type": "stream",
     "text": [
      "['▁', 's', 'a', 'y', '▁', 'y', 'o', 'u', '▁', 'n', 'o', 'w', '</s>']\n",
      "[0, 1, 1, 1, 0, 2, 2, 2, 0, 3, 3, 3, 0]\n"
     ]
    }
   ],
   "source": [
    "print(graphemes)\n",
    "print(word_pos_of_graphemes)"
   ]
  },
  {
   "cell_type": "code",
   "execution_count": 3,
   "id": "4f4d08cd-8c17-414f-a1a6-8e33d31f9fb4",
   "metadata": {
    "pycharm": {
     "name": "#%%\n"
    }
   },
   "outputs": [
    {
     "name": "stdout",
     "output_type": "stream",
     "text": [
      "hello world\n"
     ]
    }
   ],
   "source": [
    "print('hello world')"
   ]
  },
  {
   "cell_type": "code",
   "execution_count": 24,
   "id": "268b4c49-a8ea-4ebe-89b6-b222fb0850f6",
   "metadata": {
    "pycharm": {
     "name": "#%%\n"
    }
   },
   "outputs": [
    {
     "name": "stdout",
     "output_type": "stream",
     "text": [
      "0 1\n",
      "1 2\n",
      "3 5\n",
      "8 13\n",
      "21 34\n",
      "55 89\n",
      "144 233\n",
      "377 610\n",
      "987 1597\n",
      "2584 4181\n"
     ]
    }
   ],
   "source": [
    "x=0\n",
    "y=1\n",
    "for _ in range (10):\n",
    "    print (x,y)\n",
    "    x+=y\n",
    "    y+=x\n",
    "    "
   ]
  },
  {
   "cell_type": "code",
   "execution_count": 25,
   "id": "59a71b0f-eaed-4b32-8ad7-c814d41765a5",
   "metadata": {
    "pycharm": {
     "name": "#%%\n"
    }
   },
   "outputs": [
    {
     "name": "stdout",
     "output_type": "stream",
     "text": [
      "[1, 1, 2, 3, 5, 8, 13, 21, 34, 55, 89, 144]\n"
     ]
    }
   ],
   "source": [
    "fibonacci = [1, 1]\n",
    "for _ in range(10):\n",
    "    prev1 = fibonacci[-1]\n",
    "    prev2 = fibonacci[-2]\n",
    "    fibonacci.append(prev1 + prev2)\n",
    "    \n",
    "print(fibonacci)"
   ]
  },
  {
   "cell_type": "code",
   "execution_count": 18,
   "id": "a909f862-7099-4b67-b466-d9bac99a9300",
   "metadata": {
    "pycharm": {
     "name": "#%%\n"
    }
   },
   "outputs": [],
   "source": [
    "l = [1,2,3,4]"
   ]
  },
  {
   "cell_type": "code",
   "execution_count": 19,
   "id": "9350b362-42f7-4bed-908b-5d744f911864",
   "metadata": {
    "pycharm": {
     "name": "#%%\n"
    }
   },
   "outputs": [],
   "source": [
    "l.append(\"hello\")"
   ]
  },
  {
   "cell_type": "code",
   "execution_count": 20,
   "id": "0ebd9383-5306-4869-af6d-eaf773d28d9b",
   "metadata": {
    "pycharm": {
     "name": "#%%\n"
    }
   },
   "outputs": [
    {
     "data": {
      "text/plain": [
       "[1, 2, 3, 4, 'hello']"
      ]
     },
     "execution_count": 20,
     "metadata": {},
     "output_type": "execute_result"
    }
   ],
   "source": [
    "l"
   ]
  },
  {
   "cell_type": "code",
   "execution_count": null,
   "id": "dde4a845-cf3c-47e0-873f-2d05bbb25391",
   "metadata": {
    "pycharm": {
     "name": "#%%\n"
    }
   },
   "outputs": [],
   "source": []
  }
 ],
 "metadata": {
  "kernelspec": {
   "display_name": "Python 3 (ipykernel)",
   "language": "python",
   "name": "python3"
  },
  "language_info": {
   "codemirror_mode": {
    "name": "ipython",
    "version": 3
   },
   "file_extension": ".py",
   "mimetype": "text/x-python",
   "name": "python",
   "nbconvert_exporter": "python",
   "pygments_lexer": "ipython3",
   "version": "3.7.0"
  }
 },
 "nbformat": 4,
 "nbformat_minor": 5
}